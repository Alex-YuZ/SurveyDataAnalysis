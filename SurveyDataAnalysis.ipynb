{
 "cells": [
  {
   "cell_type": "markdown",
   "id": "656f0e5a",
   "metadata": {},
   "source": [
    "# StackOverflow Survey Data Analysis"
   ]
  },
  {
   "cell_type": "markdown",
   "id": "7c3ba0a4",
   "metadata": {},
   "source": [
    "## A Look at the Data\n",
    "\n",
    "In order to get a better understanding of the data, some of the characteristics of the dataset will be explored as follows.\n",
    "\n",
    "1. Number of rows and columns in this dataset.\n",
    "2. Provide a set of column names that have no missing values.\n",
    "3. Which columns have the most missing values? Provide a set of column names that have more than 75% of their values missing.\n",
    "4. Provide a pandas series of the different **Professional** status values in the dataset along with the count of the number of individuals with each status.\n",
    "5. Provide a pandas series of the different FormalEducation status values in the dataset along with the count of how many individuals received that formal education.\n",
    "6. Provide a pandas series of the different Country values in the dataset along with the count of how many individuals are from each country. "
   ]
  },
  {
   "cell_type": "code",
   "execution_count": 17,
   "id": "41744ae7",
   "metadata": {},
   "outputs": [],
   "source": [
    "# Import necessary libraries\n",
    "import os\n",
    "import numpy as np\n",
    "import pandas as pd\n",
    "import matplotlib.pyplot as plt\n",
    "import seaborn as sns\n",
    "from sklearn.linear_model import LinearRegression\n",
    "from sklearn.metrics import r2_score\n",
    "from sklearn.model_selection import train_test_split\n",
    "import helper as h"
   ]
  },
  {
   "cell_type": "code",
   "execution_count": 18,
   "id": "dd11326c",
   "metadata": {},
   "outputs": [],
   "source": [
    "os.chdir(\"projects_on_GitHub/cases/SurveyDataAnalysis\")"
   ]
  },
  {
   "cell_type": "code",
   "execution_count": 417,
   "id": "75d3b4eb",
   "metadata": {},
   "outputs": [
    {
     "data": {
      "text/html": [
       "<div>\n",
       "<style scoped>\n",
       "    .dataframe tbody tr th:only-of-type {\n",
       "        vertical-align: middle;\n",
       "    }\n",
       "\n",
       "    .dataframe tbody tr th {\n",
       "        vertical-align: top;\n",
       "    }\n",
       "\n",
       "    .dataframe thead th {\n",
       "        text-align: right;\n",
       "    }\n",
       "</style>\n",
       "<table border=\"1\" class=\"dataframe\">\n",
       "  <thead>\n",
       "    <tr style=\"text-align: right;\">\n",
       "      <th></th>\n",
       "      <th>Respondent</th>\n",
       "      <th>Professional</th>\n",
       "      <th>ProgramHobby</th>\n",
       "      <th>Country</th>\n",
       "      <th>University</th>\n",
       "      <th>EmploymentStatus</th>\n",
       "      <th>FormalEducation</th>\n",
       "      <th>MajorUndergrad</th>\n",
       "      <th>HomeRemote</th>\n",
       "      <th>CompanySize</th>\n",
       "      <th>...</th>\n",
       "      <th>StackOverflowMakeMoney</th>\n",
       "      <th>Gender</th>\n",
       "      <th>HighestEducationParents</th>\n",
       "      <th>Race</th>\n",
       "      <th>SurveyLong</th>\n",
       "      <th>QuestionsInteresting</th>\n",
       "      <th>QuestionsConfusing</th>\n",
       "      <th>InterestedAnswers</th>\n",
       "      <th>Salary</th>\n",
       "      <th>ExpectedSalary</th>\n",
       "    </tr>\n",
       "  </thead>\n",
       "  <tbody>\n",
       "    <tr>\n",
       "      <th>0</th>\n",
       "      <td>1</td>\n",
       "      <td>Student</td>\n",
       "      <td>Yes, both</td>\n",
       "      <td>United States</td>\n",
       "      <td>No</td>\n",
       "      <td>Not employed, and not looking for work</td>\n",
       "      <td>Secondary school</td>\n",
       "      <td>NaN</td>\n",
       "      <td>NaN</td>\n",
       "      <td>NaN</td>\n",
       "      <td>...</td>\n",
       "      <td>Strongly disagree</td>\n",
       "      <td>Male</td>\n",
       "      <td>High school</td>\n",
       "      <td>White or of European descent</td>\n",
       "      <td>Strongly disagree</td>\n",
       "      <td>Strongly agree</td>\n",
       "      <td>Disagree</td>\n",
       "      <td>Strongly agree</td>\n",
       "      <td>NaN</td>\n",
       "      <td>NaN</td>\n",
       "    </tr>\n",
       "    <tr>\n",
       "      <th>1</th>\n",
       "      <td>2</td>\n",
       "      <td>Student</td>\n",
       "      <td>Yes, both</td>\n",
       "      <td>United Kingdom</td>\n",
       "      <td>Yes, full-time</td>\n",
       "      <td>Employed part-time</td>\n",
       "      <td>Some college/university study without earning ...</td>\n",
       "      <td>Computer science or software engineering</td>\n",
       "      <td>More than half, but not all, the time</td>\n",
       "      <td>20 to 99 employees</td>\n",
       "      <td>...</td>\n",
       "      <td>Strongly disagree</td>\n",
       "      <td>Male</td>\n",
       "      <td>A master's degree</td>\n",
       "      <td>White or of European descent</td>\n",
       "      <td>Somewhat agree</td>\n",
       "      <td>Somewhat agree</td>\n",
       "      <td>Disagree</td>\n",
       "      <td>Strongly agree</td>\n",
       "      <td>NaN</td>\n",
       "      <td>37500.0</td>\n",
       "    </tr>\n",
       "    <tr>\n",
       "      <th>2</th>\n",
       "      <td>3</td>\n",
       "      <td>Professional developer</td>\n",
       "      <td>Yes, both</td>\n",
       "      <td>United Kingdom</td>\n",
       "      <td>No</td>\n",
       "      <td>Employed full-time</td>\n",
       "      <td>Bachelor's degree</td>\n",
       "      <td>Computer science or software engineering</td>\n",
       "      <td>Less than half the time, but at least one day ...</td>\n",
       "      <td>10,000 or more employees</td>\n",
       "      <td>...</td>\n",
       "      <td>Disagree</td>\n",
       "      <td>Male</td>\n",
       "      <td>A professional degree</td>\n",
       "      <td>White or of European descent</td>\n",
       "      <td>Somewhat agree</td>\n",
       "      <td>Agree</td>\n",
       "      <td>Disagree</td>\n",
       "      <td>Agree</td>\n",
       "      <td>113750.0</td>\n",
       "      <td>NaN</td>\n",
       "    </tr>\n",
       "    <tr>\n",
       "      <th>3</th>\n",
       "      <td>4</td>\n",
       "      <td>Professional non-developer who sometimes write...</td>\n",
       "      <td>Yes, both</td>\n",
       "      <td>United States</td>\n",
       "      <td>No</td>\n",
       "      <td>Employed full-time</td>\n",
       "      <td>Doctoral degree</td>\n",
       "      <td>A non-computer-focused engineering discipline</td>\n",
       "      <td>Less than half the time, but at least one day ...</td>\n",
       "      <td>10,000 or more employees</td>\n",
       "      <td>...</td>\n",
       "      <td>Disagree</td>\n",
       "      <td>Male</td>\n",
       "      <td>A doctoral degree</td>\n",
       "      <td>White or of European descent</td>\n",
       "      <td>Agree</td>\n",
       "      <td>Agree</td>\n",
       "      <td>Somewhat agree</td>\n",
       "      <td>Strongly agree</td>\n",
       "      <td>NaN</td>\n",
       "      <td>NaN</td>\n",
       "    </tr>\n",
       "    <tr>\n",
       "      <th>4</th>\n",
       "      <td>5</td>\n",
       "      <td>Professional developer</td>\n",
       "      <td>Yes, I program as a hobby</td>\n",
       "      <td>Switzerland</td>\n",
       "      <td>No</td>\n",
       "      <td>Employed full-time</td>\n",
       "      <td>Master's degree</td>\n",
       "      <td>Computer science or software engineering</td>\n",
       "      <td>Never</td>\n",
       "      <td>10 to 19 employees</td>\n",
       "      <td>...</td>\n",
       "      <td>NaN</td>\n",
       "      <td>NaN</td>\n",
       "      <td>NaN</td>\n",
       "      <td>NaN</td>\n",
       "      <td>NaN</td>\n",
       "      <td>NaN</td>\n",
       "      <td>NaN</td>\n",
       "      <td>NaN</td>\n",
       "      <td>NaN</td>\n",
       "      <td>NaN</td>\n",
       "    </tr>\n",
       "  </tbody>\n",
       "</table>\n",
       "<p>5 rows × 154 columns</p>\n",
       "</div>"
      ],
      "text/plain": [
       "   Respondent                                       Professional  \\\n",
       "0           1                                            Student   \n",
       "1           2                                            Student   \n",
       "2           3                             Professional developer   \n",
       "3           4  Professional non-developer who sometimes write...   \n",
       "4           5                             Professional developer   \n",
       "\n",
       "                ProgramHobby         Country      University  \\\n",
       "0                  Yes, both   United States              No   \n",
       "1                  Yes, both  United Kingdom  Yes, full-time   \n",
       "2                  Yes, both  United Kingdom              No   \n",
       "3                  Yes, both   United States              No   \n",
       "4  Yes, I program as a hobby     Switzerland              No   \n",
       "\n",
       "                         EmploymentStatus  \\\n",
       "0  Not employed, and not looking for work   \n",
       "1                      Employed part-time   \n",
       "2                      Employed full-time   \n",
       "3                      Employed full-time   \n",
       "4                      Employed full-time   \n",
       "\n",
       "                                     FormalEducation  \\\n",
       "0                                   Secondary school   \n",
       "1  Some college/university study without earning ...   \n",
       "2                                  Bachelor's degree   \n",
       "3                                    Doctoral degree   \n",
       "4                                    Master's degree   \n",
       "\n",
       "                                  MajorUndergrad  \\\n",
       "0                                            NaN   \n",
       "1       Computer science or software engineering   \n",
       "2       Computer science or software engineering   \n",
       "3  A non-computer-focused engineering discipline   \n",
       "4       Computer science or software engineering   \n",
       "\n",
       "                                          HomeRemote  \\\n",
       "0                                                NaN   \n",
       "1              More than half, but not all, the time   \n",
       "2  Less than half the time, but at least one day ...   \n",
       "3  Less than half the time, but at least one day ...   \n",
       "4                                              Never   \n",
       "\n",
       "                CompanySize  ... StackOverflowMakeMoney Gender  \\\n",
       "0                       NaN  ...      Strongly disagree   Male   \n",
       "1        20 to 99 employees  ...      Strongly disagree   Male   \n",
       "2  10,000 or more employees  ...               Disagree   Male   \n",
       "3  10,000 or more employees  ...               Disagree   Male   \n",
       "4        10 to 19 employees  ...                    NaN    NaN   \n",
       "\n",
       "  HighestEducationParents                          Race         SurveyLong  \\\n",
       "0             High school  White or of European descent  Strongly disagree   \n",
       "1       A master's degree  White or of European descent     Somewhat agree   \n",
       "2   A professional degree  White or of European descent     Somewhat agree   \n",
       "3       A doctoral degree  White or of European descent              Agree   \n",
       "4                     NaN                           NaN                NaN   \n",
       "\n",
       "  QuestionsInteresting QuestionsConfusing InterestedAnswers    Salary  \\\n",
       "0       Strongly agree           Disagree    Strongly agree       NaN   \n",
       "1       Somewhat agree           Disagree    Strongly agree       NaN   \n",
       "2                Agree           Disagree             Agree  113750.0   \n",
       "3                Agree     Somewhat agree    Strongly agree       NaN   \n",
       "4                  NaN                NaN               NaN       NaN   \n",
       "\n",
       "   ExpectedSalary  \n",
       "0             NaN  \n",
       "1         37500.0  \n",
       "2             NaN  \n",
       "3             NaN  \n",
       "4             NaN  \n",
       "\n",
       "[5 rows x 154 columns]"
      ]
     },
     "execution_count": 417,
     "metadata": {},
     "output_type": "execute_result"
    }
   ],
   "source": [
    "df = pd.read_csv('./survey_results_public.csv')\n",
    "df.head()"
   ]
  },
  {
   "cell_type": "code",
   "execution_count": 418,
   "id": "e1d74560",
   "metadata": {},
   "outputs": [
    {
     "name": "stdout",
     "output_type": "stream",
     "text": [
      "There are 19102 rows and 154 columns in the dataset.\n"
     ]
    }
   ],
   "source": [
    "# 1. Number of rows and columns in the dataset\n",
    "print(\"There are {} rows and {} columns in the dataset.\".format(df.shape[0], df.shape[1]))"
   ]
  },
  {
   "cell_type": "code",
   "execution_count": 419,
   "id": "6fc546d9",
   "metadata": {},
   "outputs": [
    {
     "data": {
      "text/plain": [
       "{'Country',\n",
       " 'EmploymentStatus',\n",
       " 'FormalEducation',\n",
       " 'Professional',\n",
       " 'ProgramHobby',\n",
       " 'Respondent',\n",
       " 'University'}"
      ]
     },
     "execution_count": 419,
     "metadata": {},
     "output_type": "execute_result"
    }
   ],
   "source": [
    "# 2. Provide a set of column names that have no missing values.\n",
    "no_nulls = set(df.columns[df.isnull().sum()==0])\n",
    "no_nulls"
   ]
  },
  {
   "cell_type": "code",
   "execution_count": 420,
   "id": "1ad385bb",
   "metadata": {},
   "outputs": [
    {
     "data": {
      "text/plain": [
       "Index(['ExCoderNotForMe', 'ExCoderWillNotCode'], dtype='object')"
      ]
     },
     "execution_count": 420,
     "metadata": {},
     "output_type": "execute_result"
    }
   ],
   "source": [
    "# Find columns with the most null values\n",
    "na_max = df.isna().sum().max()\n",
    "df.columns[df.isna().sum()==na_max]"
   ]
  },
  {
   "cell_type": "code",
   "execution_count": 421,
   "id": "cb3699e4",
   "metadata": {},
   "outputs": [
    {
     "name": "stdout",
     "output_type": "stream",
     "text": [
      "<class 'pandas.core.frame.DataFrame'>\n",
      "RangeIndex: 19102 entries, 0 to 19101\n",
      "Data columns (total 154 columns):\n",
      " #    Column                            Non-Null Count  Dtype  \n",
      "---   ------                            --------------  -----  \n",
      " 0    Respondent                        19102 non-null  int64  \n",
      " 1    Professional                      19102 non-null  object \n",
      " 2    ProgramHobby                      19102 non-null  object \n",
      " 3    Country                           19102 non-null  object \n",
      " 4    University                        19102 non-null  object \n",
      " 5    EmploymentStatus                  19102 non-null  object \n",
      " 6    FormalEducation                   19102 non-null  object \n",
      " 7    MajorUndergrad                    15899 non-null  object \n",
      " 8    HomeRemote                        16471 non-null  object \n",
      " 9    CompanySize                       14653 non-null  object \n",
      " 10   CompanyType                       14609 non-null  object \n",
      " 11   YearsProgram                      19005 non-null  object \n",
      " 12   YearsCodedJob                     15391 non-null  object \n",
      " 13   YearsCodedJobPast                 349 non-null    object \n",
      " 14   DeveloperType                     13772 non-null  object \n",
      " 15   WebDeveloperType                  4286 non-null   object \n",
      " 16   MobileDeveloperType               556 non-null    object \n",
      " 17   NonDeveloperType                  1688 non-null   object \n",
      " 18   CareerSatisfaction                16102 non-null  float64\n",
      " 19   JobSatisfaction                   15253 non-null  float64\n",
      " 20   ExCoderReturn                     335 non-null    object \n",
      " 21   ExCoderNotForMe                   332 non-null    object \n",
      " 22   ExCoderBalance                    335 non-null    object \n",
      " 23   ExCoder10Years                    336 non-null    object \n",
      " 24   ExCoderBelonged                   335 non-null    object \n",
      " 25   ExCoderSkills                     336 non-null    object \n",
      " 26   ExCoderWillNotCode                332 non-null    object \n",
      " 27   ExCoderActive                     335 non-null    object \n",
      " 28   PronounceGIF                      18940 non-null  object \n",
      " 29   ProblemSolving                    12220 non-null  object \n",
      " 30   BuildingThings                    12201 non-null  object \n",
      " 31   LearningNewTech                   12216 non-null  object \n",
      " 32   BoringDetails                     12190 non-null  object \n",
      " 33   JobSecurity                       12198 non-null  object \n",
      " 34   DiversityImportant                12079 non-null  object \n",
      " 35   AnnoyingUI                        12140 non-null  object \n",
      " 36   FriendsDevelopers                 12143 non-null  object \n",
      " 37   RightWrongWay                     12112 non-null  object \n",
      " 38   UnderstandComputers               12135 non-null  object \n",
      " 39   SeriousWork                       12132 non-null  object \n",
      " 40   InvestTimeTools                   12059 non-null  object \n",
      " 41   WorkPayCare                       12087 non-null  object \n",
      " 42   KinshipDevelopers                 11980 non-null  object \n",
      " 43   ChallengeMyself                   12089 non-null  object \n",
      " 44   CompetePeers                      12034 non-null  object \n",
      " 45   ChangeWorld                       12077 non-null  object \n",
      " 46   JobSeekingStatus                  12852 non-null  object \n",
      " 47   HoursPerWeek                      7721 non-null   float64\n",
      " 48   LastNewJob                        12578 non-null  object \n",
      " 49   AssessJobIndustry                 8401 non-null   object \n",
      " 50   AssessJobRole                     8403 non-null   object \n",
      " 51   AssessJobExp                      8398 non-null   object \n",
      " 52   AssessJobDept                     8390 non-null   object \n",
      " 53   AssessJobTech                     8420 non-null   object \n",
      " 54   AssessJobProjects                 8412 non-null   object \n",
      " 55   AssessJobCompensation             8407 non-null   object \n",
      " 56   AssessJobOffice                   8336 non-null   object \n",
      " 57   AssessJobCommute                  8331 non-null   object \n",
      " 58   AssessJobRemote                   8351 non-null   object \n",
      " 59   AssessJobLeaders                  8330 non-null   object \n",
      " 60   AssessJobProfDevel                8341 non-null   object \n",
      " 61   AssessJobDiversity                8324 non-null   object \n",
      " 62   AssessJobProduct                  8334 non-null   object \n",
      " 63   AssessJobFinances                 8351 non-null   object \n",
      " 64   ImportantBenefits                 11570 non-null  object \n",
      " 65   ClickyKeys                        15358 non-null  object \n",
      " 66   JobProfile                        9190 non-null   object \n",
      " 67   ResumePrompted                    8704 non-null   object \n",
      " 68   LearnedHiring                     9183 non-null   object \n",
      " 69   ImportantHiringAlgorithms         10890 non-null  object \n",
      " 70   ImportantHiringTechExp            10894 non-null  object \n",
      " 71   ImportantHiringCommunication      10879 non-null  object \n",
      " 72   ImportantHiringOpenSource         10864 non-null  object \n",
      " 73   ImportantHiringPMExp              10869 non-null  object \n",
      " 74   ImportantHiringCompanies          10851 non-null  object \n",
      " 75   ImportantHiringTitles             10859 non-null  object \n",
      " 76   ImportantHiringEducation          10883 non-null  object \n",
      " 77   ImportantHiringRep                10878 non-null  object \n",
      " 78   ImportantHiringGettingThingsDone  10849 non-null  object \n",
      " 79   Currency                          8032 non-null   object \n",
      " 80   Overpaid                          5184 non-null   object \n",
      " 81   TabsSpaces                        14305 non-null  object \n",
      " 82   EducationImportant                9065 non-null   object \n",
      " 83   EducationTypes                    11465 non-null  object \n",
      " 84   SelfTaughtTypes                   10173 non-null  object \n",
      " 85   TimeAfterBootcamp                 882 non-null    object \n",
      " 86   CousinEducation                   6906 non-null   object \n",
      " 87   WorkStart                         13523 non-null  object \n",
      " 88   HaveWorkedLanguage                13526 non-null  object \n",
      " 89   WantWorkLanguage                  12523 non-null  object \n",
      " 90   HaveWorkedFramework               7294 non-null   object \n",
      " 91   WantWorkFramework                 8499 non-null   object \n",
      " 92   HaveWorkedDatabase                10792 non-null  object \n",
      " 93   WantWorkDatabase                  9159 non-null   object \n",
      " 94   HaveWorkedPlatform                10580 non-null  object \n",
      " 95   WantWorkPlatform                  10158 non-null  object \n",
      " 96   IDE                               13197 non-null  object \n",
      " 97   AuditoryEnvironment               13451 non-null  object \n",
      " 98   Methodology                       9587 non-null   object \n",
      " 99   VersionControl                    11571 non-null  object \n",
      " 100  CheckInCode                       11204 non-null  object \n",
      " 101  ShipIt                            11209 non-null  object \n",
      " 102  OtherPeoplesCode                  11202 non-null  object \n",
      " 103  ProjectManagement                 11122 non-null  object \n",
      " 104  EnjoyDebugging                    11258 non-null  object \n",
      " 105  InTheZone                         11101 non-null  object \n",
      " 106  DifficultCommunication            11210 non-null  object \n",
      " 107  CollaborateRemote                 11130 non-null  object \n",
      " 108  MetricAssess                      9625 non-null   object \n",
      " 109  EquipmentSatisfiedMonitors        11130 non-null  object \n",
      " 110  EquipmentSatisfiedCPU             11127 non-null  object \n",
      " 111  EquipmentSatisfiedRAM             11133 non-null  object \n",
      " 112  EquipmentSatisfiedStorage         11100 non-null  object \n",
      " 113  EquipmentSatisfiedRW              11110 non-null  object \n",
      " 114  InfluenceInternet                 11106 non-null  object \n",
      " 115  InfluenceWorkstation              8262 non-null   object \n",
      " 116  InfluenceHardware                 8262 non-null   object \n",
      " 117  InfluenceServers                  8239 non-null   object \n",
      " 118  InfluenceTechStack                8253 non-null   object \n",
      " 119  InfluenceDeptTech                 8243 non-null   object \n",
      " 120  InfluenceVizTools                 8244 non-null   object \n",
      " 121  InfluenceDatabase                 8255 non-null   object \n",
      " 122  InfluenceCloud                    8243 non-null   object \n",
      " 123  InfluenceConsultants              8229 non-null   object \n",
      " 124  InfluenceRecruitment              8244 non-null   object \n",
      " 125  InfluenceCommunication            8250 non-null   object \n",
      " 126  StackOverflowDescribes            13556 non-null  object \n",
      " 127  StackOverflowSatisfaction         13452 non-null  float64\n",
      " 128  StackOverflowDevices              12946 non-null  object \n",
      " 129  StackOverflowFoundAnswer          12691 non-null  object \n",
      " 130  StackOverflowCopiedCode           12577 non-null  object \n",
      " 131  StackOverflowJobListing           12425 non-null  object \n",
      " 132  StackOverflowCompanyPage          12411 non-null  object \n",
      " 133  StackOverflowJobSearch            12407 non-null  object \n",
      " 134  StackOverflowNewQuestion          12472 non-null  object \n",
      " 135  StackOverflowAnswer               12445 non-null  object \n",
      " 136  StackOverflowMetaChat             12414 non-null  object \n",
      " 137  StackOverflowAdsRelevant          11527 non-null  object \n",
      " 138  StackOverflowAdsDistracting       11841 non-null  object \n",
      " 139  StackOverflowModeration           11336 non-null  object \n",
      " 140  StackOverflowCommunity            12064 non-null  object \n",
      " 141  StackOverflowHelpful              12542 non-null  object \n",
      " 142  StackOverflowBetter               12462 non-null  object \n",
      " 143  StackOverflowWhatDo               12385 non-null  object \n",
      " 144  StackOverflowMakeMoney            11668 non-null  object \n",
      " 145  Gender                            12910 non-null  object \n",
      " 146  HighestEducationParents           12853 non-null  object \n",
      " 147  Race                              12218 non-null  object \n",
      " 148  SurveyLong                        12803 non-null  object \n",
      " 149  QuestionsInteresting              12736 non-null  object \n",
      " 150  QuestionsConfusing                12706 non-null  object \n",
      " 151  InterestedAnswers                 12760 non-null  object \n",
      " 152  Salary                            5009 non-null   float64\n",
      " 153  ExpectedSalary                    818 non-null    float64\n",
      "dtypes: float64(6), int64(1), object(147)\n",
      "memory usage: 22.4+ MB\n"
     ]
    }
   ],
   "source": [
    "# For check purpose\n",
    "df.info(verbose=True, show_counts=True)"
   ]
  },
  {
   "cell_type": "code",
   "execution_count": 422,
   "id": "899251fa",
   "metadata": {},
   "outputs": [
    {
     "data": {
      "text/plain": [
       "{'ExCoder10Years',\n",
       " 'ExCoderActive',\n",
       " 'ExCoderBalance',\n",
       " 'ExCoderBelonged',\n",
       " 'ExCoderNotForMe',\n",
       " 'ExCoderReturn',\n",
       " 'ExCoderSkills',\n",
       " 'ExCoderWillNotCode',\n",
       " 'ExpectedSalary',\n",
       " 'MobileDeveloperType',\n",
       " 'NonDeveloperType',\n",
       " 'TimeAfterBootcamp',\n",
       " 'WebDeveloperType',\n",
       " 'YearsCodedJobPast'}"
      ]
     },
     "execution_count": 422,
     "metadata": {},
     "output_type": "execute_result"
    }
   ],
   "source": [
    "# 3. Provide a set of column names that have more than 75% of their values missing.\n",
    "nulls_75plus = set(df.columns[df.isna().mean() >= .75])\n",
    "nulls_75plus"
   ]
  },
  {
   "cell_type": "code",
   "execution_count": 423,
   "id": "ad2499bf",
   "metadata": {},
   "outputs": [
    {
     "data": {
      "text/plain": [
       "0"
      ]
     },
     "execution_count": 423,
     "metadata": {},
     "output_type": "execute_result"
    }
   ],
   "source": [
    "# 4. Professional status value counts\n",
    "## Check null values in `Professional` feature\n",
    "df.Professional.isna().sum()"
   ]
  },
  {
   "cell_type": "code",
   "execution_count": 424,
   "id": "9f60a91b",
   "metadata": {},
   "outputs": [
    {
     "data": {
      "text/plain": [
       "Used to be a professional developer                     0.018689\n",
       "None of these                                           0.019265\n",
       "Professional non-developer who sometimes writes code    0.093289\n",
       "Student                                                 0.147681\n",
       "Professional developer                                  0.721076\n",
       "Name: Professional, dtype: float64"
      ]
     },
     "execution_count": 424,
     "metadata": {},
     "output_type": "execute_result"
    }
   ],
   "source": [
    "status_vals = df.Professional.value_counts(dropna=False, normalize=True, ascending=True)\n",
    "status_vals"
   ]
  },
  {
   "cell_type": "code",
   "execution_count": 425,
   "id": "2345a8af",
   "metadata": {},
   "outputs": [
    {
     "data": {
      "image/png": "[encoded data removed]",
      "text/plain": [
       "<Figure size 432x288 with 1 Axes>"
      ]
     },
     "metadata": {
      "needs_background": "light"
     },
     "output_type": "display_data"
    }
   ],
   "source": [
    "# Visualization for Q4\n",
    "plt.barh(y=status_vals.index.values, width=status_vals.values);"
   ]
  },
  {
   "cell_type": "code",
   "execution_count": 426,
   "id": "9fee9029",
   "metadata": {},
   "outputs": [
    {
     "data": {
      "text/plain": [
       "0"
      ]
     },
     "execution_count": 426,
     "metadata": {},
     "output_type": "execute_result"
    }
   ],
   "source": [
    "# 5. `FormalEducation` value counts\n",
    "## Check null values in `FormalEducation` feature\n",
    "df.FormalEducation.isna().sum()"
   ]
  },
  {
   "cell_type": "code",
   "execution_count": 427,
   "id": "e8347bdf",
   "metadata": {},
   "outputs": [],
   "source": [
    "def viz_freq(feature_name, top_k=None, norm=None, asc=False):\n",
    "    if top_k is None:\n",
    "        val_counts = df[feature_name].value_counts(normalize=norm, ascending=asc)\n",
    "        print(val_counts)\n",
    "        plt.barh(y=val_counts.index.values, width=val_counts.values);\n",
    "        \n",
    "    else:\n",
    "        val_counts = df[feature_name].value_counts(normalize=norm, ascending=asc)\n",
    "        top_k_vals = val_counts[-top_k:]\n",
    "        print(top_k_vals)\n",
    "        plt.barh(y=top_k_vals.index.values, width=top_k_vals.values);"
   ]
  },
  {
   "cell_type": "code",
   "execution_count": 428,
   "id": "c31d214a",
   "metadata": {},
   "outputs": [
    {
     "name": "stdout",
     "output_type": "stream",
     "text": [
      "I never completed any formal education                               0.007591\n",
      "Professional degree                                                  0.013349\n",
      "Primary/elementary school                                            0.021150\n",
      "I prefer not to answer                                               0.021411\n",
      "Doctoral degree                                                      0.028845\n",
      "Secondary school                                                     0.116585\n",
      "Some college/university study without earning a bachelor's degree    0.150194\n",
      "Master's degree                                                      0.216888\n",
      "Bachelor's degree                                                    0.423987\n",
      "Name: FormalEducation, dtype: float64\n"
     ]
    },
    {
     "data": {
      "image/png": "[encoded data removed]",
      "text/plain": [
       "<Figure size 432x288 with 1 Axes>"
      ]
     },
     "metadata": {
      "needs_background": "light"
     },
     "output_type": "display_data"
    }
   ],
   "source": [
    "viz_freq(\"FormalEducation\", norm=True, asc=True)"
   ]
  },
  {
   "cell_type": "code",
   "execution_count": 429,
   "id": "c00d5ec5",
   "metadata": {},
   "outputs": [
    {
     "data": {
      "text/plain": [
       "0"
      ]
     },
     "execution_count": 429,
     "metadata": {},
     "output_type": "execute_result"
    }
   ],
   "source": [
    "# 6. `Country` value counts\n",
    "## Check null values in `FormalEducation` feature\n",
    "df.Country.isna().sum()"
   ]
  },
  {
   "cell_type": "code",
   "execution_count": 430,
   "id": "067c6dc0",
   "metadata": {},
   "outputs": [
    {
     "name": "stdout",
     "output_type": "stream",
     "text": [
      "Ivory Coast (Cote D'Ivoire)    0.000052\n",
      "Qatar                          0.000052\n",
      "Libya                          0.000052\n",
      "Sudan                          0.000052\n",
      "Vatican City State             0.000052\n",
      "                                 ...   \n",
      "Canada                         0.045754\n",
      "Germany                        0.069993\n",
      "United Kingdom                 0.074547\n",
      "India                          0.081510\n",
      "United States                  0.228458\n",
      "Name: Country, Length: 165, dtype: float64\n"
     ]
    },
    {
     "data": {
      "image/png": "[encoded data removed]",
      "text/plain": [
       "<Figure size 432x288 with 1 Axes>"
      ]
     },
     "metadata": {
      "needs_background": "light"
     },
     "output_type": "display_data"
    }
   ],
   "source": [
    "viz_freq(\"Country\", norm=True, asc=True)"
   ]
  },
  {
   "cell_type": "code",
   "execution_count": 431,
   "id": "dda93907",
   "metadata": {},
   "outputs": [
    {
     "name": "stdout",
     "output_type": "stream",
     "text": [
      "Israel            0.017694\n",
      "Netherlands       0.019527\n",
      "Australia         0.020888\n",
      "France            0.027327\n",
      "Poland            0.036331\n",
      "Canada            0.045754\n",
      "Germany           0.069993\n",
      "United Kingdom    0.074547\n",
      "India             0.081510\n",
      "United States     0.228458\n",
      "Name: Country, dtype: float64\n"
     ]
    },
    {
     "data": {
      "image/png": "[encoded data removed]",
      "text/plain": [
       "<Figure size 432x288 with 1 Axes>"
      ]
     },
     "metadata": {
      "needs_background": "light"
     },
     "output_type": "display_data"
    }
   ],
   "source": [
    "viz_freq(\"Country\", top_k=10, norm=True, asc=True)"
   ]
  },
  {
   "cell_type": "markdown",
   "id": "2752c481",
   "metadata": {},
   "source": [
    "___I wrap the function above in a `helper.py` script under root folder.___"
   ]
  },
  {
   "cell_type": "code",
   "execution_count": 432,
   "id": "68067fc8",
   "metadata": {},
   "outputs": [
    {
     "name": "stdout",
     "output_type": "stream",
     "text": [
      "Used to be a professional developer                     0.018689\n",
      "None of these                                           0.019265\n",
      "Professional non-developer who sometimes writes code    0.093289\n",
      "Student                                                 0.147681\n",
      "Professional developer                                  0.721076\n",
      "Name: Professional, dtype: float64\n"
     ]
    },
    {
     "data": {
      "image/png": "[encoded data removed]",
      "text/plain": [
       "<Figure size 432x288 with 1 Axes>"
      ]
     },
     "metadata": {
      "needs_background": "light"
     },
     "output_type": "display_data"
    }
   ],
   "source": [
    "h.viz_freq(df, \"Professional\", norm=True, asc=True)"
   ]
  },
  {
   "cell_type": "code",
   "execution_count": 433,
   "id": "1a7c4b9d",
   "metadata": {},
   "outputs": [
    {
     "name": "stdout",
     "output_type": "stream",
     "text": [
      "I never completed any formal education                               0.007591\n",
      "Professional degree                                                  0.013349\n",
      "Primary/elementary school                                            0.021150\n",
      "I prefer not to answer                                               0.021411\n",
      "Doctoral degree                                                      0.028845\n",
      "Secondary school                                                     0.116585\n",
      "Some college/university study without earning a bachelor's degree    0.150194\n",
      "Master's degree                                                      0.216888\n",
      "Bachelor's degree                                                    0.423987\n",
      "Name: FormalEducation, dtype: float64\n"
     ]
    },
    {
     "data": {
      "image/png": "[encoded data removed]",
      "text/plain": [
       "<Figure size 432x288 with 1 Axes>"
      ]
     },
     "metadata": {
      "needs_background": "light"
     },
     "output_type": "display_data"
    }
   ],
   "source": [
    "h.viz_freq(df, \"FormalEducation\", norm=True, asc=True)"
   ]
  },
  {
   "cell_type": "code",
   "execution_count": 434,
   "id": "54c32458",
   "metadata": {},
   "outputs": [
    {
     "name": "stdout",
     "output_type": "stream",
     "text": [
      "Israel            0.017694\n",
      "Netherlands       0.019527\n",
      "Australia         0.020888\n",
      "France            0.027327\n",
      "Poland            0.036331\n",
      "Canada            0.045754\n",
      "Germany           0.069993\n",
      "United Kingdom    0.074547\n",
      "India             0.081510\n",
      "United States     0.228458\n",
      "Name: Country, dtype: float64\n"
     ]
    },
    {
     "data": {
      "image/png": "[encoded data removed]",
      "text/plain": [
       "<Figure size 432x288 with 1 Axes>"
      ]
     },
     "metadata": {
      "needs_background": "light"
     },
     "output_type": "display_data"
    }
   ],
   "source": [
    "# Country\n",
    "h.viz_freq(df, \"Country\", top_k=10, norm=True, asc=True)"
   ]
  },
  {
   "cell_type": "markdown",
   "id": "1502cb43",
   "metadata": {},
   "source": [
    "## How to break into the field?\n",
    "\n",
    "The ___following questions___ will be explored in this section.\n",
    "\n",
    "**1.**  Use the **schema** dataset to answer this question.  Write a function called **get_description** that takes the **schema dataframe** and the **column** as a string, and returns a string of the description for that column.\n",
    "\n",
    "**2.** In order to understand how to break into the field, we will look at the **CousinEducation** field. Provide a pandas series of the different **CousinEducation** status values in the dataset. \n",
    "\n",
    "**3.** Whether some of the individuals might have bias towards their own degrees? \n",
    "Analyze elements of the **FormalEducation** column in **df**. \n",
    "\n",
    "**4.** Now we would like to find out if the proportion of individuals who completed one of these three programs feel differently than those that did not. Store a dataframe of only the individual's who had **HigherEd** equal to 1 in **ed_1**.  Similarly, store a dataframe of only the **HigherEd** equal to 0 values in **ed_0**.\n",
    "\n",
    "Notice, you have already created the **HigherEd** column using the check code portion above, so here you only need to subset the dataframe using this newly created column.\n",
    "\n",
    "**5.** What can you conclude from the above plot?  Change the dictionary to mark **True** for the keys of any statements you can conclude, and **False** for any of the statements you cannot conclude."
   ]
  },
  {
   "cell_type": "code",
   "execution_count": 435,
   "id": "0e0784da",
   "metadata": {},
   "outputs": [
    {
     "data": {
      "text/html": [
       "<div>\n",
       "<style scoped>\n",
       "    .dataframe tbody tr th:only-of-type {\n",
       "        vertical-align: middle;\n",
       "    }\n",
       "\n",
       "    .dataframe tbody tr th {\n",
       "        vertical-align: top;\n",
       "    }\n",
       "\n",
       "    .dataframe thead th {\n",
       "        text-align: right;\n",
       "    }\n",
       "</style>\n",
       "<table border=\"1\" class=\"dataframe\">\n",
       "  <thead>\n",
       "    <tr style=\"text-align: right;\">\n",
       "      <th></th>\n",
       "      <th>Column</th>\n",
       "      <th>Question</th>\n",
       "    </tr>\n",
       "  </thead>\n",
       "  <tbody>\n",
       "    <tr>\n",
       "      <th>0</th>\n",
       "      <td>Respondent</td>\n",
       "      <td>Respondent ID number</td>\n",
       "    </tr>\n",
       "    <tr>\n",
       "      <th>1</th>\n",
       "      <td>Professional</td>\n",
       "      <td>Which of the following best describes you?</td>\n",
       "    </tr>\n",
       "    <tr>\n",
       "      <th>2</th>\n",
       "      <td>ProgramHobby</td>\n",
       "      <td>Do you program as a hobby or contribute to ope...</td>\n",
       "    </tr>\n",
       "    <tr>\n",
       "      <th>3</th>\n",
       "      <td>Country</td>\n",
       "      <td>In which country do you currently live?</td>\n",
       "    </tr>\n",
       "    <tr>\n",
       "      <th>4</th>\n",
       "      <td>University</td>\n",
       "      <td>Are you currently enrolled in a formal, degree...</td>\n",
       "    </tr>\n",
       "    <tr>\n",
       "      <th>...</th>\n",
       "      <td>...</td>\n",
       "      <td>...</td>\n",
       "    </tr>\n",
       "    <tr>\n",
       "      <th>149</th>\n",
       "      <td>QuestionsInteresting</td>\n",
       "      <td>The questions were interesting</td>\n",
       "    </tr>\n",
       "    <tr>\n",
       "      <th>150</th>\n",
       "      <td>QuestionsConfusing</td>\n",
       "      <td>The questions were confusing</td>\n",
       "    </tr>\n",
       "    <tr>\n",
       "      <th>151</th>\n",
       "      <td>InterestedAnswers</td>\n",
       "      <td>I'm interested in learning how other developer...</td>\n",
       "    </tr>\n",
       "    <tr>\n",
       "      <th>152</th>\n",
       "      <td>Salary</td>\n",
       "      <td>What is your current annual base salary, befor...</td>\n",
       "    </tr>\n",
       "    <tr>\n",
       "      <th>153</th>\n",
       "      <td>ExpectedSalary</td>\n",
       "      <td>You said before that you are currently learnin...</td>\n",
       "    </tr>\n",
       "  </tbody>\n",
       "</table>\n",
       "<p>154 rows × 2 columns</p>\n",
       "</div>"
      ],
      "text/plain": [
       "                   Column                                           Question\n",
       "0              Respondent                               Respondent ID number\n",
       "1            Professional         Which of the following best describes you?\n",
       "2            ProgramHobby  Do you program as a hobby or contribute to ope...\n",
       "3                 Country            In which country do you currently live?\n",
       "4              University  Are you currently enrolled in a formal, degree...\n",
       "..                    ...                                                ...\n",
       "149  QuestionsInteresting                     The questions were interesting\n",
       "150    QuestionsConfusing                       The questions were confusing\n",
       "151     InterestedAnswers  I'm interested in learning how other developer...\n",
       "152                Salary  What is your current annual base salary, befor...\n",
       "153        ExpectedSalary  You said before that you are currently learnin...\n",
       "\n",
       "[154 rows x 2 columns]"
      ]
     },
     "execution_count": 435,
     "metadata": {},
     "output_type": "execute_result"
    }
   ],
   "source": [
    "# import `schema` data\n",
    "schema = pd.read_csv('./survey_results_schema.csv')\n",
    "schema"
   ]
  },
  {
   "cell_type": "markdown",
   "id": "21d533a3",
   "metadata": {},
   "source": [
    "**1.** Create a function to check full meaning for each feature.\n",
    "\n",
    "This function has been wrapped into `helper.py`\n"
   ]
  },
  {
   "cell_type": "code",
   "execution_count": 436,
   "id": "f7ae5f5a",
   "metadata": {},
   "outputs": [
    {
     "data": {
      "text/plain": [
       "<module 'helper' from '/Users/alejandrosanz/Downloads/projects_on_GitHub/cases/SurveyDataAnalysis/helper.py'>"
      ]
     },
     "execution_count": 436,
     "metadata": {},
     "output_type": "execute_result"
    }
   ],
   "source": [
    "import importlib\n",
    "importlib.reload(h)"
   ]
  },
  {
   "cell_type": "code",
   "execution_count": 437,
   "id": "f088778f",
   "metadata": {},
   "outputs": [
    {
     "data": {
      "text/plain": [
       "\"Let's pretend you have a distant cousin. They are 24 years old, have a college degree in a field not related to computer programming, and have been working a non-coding job for the last two years. They want your advice on how to switch to a career as a software developer. Which of the following options would you most strongly recommend to your cousin?\\nLet's pretend you have a distant cousin named Robert. He is 24 years old, has a college degree in a field not related to computer programming, and has been working a non-coding job for the last two years. He wants your advice on how to switch to a career as a software developer. Which of the following options would you most strongly recommend to Robert?\\nLet's pretend you have a distant cousin named Alice. She is 24 years old, has a college degree in a field not related to computer programming, and has been working a non-coding job for the last two years. She wants your advice on how to switch to a career as a software developer. Which of the following options would you most strongly recommend to Alice?\""
      ]
     },
     "execution_count": 437,
     "metadata": {},
     "output_type": "execute_result"
    }
   ],
   "source": [
    "h.get_description(schema, 'CousinEducation')"
   ]
  },
  {
   "cell_type": "markdown",
   "id": "beaac583",
   "metadata": {},
   "source": [
    "**2.** Provide a pandas series of the different `CousinEducation` status values in the dataset."
   ]
  },
  {
   "cell_type": "code",
   "execution_count": 438,
   "id": "781f793e",
   "metadata": {},
   "outputs": [
    {
     "data": {
      "text/plain": [
       "580      Return to college; Get a job as a QA tester; T...\n",
       "11141                                                  NaN\n",
       "4423                                                   NaN\n",
       "12777    Get a job as a QA tester; Take online courses;...\n",
       "5821                                                   NaN\n",
       "18542                                                  NaN\n",
       "10355       Take online courses; Part-time/evening courses\n",
       "6296                                                   NaN\n",
       "4517                                                   NaN\n",
       "5953     Take online courses; Buy books and work throug...\n",
       "Name: CousinEducation, dtype: object"
      ]
     },
     "execution_count": 438,
     "metadata": {},
     "output_type": "execute_result"
    }
   ],
   "source": [
    "df.CousinEducation.sample(10)"
   ]
  },
  {
   "cell_type": "code",
   "execution_count": 439,
   "id": "4d949d79",
   "metadata": {},
   "outputs": [
    {
     "data": {
      "text/plain": [
       "12196"
      ]
     },
     "execution_count": 439,
     "metadata": {},
     "output_type": "execute_result"
    }
   ],
   "source": [
    "df.CousinEducation.isna().sum()"
   ]
  },
  {
   "cell_type": "markdown",
   "id": "465741ad",
   "metadata": {},
   "source": [
    "**Characteristics of data in `CousinEducation` feature:**\n",
    "\n",
    "- Multiple items separated by semi-colon\n",
    "- Lots of null values\n",
    "\n",
    "So I'm considering to extract each education status from each record and count. If not, we will get the following result which is helpless for our analysis."
   ]
  },
  {
   "cell_type": "code",
   "execution_count": 440,
   "id": "d0c1bdd7",
   "metadata": {},
   "outputs": [
    {
     "data": {
      "image/png": "[encoded data removed]",
      "text/plain": [
       "<Figure size 432x288 with 1 Axes>"
      ]
     },
     "metadata": {
      "needs_background": "light"
     },
     "output_type": "display_data"
    }
   ],
   "source": [
    "cous_ed_vals = df.CousinEducation.value_counts()/df.shape[0]\n",
    "plt.barh(y=cous_ed_vals.index, width=cous_ed_vals.values);"
   ]
  },
  {
   "cell_type": "code",
   "execution_count": 441,
   "id": "930fbf55",
   "metadata": {},
   "outputs": [
    {
     "data": {
      "text/html": [
       "<div>\n",
       "<style scoped>\n",
       "    .dataframe tbody tr th:only-of-type {\n",
       "        vertical-align: middle;\n",
       "    }\n",
       "\n",
       "    .dataframe tbody tr th {\n",
       "        vertical-align: top;\n",
       "    }\n",
       "\n",
       "    .dataframe thead th {\n",
       "        text-align: right;\n",
       "    }\n",
       "</style>\n",
       "<table border=\"1\" class=\"dataframe\">\n",
       "  <thead>\n",
       "    <tr style=\"text-align: right;\">\n",
       "      <th></th>\n",
       "      <th>0</th>\n",
       "      <th>1</th>\n",
       "      <th>2</th>\n",
       "      <th>3</th>\n",
       "    </tr>\n",
       "  </thead>\n",
       "  <tbody>\n",
       "    <tr>\n",
       "      <th>7</th>\n",
       "      <td>Get a job as a QA tester</td>\n",
       "      <td>None</td>\n",
       "      <td>None</td>\n",
       "      <td>None</td>\n",
       "    </tr>\n",
       "    <tr>\n",
       "      <th>18</th>\n",
       "      <td>Get a job as a QA tester</td>\n",
       "      <td>Conferences/meet-ups</td>\n",
       "      <td>None</td>\n",
       "      <td>None</td>\n",
       "    </tr>\n",
       "    <tr>\n",
       "      <th>23</th>\n",
       "      <td>Take online courses</td>\n",
       "      <td>Contribute to open source</td>\n",
       "      <td>Buy books and work through the exercises</td>\n",
       "      <td>Conferences/meet-ups</td>\n",
       "    </tr>\n",
       "    <tr>\n",
       "      <th>32</th>\n",
       "      <td>Contribute to open source</td>\n",
       "      <td>Buy books and work through the exercises</td>\n",
       "      <td>Other</td>\n",
       "      <td>None</td>\n",
       "    </tr>\n",
       "    <tr>\n",
       "      <th>33</th>\n",
       "      <td>Take online courses</td>\n",
       "      <td>Contribute to open source</td>\n",
       "      <td>Part-time/evening courses</td>\n",
       "      <td>None</td>\n",
       "    </tr>\n",
       "    <tr>\n",
       "      <th>...</th>\n",
       "      <td>...</td>\n",
       "      <td>...</td>\n",
       "      <td>...</td>\n",
       "      <td>...</td>\n",
       "    </tr>\n",
       "    <tr>\n",
       "      <th>19094</th>\n",
       "      <td>Return to college</td>\n",
       "      <td>Take online courses</td>\n",
       "      <td>Contribute to open source</td>\n",
       "      <td>Part-time/evening courses</td>\n",
       "    </tr>\n",
       "    <tr>\n",
       "      <th>19096</th>\n",
       "      <td>Master's degree</td>\n",
       "      <td>Take online courses</td>\n",
       "      <td>Contribute to open source</td>\n",
       "      <td>Conferences/meet-ups</td>\n",
       "    </tr>\n",
       "    <tr>\n",
       "      <th>19097</th>\n",
       "      <td>Contribute to open source</td>\n",
       "      <td>Bootcamp</td>\n",
       "      <td>Part-time/evening courses</td>\n",
       "      <td>Conferences/meet-ups</td>\n",
       "    </tr>\n",
       "    <tr>\n",
       "      <th>19098</th>\n",
       "      <td>Take online courses</td>\n",
       "      <td>Part-time/evening courses</td>\n",
       "      <td>Participate in online coding competitions</td>\n",
       "      <td>Buy books and work through the exercises</td>\n",
       "    </tr>\n",
       "    <tr>\n",
       "      <th>19100</th>\n",
       "      <td>Return to college</td>\n",
       "      <td>None</td>\n",
       "      <td>None</td>\n",
       "      <td>None</td>\n",
       "    </tr>\n",
       "  </tbody>\n",
       "</table>\n",
       "<p>6906 rows × 4 columns</p>\n",
       "</div>"
      ],
      "text/plain": [
       "                               0                                         1  \\\n",
       "7       Get a job as a QA tester                                      None   \n",
       "18      Get a job as a QA tester                      Conferences/meet-ups   \n",
       "23           Take online courses                 Contribute to open source   \n",
       "32     Contribute to open source  Buy books and work through the exercises   \n",
       "33           Take online courses                 Contribute to open source   \n",
       "...                          ...                                       ...   \n",
       "19094          Return to college                       Take online courses   \n",
       "19096            Master's degree                       Take online courses   \n",
       "19097  Contribute to open source                                  Bootcamp   \n",
       "19098        Take online courses                 Part-time/evening courses   \n",
       "19100          Return to college                                      None   \n",
       "\n",
       "                                               2  \\\n",
       "7                                           None   \n",
       "18                                          None   \n",
       "23      Buy books and work through the exercises   \n",
       "32                                         Other   \n",
       "33                     Part-time/evening courses   \n",
       "...                                          ...   \n",
       "19094                  Contribute to open source   \n",
       "19096                  Contribute to open source   \n",
       "19097                  Part-time/evening courses   \n",
       "19098  Participate in online coding competitions   \n",
       "19100                                       None   \n",
       "\n",
       "                                              3  \n",
       "7                                          None  \n",
       "18                                         None  \n",
       "23                         Conferences/meet-ups  \n",
       "32                                         None  \n",
       "33                                         None  \n",
       "...                                         ...  \n",
       "19094                 Part-time/evening courses  \n",
       "19096                      Conferences/meet-ups  \n",
       "19097                      Conferences/meet-ups  \n",
       "19098  Buy books and work through the exercises  \n",
       "19100                                      None  \n",
       "\n",
       "[6906 rows x 4 columns]"
      ]
     },
     "execution_count": 441,
     "metadata": {},
     "output_type": "execute_result"
    }
   ],
   "source": [
    "couEduSplit = df[df.CousinEducation.notna()].CousinEducation.str.split('; ', n=-1, expand=True)\n",
    "couEduSplit"
   ]
  },
  {
   "cell_type": "code",
   "execution_count": 442,
   "id": "01fb0a68",
   "metadata": {},
   "outputs": [
    {
     "data": {
      "text/html": [
       "<div>\n",
       "<style scoped>\n",
       "    .dataframe tbody tr th:only-of-type {\n",
       "        vertical-align: middle;\n",
       "    }\n",
       "\n",
       "    .dataframe tbody tr th {\n",
       "        vertical-align: top;\n",
       "    }\n",
       "\n",
       "    .dataframe thead th {\n",
       "        text-align: right;\n",
       "    }\n",
       "</style>\n",
       "<table border=\"1\" class=\"dataframe\">\n",
       "  <thead>\n",
       "    <tr style=\"text-align: right;\">\n",
       "      <th></th>\n",
       "      <th>0</th>\n",
       "      <th>1</th>\n",
       "      <th>2</th>\n",
       "      <th>3</th>\n",
       "    </tr>\n",
       "  </thead>\n",
       "  <tbody>\n",
       "    <tr>\n",
       "      <th>Bootcamp</th>\n",
       "      <td>154</td>\n",
       "      <td>819.0</td>\n",
       "      <td>540.0</td>\n",
       "      <td>56.0</td>\n",
       "    </tr>\n",
       "    <tr>\n",
       "      <th>Buy books and work through the exercises</th>\n",
       "      <td>138</td>\n",
       "      <td>640.0</td>\n",
       "      <td>1339.0</td>\n",
       "      <td>1305.0</td>\n",
       "    </tr>\n",
       "    <tr>\n",
       "      <th>Conferences/meet-ups</th>\n",
       "      <td>20</td>\n",
       "      <td>106.0</td>\n",
       "      <td>399.0</td>\n",
       "      <td>1013.0</td>\n",
       "    </tr>\n",
       "    <tr>\n",
       "      <th>Contribute to open source</th>\n",
       "      <td>552</td>\n",
       "      <td>1369.0</td>\n",
       "      <td>372.0</td>\n",
       "      <td>25.0</td>\n",
       "    </tr>\n",
       "    <tr>\n",
       "      <th>Get a job as a QA tester</th>\n",
       "      <td>776</td>\n",
       "      <td>238.0</td>\n",
       "      <td>22.0</td>\n",
       "      <td>NaN</td>\n",
       "    </tr>\n",
       "    <tr>\n",
       "      <th>Master's degree</th>\n",
       "      <td>504</td>\n",
       "      <td>268.0</td>\n",
       "      <td>NaN</td>\n",
       "      <td>NaN</td>\n",
       "    </tr>\n",
       "    <tr>\n",
       "      <th>None of these</th>\n",
       "      <td>181</td>\n",
       "      <td>NaN</td>\n",
       "      <td>NaN</td>\n",
       "      <td>NaN</td>\n",
       "    </tr>\n",
       "    <tr>\n",
       "      <th>Other</th>\n",
       "      <td>91</td>\n",
       "      <td>136.0</td>\n",
       "      <td>143.0</td>\n",
       "      <td>210.0</td>\n",
       "    </tr>\n",
       "    <tr>\n",
       "      <th>Part-time/evening courses</th>\n",
       "      <td>114</td>\n",
       "      <td>739.0</td>\n",
       "      <td>1067.0</td>\n",
       "      <td>261.0</td>\n",
       "    </tr>\n",
       "    <tr>\n",
       "      <th>Participate in hackathons</th>\n",
       "      <td>40</td>\n",
       "      <td>221.0</td>\n",
       "      <td>391.0</td>\n",
       "      <td>91.0</td>\n",
       "    </tr>\n",
       "    <tr>\n",
       "      <th>Participate in online coding competitions</th>\n",
       "      <td>28</td>\n",
       "      <td>210.0</td>\n",
       "      <td>511.0</td>\n",
       "      <td>250.0</td>\n",
       "    </tr>\n",
       "    <tr>\n",
       "      <th>Return to college</th>\n",
       "      <td>1469</td>\n",
       "      <td>NaN</td>\n",
       "      <td>NaN</td>\n",
       "      <td>NaN</td>\n",
       "    </tr>\n",
       "    <tr>\n",
       "      <th>Take online courses</th>\n",
       "      <td>2839</td>\n",
       "      <td>1368.0</td>\n",
       "      <td>230.0</td>\n",
       "      <td>3.0</td>\n",
       "    </tr>\n",
       "  </tbody>\n",
       "</table>\n",
       "</div>"
      ],
      "text/plain": [
       "                                              0       1       2       3\n",
       "Bootcamp                                    154   819.0   540.0    56.0\n",
       "Buy books and work through the exercises    138   640.0  1339.0  1305.0\n",
       "Conferences/meet-ups                         20   106.0   399.0  1013.0\n",
       "Contribute to open source                   552  1369.0   372.0    25.0\n",
       "Get a job as a QA tester                    776   238.0    22.0     NaN\n",
       "Master's degree                             504   268.0     NaN     NaN\n",
       "None of these                               181     NaN     NaN     NaN\n",
       "Other                                        91   136.0   143.0   210.0\n",
       "Part-time/evening courses                   114   739.0  1067.0   261.0\n",
       "Participate in hackathons                    40   221.0   391.0    91.0\n",
       "Participate in online coding competitions    28   210.0   511.0   250.0\n",
       "Return to college                          1469     NaN     NaN     NaN\n",
       "Take online courses                        2839  1368.0   230.0     3.0"
      ]
     },
     "execution_count": 442,
     "metadata": {},
     "output_type": "execute_result"
    }
   ],
   "source": [
    "c0 = couEduSplit[0].value_counts().sort_index()\n",
    "c1 = couEduSplit[1].value_counts().sort_index()\n",
    "c2 = couEduSplit[2].value_counts().sort_index()\n",
    "c3 = couEduSplit[3].value_counts().sort_index()\n",
    "\n",
    "pd.concat([c0, c1, c2, c3], axis=1)"
   ]
  },
  {
   "cell_type": "code",
   "execution_count": 443,
   "id": "0bd01e3f",
   "metadata": {},
   "outputs": [
    {
     "data": {
      "text/plain": [
       "Bootcamp                                     1569.0\n",
       "Buy books and work through the exercises     3422.0\n",
       "Conferences/meet-ups                         1538.0\n",
       "Contribute to open source                    2318.0\n",
       "Get a job as a QA tester                     1036.0\n",
       "Master's degree                               772.0\n",
       "None of these                                 181.0\n",
       "Other                                         580.0\n",
       "Part-time/evening courses                    2181.0\n",
       "Participate in hackathons                     743.0\n",
       "Participate in online coding competitions     999.0\n",
       "Return to college                            1469.0\n",
       "Take online courses                          4440.0\n",
       "dtype: float64"
      ]
     },
     "execution_count": 443,
     "metadata": {},
     "output_type": "execute_result"
    }
   ],
   "source": [
    "cc = pd.concat([c0, c1, c2, c3], axis=1).sum(axis=1)\n",
    "cc"
   ]
  },
  {
   "cell_type": "code",
   "execution_count": 444,
   "id": "e522dfa8",
   "metadata": {},
   "outputs": [
    {
     "data": {
      "text/plain": [
       "['Bootcamp',\n",
       " 'Buy books and work through the exercises',\n",
       " 'Conferences/meet-ups',\n",
       " 'Contribute to open source',\n",
       " 'Get a job as a QA tester',\n",
       " \"Master's degree\",\n",
       " 'None of these',\n",
       " 'Other',\n",
       " 'Part-time/evening courses',\n",
       " 'Participate in hackathons',\n",
       " 'Participate in online coding competitions',\n",
       " 'Return to college',\n",
       " 'Take online courses']"
      ]
     },
     "execution_count": 444,
     "metadata": {},
     "output_type": "execute_result"
    }
   ],
   "source": [
    "possible_methods = cc.index.to_list()\n",
    "possible_methods"
   ]
  },
  {
   "cell_type": "code",
   "execution_count": 445,
   "id": "ab27e499",
   "metadata": {},
   "outputs": [
    {
     "data": {
      "text/plain": [
       "None of these                                0.008518\n",
       "Other                                        0.027297\n",
       "Participate in hackathons                    0.034968\n",
       "Master's degree                              0.036333\n",
       "Participate in online coding competitions    0.047016\n",
       "Get a job as a QA tester                     0.048758\n",
       "Return to college                            0.069136\n",
       "Conferences/meet-ups                         0.072383\n",
       "Bootcamp                                     0.073842\n",
       "Part-time/evening courses                    0.102645\n",
       "Contribute to open source                    0.109093\n",
       "Buy books and work through the exercises     0.161050\n",
       "Take online courses                          0.208961\n",
       "dtype: float64"
      ]
     },
     "execution_count": 445,
     "metadata": {},
     "output_type": "execute_result"
    }
   ],
   "source": [
    "cc_relative = (cc/cc.sum()).sort_values()\n",
    "cc_relative"
   ]
  },
  {
   "cell_type": "code",
   "execution_count": 446,
   "id": "cdd902e9",
   "metadata": {},
   "outputs": [
    {
     "data": {
      "image/png": "[encoded data removed]",
      "text/plain": [
       "<Figure size 576x432 with 1 Axes>"
      ]
     },
     "metadata": {
      "needs_background": "light"
     },
     "output_type": "display_data"
    }
   ],
   "source": [
    "plt.figure(figsize=(8, 6))\n",
    "plt.barh(cc_relative.index, cc_relative.values, height=.6)\n",
    "\n",
    "plt.title(\"Method of Educating Suggested\", fontsize=16)\n",
    "plt.ylabel(\"Methods\", fontweight='bold', fontsize=12)\n",
    "plt.xlabel('Relative Freq.', fontweight='bold', fontsize=12, labelpad=12);"
   ]
  },
  {
   "cell_type": "code",
   "execution_count": 447,
   "id": "3084dac4",
   "metadata": {},
   "outputs": [
    {
     "data": {
      "text/plain": [
       "Take online courses                          0.208961\n",
       "Buy books and work through the exercises     0.161050\n",
       "Contribute to open source                    0.109093\n",
       "Part-time/evening courses                    0.102645\n",
       "Bootcamp                                     0.073842\n",
       "Conferences/meet-ups                         0.072383\n",
       "Return to college                            0.069136\n",
       "Get a job as a QA tester                     0.048758\n",
       "Participate in online coding competitions    0.047016\n",
       "Master's degree                              0.036333\n",
       "Participate in hackathons                    0.034968\n",
       "Other                                        0.027297\n",
       "None of these                                0.008518\n",
       "dtype: float64"
      ]
     },
     "execution_count": 447,
     "metadata": {},
     "output_type": "execute_result"
    },
    {
     "data": {
      "image/png": "[encoded data removed]",
      "text/plain": [
       "<Figure size 576x432 with 1 Axes>"
      ]
     },
     "metadata": {
      "needs_background": "light"
     },
     "output_type": "display_data"
    }
   ],
   "source": [
    "# Wrap the process above into a function in `helper.py`\n",
    "h.pct_by_method(df)"
   ]
  },
  {
   "cell_type": "code",
   "execution_count": 448,
   "id": "2b61ecad",
   "metadata": {},
   "outputs": [
    {
     "data": {
      "text/plain": [
       "Take online courses                          0.208961\n",
       "Buy books and work through the exercises     0.161050\n",
       "Contribute to open source                    0.109093\n",
       "Part-time/evening courses                    0.102645\n",
       "Bootcamp                                     0.073842\n",
       "Conferences/meet-ups                         0.072383\n",
       "Return to college                            0.069136\n",
       "Get a job as a QA tester                     0.048758\n",
       "Participate in online coding competitions    0.047016\n",
       "Master's degree                              0.036333\n",
       "Participate in hackathons                    0.034968\n",
       "Other                                        0.027297\n",
       "None of these                                0.008518\n",
       "dtype: float64"
      ]
     },
     "execution_count": 448,
     "metadata": {},
     "output_type": "execute_result"
    }
   ],
   "source": [
    "h.pct_by_method(df, plot=False)"
   ]
  },
  {
   "cell_type": "markdown",
   "id": "8eb9b1bd",
   "metadata": {},
   "source": [
    "**3.** Whether some of the individuals might have bias towards their own degrees?\n",
    "\n",
    "To answer the question above, we need to do some data processing. Th main idea here is to extract the formal education of the respondents already have had (`FormalEducation`), then compare them with the education they suggested from feature `CousinEducation`.\n",
    "\n",
    "First of all, by defining a `higher_ed_mapping` function, I encode all the records of `FormalEducation` column which are within `[Master's degree\", \"Doctoral\", \"Professional degree]` as `higher_ed` (higher-education-level)."
   ]
  },
  {
   "cell_type": "code",
   "execution_count": 449,
   "id": "ce5906d0",
   "metadata": {},
   "outputs": [],
   "source": [
    "# The following function has been put in `helper.py`\n",
    "# def higher_ed_mapping(df, edu_levels):\n",
    "#     df['higher_ed'] = df.FormalEducation.isin(edu_levels).astype('int')\n",
    "#     prop = df['higher_ed'].mean()\n",
    "#     return df, prop\n",
    "    \n",
    "# df, prop = higher_ed_mapping(df, [\"Master's degree\", \"Doctoral\", \"Professional degree\"])\n"
   ]
  },
  {
   "cell_type": "code",
   "execution_count": 450,
   "id": "2337585c",
   "metadata": {},
   "outputs": [],
   "source": [
    "df, prop = h.higher_ed_mapping(df, [\"Master's degree\", \"Doctoral\", \"Professional degree\"])"
   ]
  },
  {
   "cell_type": "code",
   "execution_count": 451,
   "id": "d2825368",
   "metadata": {},
   "outputs": [
    {
     "data": {
      "text/html": [
       "<div>\n",
       "<style scoped>\n",
       "    .dataframe tbody tr th:only-of-type {\n",
       "        vertical-align: middle;\n",
       "    }\n",
       "\n",
       "    .dataframe tbody tr th {\n",
       "        vertical-align: top;\n",
       "    }\n",
       "\n",
       "    .dataframe thead th {\n",
       "        text-align: right;\n",
       "    }\n",
       "</style>\n",
       "<table border=\"1\" class=\"dataframe\">\n",
       "  <thead>\n",
       "    <tr style=\"text-align: right;\">\n",
       "      <th></th>\n",
       "      <th>FormalEducation</th>\n",
       "      <th>higher_ed</th>\n",
       "    </tr>\n",
       "  </thead>\n",
       "  <tbody>\n",
       "    <tr>\n",
       "      <th>17145</th>\n",
       "      <td>Secondary school</td>\n",
       "      <td>0</td>\n",
       "    </tr>\n",
       "    <tr>\n",
       "      <th>8218</th>\n",
       "      <td>Master's degree</td>\n",
       "      <td>1</td>\n",
       "    </tr>\n",
       "    <tr>\n",
       "      <th>10836</th>\n",
       "      <td>Bachelor's degree</td>\n",
       "      <td>0</td>\n",
       "    </tr>\n",
       "    <tr>\n",
       "      <th>18676</th>\n",
       "      <td>Bachelor's degree</td>\n",
       "      <td>0</td>\n",
       "    </tr>\n",
       "    <tr>\n",
       "      <th>16557</th>\n",
       "      <td>Some college/university study without earning ...</td>\n",
       "      <td>0</td>\n",
       "    </tr>\n",
       "    <tr>\n",
       "      <th>18624</th>\n",
       "      <td>Secondary school</td>\n",
       "      <td>0</td>\n",
       "    </tr>\n",
       "    <tr>\n",
       "      <th>6582</th>\n",
       "      <td>Some college/university study without earning ...</td>\n",
       "      <td>0</td>\n",
       "    </tr>\n",
       "    <tr>\n",
       "      <th>6763</th>\n",
       "      <td>Bachelor's degree</td>\n",
       "      <td>0</td>\n",
       "    </tr>\n",
       "    <tr>\n",
       "      <th>621</th>\n",
       "      <td>Bachelor's degree</td>\n",
       "      <td>0</td>\n",
       "    </tr>\n",
       "    <tr>\n",
       "      <th>1046</th>\n",
       "      <td>Secondary school</td>\n",
       "      <td>0</td>\n",
       "    </tr>\n",
       "    <tr>\n",
       "      <th>10974</th>\n",
       "      <td>Master's degree</td>\n",
       "      <td>1</td>\n",
       "    </tr>\n",
       "    <tr>\n",
       "      <th>4291</th>\n",
       "      <td>Bachelor's degree</td>\n",
       "      <td>0</td>\n",
       "    </tr>\n",
       "    <tr>\n",
       "      <th>7952</th>\n",
       "      <td>Doctoral degree</td>\n",
       "      <td>0</td>\n",
       "    </tr>\n",
       "    <tr>\n",
       "      <th>14382</th>\n",
       "      <td>Bachelor's degree</td>\n",
       "      <td>0</td>\n",
       "    </tr>\n",
       "    <tr>\n",
       "      <th>1016</th>\n",
       "      <td>Some college/university study without earning ...</td>\n",
       "      <td>0</td>\n",
       "    </tr>\n",
       "    <tr>\n",
       "      <th>3677</th>\n",
       "      <td>Master's degree</td>\n",
       "      <td>1</td>\n",
       "    </tr>\n",
       "    <tr>\n",
       "      <th>8745</th>\n",
       "      <td>Some college/university study without earning ...</td>\n",
       "      <td>0</td>\n",
       "    </tr>\n",
       "    <tr>\n",
       "      <th>9857</th>\n",
       "      <td>I prefer not to answer</td>\n",
       "      <td>0</td>\n",
       "    </tr>\n",
       "    <tr>\n",
       "      <th>12404</th>\n",
       "      <td>Bachelor's degree</td>\n",
       "      <td>0</td>\n",
       "    </tr>\n",
       "    <tr>\n",
       "      <th>4116</th>\n",
       "      <td>Secondary school</td>\n",
       "      <td>0</td>\n",
       "    </tr>\n",
       "  </tbody>\n",
       "</table>\n",
       "</div>"
      ],
      "text/plain": [
       "                                         FormalEducation  higher_ed\n",
       "17145                                   Secondary school          0\n",
       "8218                                     Master's degree          1\n",
       "10836                                  Bachelor's degree          0\n",
       "18676                                  Bachelor's degree          0\n",
       "16557  Some college/university study without earning ...          0\n",
       "18624                                   Secondary school          0\n",
       "6582   Some college/university study without earning ...          0\n",
       "6763                                   Bachelor's degree          0\n",
       "621                                    Bachelor's degree          0\n",
       "1046                                    Secondary school          0\n",
       "10974                                    Master's degree          1\n",
       "4291                                   Bachelor's degree          0\n",
       "7952                                     Doctoral degree          0\n",
       "14382                                  Bachelor's degree          0\n",
       "1016   Some college/university study without earning ...          0\n",
       "3677                                     Master's degree          1\n",
       "8745   Some college/university study without earning ...          0\n",
       "9857                              I prefer not to answer          0\n",
       "12404                                  Bachelor's degree          0\n",
       "4116                                    Secondary school          0"
      ]
     },
     "execution_count": 451,
     "metadata": {},
     "output_type": "execute_result"
    }
   ],
   "source": [
    "# Check the encoding\n",
    "df[['FormalEducation', 'higher_ed']].sample(20)"
   ]
  },
  {
   "cell_type": "code",
   "execution_count": 452,
   "id": "c483c14b",
   "metadata": {},
   "outputs": [
    {
     "name": "stdout",
     "output_type": "stream",
     "text": [
      "About 23.02% of respondents have higher education degrees.\n"
     ]
    }
   ],
   "source": [
    "# % of respondents who already have higher-edu\n",
    "print(\"About {:.2%} of respondents have higher education degrees.\".format(prop))"
   ]
  },
  {
   "cell_type": "code",
   "execution_count": 453,
   "id": "d3d74d07",
   "metadata": {},
   "outputs": [],
   "source": [
    "# # Alternative method using `.apply()` \n",
    "# def higher_ed_mapping1(formal_ed_str):\n",
    "#     if formal_ed_str in [\"Master's degree\", \"Doctoral\", \"Professional degree\"]:\n",
    "#         return 1\n",
    "#     else:\n",
    "#         return 0\n",
    "    \n",
    "# # df['higher_ed1'] = df.FormalEducation.apply(higher_ed_mapping1)"
   ]
  },
  {
   "cell_type": "code",
   "execution_count": 454,
   "id": "4284369c",
   "metadata": {},
   "outputs": [],
   "source": [
    "# Filter respondents who already have higher edu\n",
    "df1 = df[df['higher_ed']==1]\n",
    "\n",
    "# Filter respondents who do not have higher edu\n",
    "df0 = df[df['higher_ed']==0]"
   ]
  },
  {
   "cell_type": "code",
   "execution_count": 455,
   "id": "e6d806ca",
   "metadata": {},
   "outputs": [
    {
     "data": {
      "text/plain": [
       "Take online courses                          0.205361\n",
       "Buy books and work through the exercises     0.163579\n",
       "Contribute to open source                    0.106031\n",
       "Part-time/evening courses                    0.101498\n",
       "Bootcamp                                     0.073118\n",
       "Return to college                            0.069176\n",
       "Conferences/meet-ups                         0.067008\n",
       "Master's degree                              0.055775\n",
       "Get a job as a QA tester                     0.050847\n",
       "Participate in online coding competitions    0.041585\n",
       "Participate in hackathons                    0.032125\n",
       "Other                                        0.024438\n",
       "None of these                                0.009460\n",
       "dtype: float64"
      ]
     },
     "execution_count": 455,
     "metadata": {},
     "output_type": "execute_result"
    },
    {
     "data": {
      "image/png": "[encoded data removed]",
      "text/plain": [
       "<Figure size 576x432 with 1 Axes>"
      ]
     },
     "metadata": {
      "needs_background": "light"
     },
     "output_type": "display_data"
    }
   ],
   "source": [
    "# Check df1\n",
    "h.pct_by_method(df1, \"Method of Educating Suggested by Higher-edu\", plot=True)"
   ]
  },
  {
   "cell_type": "code",
   "execution_count": 456,
   "id": "be10fc59",
   "metadata": {},
   "outputs": [
    {
     "data": {
      "text/plain": [
       "Take online courses                          0.210090\n",
       "Buy books and work through the exercises     0.160257\n",
       "Contribute to open source                    0.110053\n",
       "Part-time/evening courses                    0.103005\n",
       "Bootcamp                                     0.074069\n",
       "Conferences/meet-ups                         0.074069\n",
       "Return to college                            0.069123\n",
       "Participate in online coding competitions    0.048720\n",
       "Get a job as a QA tester                     0.048102\n",
       "Participate in hackathons                    0.035860\n",
       "Master's degree                              0.030234\n",
       "Other                                        0.028193\n",
       "None of these                                0.008223\n",
       "dtype: float64"
      ]
     },
     "execution_count": 456,
     "metadata": {},
     "output_type": "execute_result"
    },
    {
     "data": {
      "image/png": "[encoded data removed]",
      "text/plain": [
       "<Figure size 576x432 with 1 Axes>"
      ]
     },
     "metadata": {
      "needs_background": "light"
     },
     "output_type": "display_data"
    }
   ],
   "source": [
    "# Check df0\n",
    "h.pct_by_method(df0, \"Method of Educating Suggested by Non-Higher-edu\", plot=True)"
   ]
  },
  {
   "cell_type": "code",
   "execution_count": 457,
   "id": "dac40f83",
   "metadata": {},
   "outputs": [],
   "source": [
    "ed1_pct = h.pct_by_method(df1, \"Method of Educating Suggested by higher1\", plot=False)\n",
    "ed0_pct = h.pct_by_method(df0, \"Method of Educating Suggested by higher0\", plot=False)"
   ]
  },
  {
   "cell_type": "code",
   "execution_count": 458,
   "id": "edcac745",
   "metadata": {},
   "outputs": [],
   "source": [
    "cmb_df = pd.concat([ed1_pct, ed0_pct], axis=1)\n",
    "cmb_df.rename(columns={0: 'ed1_pct', 1: 'ed0_pct'}, inplace=True)\n",
    "cmb_df['diff_ed'] = cmb_df.ed1_pct - cmb_df.ed0_pct"
   ]
  },
  {
   "cell_type": "code",
   "execution_count": 459,
   "id": "e508100b",
   "metadata": {},
   "outputs": [
    {
     "data": {
      "text/html": [
       "<div>\n",
       "<style scoped>\n",
       "    .dataframe tbody tr th:only-of-type {\n",
       "        vertical-align: middle;\n",
       "    }\n",
       "\n",
       "    .dataframe tbody tr th {\n",
       "        vertical-align: top;\n",
       "    }\n",
       "\n",
       "    .dataframe thead th {\n",
       "        text-align: right;\n",
       "    }\n",
       "</style>\n",
       "<table border=\"1\" class=\"dataframe\">\n",
       "  <thead>\n",
       "    <tr style=\"text-align: right;\">\n",
       "      <th></th>\n",
       "      <th>ed1_pct</th>\n",
       "      <th>ed0_pct</th>\n",
       "      <th>diff_ed</th>\n",
       "    </tr>\n",
       "  </thead>\n",
       "  <tbody>\n",
       "    <tr>\n",
       "      <th>Take online courses</th>\n",
       "      <td>0.205361</td>\n",
       "      <td>0.210090</td>\n",
       "      <td>-0.004730</td>\n",
       "    </tr>\n",
       "    <tr>\n",
       "      <th>Buy books and work through the exercises</th>\n",
       "      <td>0.163579</td>\n",
       "      <td>0.160257</td>\n",
       "      <td>0.003322</td>\n",
       "    </tr>\n",
       "    <tr>\n",
       "      <th>Contribute to open source</th>\n",
       "      <td>0.106031</td>\n",
       "      <td>0.110053</td>\n",
       "      <td>-0.004022</td>\n",
       "    </tr>\n",
       "    <tr>\n",
       "      <th>Part-time/evening courses</th>\n",
       "      <td>0.101498</td>\n",
       "      <td>0.103005</td>\n",
       "      <td>-0.001507</td>\n",
       "    </tr>\n",
       "    <tr>\n",
       "      <th>Bootcamp</th>\n",
       "      <td>0.073118</td>\n",
       "      <td>0.074069</td>\n",
       "      <td>-0.000952</td>\n",
       "    </tr>\n",
       "    <tr>\n",
       "      <th>Return to college</th>\n",
       "      <td>0.069176</td>\n",
       "      <td>0.069123</td>\n",
       "      <td>0.000053</td>\n",
       "    </tr>\n",
       "    <tr>\n",
       "      <th>Conferences/meet-ups</th>\n",
       "      <td>0.067008</td>\n",
       "      <td>0.074069</td>\n",
       "      <td>-0.007061</td>\n",
       "    </tr>\n",
       "    <tr>\n",
       "      <th>Master's degree</th>\n",
       "      <td>0.055775</td>\n",
       "      <td>0.030234</td>\n",
       "      <td>0.025541</td>\n",
       "    </tr>\n",
       "    <tr>\n",
       "      <th>Get a job as a QA tester</th>\n",
       "      <td>0.050847</td>\n",
       "      <td>0.048102</td>\n",
       "      <td>0.002746</td>\n",
       "    </tr>\n",
       "    <tr>\n",
       "      <th>Participate in online coding competitions</th>\n",
       "      <td>0.041585</td>\n",
       "      <td>0.048720</td>\n",
       "      <td>-0.007136</td>\n",
       "    </tr>\n",
       "    <tr>\n",
       "      <th>Participate in hackathons</th>\n",
       "      <td>0.032125</td>\n",
       "      <td>0.035860</td>\n",
       "      <td>-0.003735</td>\n",
       "    </tr>\n",
       "    <tr>\n",
       "      <th>Other</th>\n",
       "      <td>0.024438</td>\n",
       "      <td>0.028193</td>\n",
       "      <td>-0.003755</td>\n",
       "    </tr>\n",
       "    <tr>\n",
       "      <th>None of these</th>\n",
       "      <td>0.009460</td>\n",
       "      <td>0.008223</td>\n",
       "      <td>0.001237</td>\n",
       "    </tr>\n",
       "  </tbody>\n",
       "</table>\n",
       "</div>"
      ],
      "text/plain": [
       "                                            ed1_pct   ed0_pct   diff_ed\n",
       "Take online courses                        0.205361  0.210090 -0.004730\n",
       "Buy books and work through the exercises   0.163579  0.160257  0.003322\n",
       "Contribute to open source                  0.106031  0.110053 -0.004022\n",
       "Part-time/evening courses                  0.101498  0.103005 -0.001507\n",
       "Bootcamp                                   0.073118  0.074069 -0.000952\n",
       "Return to college                          0.069176  0.069123  0.000053\n",
       "Conferences/meet-ups                       0.067008  0.074069 -0.007061\n",
       "Master's degree                            0.055775  0.030234  0.025541\n",
       "Get a job as a QA tester                   0.050847  0.048102  0.002746\n",
       "Participate in online coding competitions  0.041585  0.048720 -0.007136\n",
       "Participate in hackathons                  0.032125  0.035860 -0.003735\n",
       "Other                                      0.024438  0.028193 -0.003755\n",
       "None of these                              0.009460  0.008223  0.001237"
      ]
     },
     "execution_count": 459,
     "metadata": {},
     "output_type": "execute_result"
    }
   ],
   "source": [
    "cmb_df"
   ]
  },
  {
   "cell_type": "code",
   "execution_count": 460,
   "id": "9059115a",
   "metadata": {},
   "outputs": [
    {
     "data": {
      "text/html": [
       "<style type=\"text/css\">\n",
       "#T_cbbc4_row0_col2 {\n",
       "  width: 10em;\n",
       "  height: 80%;\n",
       "  background: linear-gradient(90deg, transparent 40.7%, #d65f5f 40.7%, #d65f5f 50.0%, transparent 50.0%);\n",
       "}\n",
       "#T_cbbc4_row1_col2 {\n",
       "  width: 10em;\n",
       "  height: 80%;\n",
       "  background: linear-gradient(90deg, transparent 50.0%, #5fba7d 50.0%, #5fba7d 56.5%, transparent 56.5%);\n",
       "}\n",
       "#T_cbbc4_row2_col2 {\n",
       "  width: 10em;\n",
       "  height: 80%;\n",
       "  background: linear-gradient(90deg, transparent 42.1%, #d65f5f 42.1%, #d65f5f 50.0%, transparent 50.0%);\n",
       "}\n",
       "#T_cbbc4_row3_col2 {\n",
       "  width: 10em;\n",
       "  height: 80%;\n",
       "  background: linear-gradient(90deg, transparent 47.0%, #d65f5f 47.0%, #d65f5f 50.0%, transparent 50.0%);\n",
       "}\n",
       "#T_cbbc4_row4_col2 {\n",
       "  width: 10em;\n",
       "  height: 80%;\n",
       "  background: linear-gradient(90deg, transparent 48.1%, #d65f5f 48.1%, #d65f5f 50.0%, transparent 50.0%);\n",
       "}\n",
       "#T_cbbc4_row5_col2 {\n",
       "  width: 10em;\n",
       "  height: 80%;\n",
       "  background: linear-gradient(90deg, transparent 50.0%, #5fba7d 50.0%, #5fba7d 50.1%, transparent 50.1%);\n",
       "}\n",
       "#T_cbbc4_row6_col2 {\n",
       "  width: 10em;\n",
       "  height: 80%;\n",
       "  background: linear-gradient(90deg, transparent 36.2%, #d65f5f 36.2%, #d65f5f 50.0%, transparent 50.0%);\n",
       "}\n",
       "#T_cbbc4_row7_col2 {\n",
       "  width: 10em;\n",
       "  height: 80%;\n",
       "  background: linear-gradient(90deg, transparent 50.0%, #5fba7d 50.0%, #5fba7d 100.0%, transparent 100.0%);\n",
       "}\n",
       "#T_cbbc4_row8_col2 {\n",
       "  width: 10em;\n",
       "  height: 80%;\n",
       "  background: linear-gradient(90deg, transparent 50.0%, #5fba7d 50.0%, #5fba7d 55.4%, transparent 55.4%);\n",
       "}\n",
       "#T_cbbc4_row9_col2 {\n",
       "  width: 10em;\n",
       "  height: 80%;\n",
       "  background: linear-gradient(90deg, transparent 36.0%, #d65f5f 36.0%, #d65f5f 50.0%, transparent 50.0%);\n",
       "}\n",
       "#T_cbbc4_row10_col2 {\n",
       "  width: 10em;\n",
       "  height: 80%;\n",
       "  background: linear-gradient(90deg, transparent 42.7%, #d65f5f 42.7%, #d65f5f 50.0%, transparent 50.0%);\n",
       "}\n",
       "#T_cbbc4_row11_col2 {\n",
       "  width: 10em;\n",
       "  height: 80%;\n",
       "  background: linear-gradient(90deg, transparent 42.6%, #d65f5f 42.6%, #d65f5f 50.0%, transparent 50.0%);\n",
       "}\n",
       "#T_cbbc4_row12_col2 {\n",
       "  width: 10em;\n",
       "  height: 80%;\n",
       "  background: linear-gradient(90deg, transparent 50.0%, #5fba7d 50.0%, #5fba7d 52.4%, transparent 52.4%);\n",
       "}\n",
       "</style>\n",
       "<table id=\"T_cbbc4_\">\n",
       "  <thead>\n",
       "    <tr>\n",
       "      <th class=\"blank level0\" >&nbsp;</th>\n",
       "      <th class=\"col_heading level0 col0\" >ed1_pct</th>\n",
       "      <th class=\"col_heading level0 col1\" >ed0_pct</th>\n",
       "      <th class=\"col_heading level0 col2\" >diff_ed</th>\n",
       "    </tr>\n",
       "  </thead>\n",
       "  <tbody>\n",
       "    <tr>\n",
       "      <th id=\"T_cbbc4_level0_row0\" class=\"row_heading level0 row0\" >Take online courses</th>\n",
       "      <td id=\"T_cbbc4_row0_col0\" class=\"data row0 col0\" >0.205361</td>\n",
       "      <td id=\"T_cbbc4_row0_col1\" class=\"data row0 col1\" >0.210090</td>\n",
       "      <td id=\"T_cbbc4_row0_col2\" class=\"data row0 col2\" >-0.004730</td>\n",
       "    </tr>\n",
       "    <tr>\n",
       "      <th id=\"T_cbbc4_level0_row1\" class=\"row_heading level0 row1\" >Buy books and work through the exercises</th>\n",
       "      <td id=\"T_cbbc4_row1_col0\" class=\"data row1 col0\" >0.163579</td>\n",
       "      <td id=\"T_cbbc4_row1_col1\" class=\"data row1 col1\" >0.160257</td>\n",
       "      <td id=\"T_cbbc4_row1_col2\" class=\"data row1 col2\" >0.003322</td>\n",
       "    </tr>\n",
       "    <tr>\n",
       "      <th id=\"T_cbbc4_level0_row2\" class=\"row_heading level0 row2\" >Contribute to open source</th>\n",
       "      <td id=\"T_cbbc4_row2_col0\" class=\"data row2 col0\" >0.106031</td>\n",
       "      <td id=\"T_cbbc4_row2_col1\" class=\"data row2 col1\" >0.110053</td>\n",
       "      <td id=\"T_cbbc4_row2_col2\" class=\"data row2 col2\" >-0.004022</td>\n",
       "    </tr>\n",
       "    <tr>\n",
       "      <th id=\"T_cbbc4_level0_row3\" class=\"row_heading level0 row3\" >Part-time/evening courses</th>\n",
       "      <td id=\"T_cbbc4_row3_col0\" class=\"data row3 col0\" >0.101498</td>\n",
       "      <td id=\"T_cbbc4_row3_col1\" class=\"data row3 col1\" >0.103005</td>\n",
       "      <td id=\"T_cbbc4_row3_col2\" class=\"data row3 col2\" >-0.001507</td>\n",
       "    </tr>\n",
       "    <tr>\n",
       "      <th id=\"T_cbbc4_level0_row4\" class=\"row_heading level0 row4\" >Bootcamp</th>\n",
       "      <td id=\"T_cbbc4_row4_col0\" class=\"data row4 col0\" >0.073118</td>\n",
       "      <td id=\"T_cbbc4_row4_col1\" class=\"data row4 col1\" >0.074069</td>\n",
       "      <td id=\"T_cbbc4_row4_col2\" class=\"data row4 col2\" >-0.000952</td>\n",
       "    </tr>\n",
       "    <tr>\n",
       "      <th id=\"T_cbbc4_level0_row5\" class=\"row_heading level0 row5\" >Return to college</th>\n",
       "      <td id=\"T_cbbc4_row5_col0\" class=\"data row5 col0\" >0.069176</td>\n",
       "      <td id=\"T_cbbc4_row5_col1\" class=\"data row5 col1\" >0.069123</td>\n",
       "      <td id=\"T_cbbc4_row5_col2\" class=\"data row5 col2\" >0.000053</td>\n",
       "    </tr>\n",
       "    <tr>\n",
       "      <th id=\"T_cbbc4_level0_row6\" class=\"row_heading level0 row6\" >Conferences/meet-ups</th>\n",
       "      <td id=\"T_cbbc4_row6_col0\" class=\"data row6 col0\" >0.067008</td>\n",
       "      <td id=\"T_cbbc4_row6_col1\" class=\"data row6 col1\" >0.074069</td>\n",
       "      <td id=\"T_cbbc4_row6_col2\" class=\"data row6 col2\" >-0.007061</td>\n",
       "    </tr>\n",
       "    <tr>\n",
       "      <th id=\"T_cbbc4_level0_row7\" class=\"row_heading level0 row7\" >Master's degree</th>\n",
       "      <td id=\"T_cbbc4_row7_col0\" class=\"data row7 col0\" >0.055775</td>\n",
       "      <td id=\"T_cbbc4_row7_col1\" class=\"data row7 col1\" >0.030234</td>\n",
       "      <td id=\"T_cbbc4_row7_col2\" class=\"data row7 col2\" >0.025541</td>\n",
       "    </tr>\n",
       "    <tr>\n",
       "      <th id=\"T_cbbc4_level0_row8\" class=\"row_heading level0 row8\" >Get a job as a QA tester</th>\n",
       "      <td id=\"T_cbbc4_row8_col0\" class=\"data row8 col0\" >0.050847</td>\n",
       "      <td id=\"T_cbbc4_row8_col1\" class=\"data row8 col1\" >0.048102</td>\n",
       "      <td id=\"T_cbbc4_row8_col2\" class=\"data row8 col2\" >0.002746</td>\n",
       "    </tr>\n",
       "    <tr>\n",
       "      <th id=\"T_cbbc4_level0_row9\" class=\"row_heading level0 row9\" >Participate in online coding competitions</th>\n",
       "      <td id=\"T_cbbc4_row9_col0\" class=\"data row9 col0\" >0.041585</td>\n",
       "      <td id=\"T_cbbc4_row9_col1\" class=\"data row9 col1\" >0.048720</td>\n",
       "      <td id=\"T_cbbc4_row9_col2\" class=\"data row9 col2\" >-0.007136</td>\n",
       "    </tr>\n",
       "    <tr>\n",
       "      <th id=\"T_cbbc4_level0_row10\" class=\"row_heading level0 row10\" >Participate in hackathons</th>\n",
       "      <td id=\"T_cbbc4_row10_col0\" class=\"data row10 col0\" >0.032125</td>\n",
       "      <td id=\"T_cbbc4_row10_col1\" class=\"data row10 col1\" >0.035860</td>\n",
       "      <td id=\"T_cbbc4_row10_col2\" class=\"data row10 col2\" >-0.003735</td>\n",
       "    </tr>\n",
       "    <tr>\n",
       "      <th id=\"T_cbbc4_level0_row11\" class=\"row_heading level0 row11\" >Other</th>\n",
       "      <td id=\"T_cbbc4_row11_col0\" class=\"data row11 col0\" >0.024438</td>\n",
       "      <td id=\"T_cbbc4_row11_col1\" class=\"data row11 col1\" >0.028193</td>\n",
       "      <td id=\"T_cbbc4_row11_col2\" class=\"data row11 col2\" >-0.003755</td>\n",
       "    </tr>\n",
       "    <tr>\n",
       "      <th id=\"T_cbbc4_level0_row12\" class=\"row_heading level0 row12\" >None of these</th>\n",
       "      <td id=\"T_cbbc4_row12_col0\" class=\"data row12 col0\" >0.009460</td>\n",
       "      <td id=\"T_cbbc4_row12_col1\" class=\"data row12 col1\" >0.008223</td>\n",
       "      <td id=\"T_cbbc4_row12_col2\" class=\"data row12 col2\" >0.001237</td>\n",
       "    </tr>\n",
       "  </tbody>\n",
       "</table>\n"
      ],
      "text/plain": [
       "<pandas.io.formats.style.Styler at 0x7ffe231b0dd0>"
      ]
     },
     "execution_count": 460,
     "metadata": {},
     "output_type": "execute_result"
    }
   ],
   "source": [
    "cmb_df.style.bar(subset=['diff_ed'], align='zero', color=['#d65f5f', '#5fba7d'])"
   ]
  },
  {
   "cell_type": "markdown",
   "id": "46ecfe3f",
   "metadata": {},
   "source": [
    "**Conclusions:**\n",
    "\n",
    "From the analysis above, we can come to the conlusions below:\n",
    "\n",
    "- Regardless of formal education, **online courses** are the top suggested form of education.\n",
    "- Those with higher formal education suggest it more than those who do not have it. (As we can see respondents who have a **Master's degree** suggested a higher degree about **2.5% more** than those who haven't.)\n",
    "- However, the rest of methods for educating are less than 1% between suggestions of the two groups for all forms of education.\n",
    "- As there are a number of ways to become a developer, it is **NOT** a must to get a higher level of formal education (No one of the categories of degree labeled as 1.)"
   ]
  },
  {
   "cell_type": "code",
   "execution_count": null,
   "id": "1aec8866",
   "metadata": {},
   "outputs": [],
   "source": []
  },
  {
   "cell_type": "markdown",
   "id": "95d1c5de",
   "metadata": {},
   "source": [
    "## Explore `Job Satisfaction` Feature\n",
    "\n",
    "The ___following questions___ will be explored in this section.\n",
    "\n",
    "**1.** The proportion of missing values in the Job Satisfaction column.\n",
    "\n",
    "**2.** According to EmploymentStatus, which group has the highest average job satisfaction?\n",
    "\n",
    "**3.** In general, do smaller companies appear to have employees with higher job satisfaction?\n",
    "\n",
    "**4.** Do individuals who program outside of work appear to have higher JobSatisfaction?\n",
    "\n",
    "**5.** Does flexibility to work outside of the office appear to have an influence on JobSatisfaction?\n",
    "\n",
    "**6.** A friend says a Doctoral degree increases the chance of having job you like, does this seem true?"
   ]
  },
  {
   "cell_type": "markdown",
   "id": "24b42f0a",
   "metadata": {},
   "source": [
    "**Q1:** The proportion of missing values in the Job Satisfaction column."
   ]
  },
  {
   "cell_type": "code",
   "execution_count": 461,
   "id": "802a5626",
   "metadata": {},
   "outputs": [
    {
     "name": "stdout",
     "output_type": "stream",
     "text": [
      "Conclusion: 20.15% of values in \u001b[1mJob Satisfaction\u001b[0m column are missing.\n"
     ]
    }
   ],
   "source": [
    "missing_pct = df.JobSatisfaction.isna().mean()\n",
    "print(\"Conclusion: {:.2%} of values in \\033[1mJob Satisfaction\\033[0m column are missing.\".format(missing_pct))"
   ]
  },
  {
   "cell_type": "markdown",
   "id": "37407bf7",
   "metadata": {},
   "source": [
    "**Q2:** According to EmploymentStatus, which group has the highest average job satisfaction?"
   ]
  },
  {
   "cell_type": "code",
   "execution_count": 462,
   "id": "7c2410c2",
   "metadata": {},
   "outputs": [],
   "source": [
    "# Filter out missing values in `JobSatisfaction`\n",
    "job_satisfaction_notna = df[df.JobSatisfaction.notna()]"
   ]
  },
  {
   "cell_type": "code",
   "execution_count": 463,
   "id": "1203ad4e",
   "metadata": {},
   "outputs": [
    {
     "data": {
      "text/plain": [
       "<module 'helper' from '/Users/alejandrosanz/Downloads/projects_on_GitHub/cases/SurveyDataAnalysis/helper.py'>"
      ]
     },
     "execution_count": 463,
     "metadata": {},
     "output_type": "execute_result"
    }
   ],
   "source": [
    "importlib.reload(h)"
   ]
  },
  {
   "cell_type": "code",
   "execution_count": 464,
   "id": "b9c7a811",
   "metadata": {},
   "outputs": [],
   "source": [
    "# See `helper.py`\n",
    "# def job_satisfaction_byGroup(df, by_col):\n",
    "#     res_srs = df.groupby(by_col).JobSatisfaction.mean().sort_values(ascending=False)\n",
    "#     res_df = res_srs.rename('Avg_JobSatisfaction').to_frame()\n",
    "#     print(res_df)"
   ]
  },
  {
   "cell_type": "code",
   "execution_count": 465,
   "id": "0c64af7b",
   "metadata": {},
   "outputs": [
    {
     "name": "stdout",
     "output_type": "stream",
     "text": [
      "                                                    Avg_JobSatisfaction\n",
      "EmploymentStatus                                                       \n",
      "Independent contractor, freelancer, or self-emp...             7.231985\n",
      "Employed full-time                                             6.980608\n",
      "Employed part-time                                             6.846154\n"
     ]
    }
   ],
   "source": [
    "h.job_satisfaction_byGroup(job_satisfaction_notna, 'EmploymentStatus')"
   ]
  },
  {
   "cell_type": "markdown",
   "id": "f679c973",
   "metadata": {},
   "source": [
    "**Conclusion:** `Independent contractor, freelancer, or self-employed` seems to has the highest average job satisfaction."
   ]
  },
  {
   "cell_type": "markdown",
   "id": "e4591341",
   "metadata": {},
   "source": [
    "**Q3:** In general, do smaller companies appear to have employees with higher job satisfaction?"
   ]
  },
  {
   "cell_type": "code",
   "execution_count": 466,
   "id": "1ef307f7",
   "metadata": {},
   "outputs": [
    {
     "data": {
      "text/plain": [
       "dtype('O')"
      ]
     },
     "execution_count": 466,
     "metadata": {},
     "output_type": "execute_result"
    }
   ],
   "source": [
    "# Explore company size type\n",
    "df.CompanySize.dtype"
   ]
  },
  {
   "cell_type": "code",
   "execution_count": 467,
   "id": "b9d786dc",
   "metadata": {},
   "outputs": [
    {
     "data": {
      "text/plain": [
       "20 to 99 employees          3214\n",
       "100 to 499 employees        2858\n",
       "10,000 or more employees    1998\n",
       "10 to 19 employees          1544\n",
       "1,000 to 4,999 employees    1482\n",
       "Fewer than 10 employees     1456\n",
       "500 to 999 employees         946\n",
       "5,000 to 9,999 employees     606\n",
       "I don't know                 311\n",
       "I prefer not to answer       238\n",
       "Name: CompanySize, dtype: int64"
      ]
     },
     "execution_count": 467,
     "metadata": {},
     "output_type": "execute_result"
    }
   ],
   "source": [
    "df.CompanySize.value_counts()"
   ]
  },
  {
   "cell_type": "code",
   "execution_count": 468,
   "id": "095c2090",
   "metadata": {},
   "outputs": [],
   "source": [
    "# Designated order for company size\n",
    "comp_size_list = ['Fewer than 10 employees', '10 to 19 employees', \\\n",
    "                 '20 to 99 employees', '100 to 499 employees', '500 to 999 employees', '1,000 to 4,999 employees', \\\n",
    "                 '5,000 to 9,999 employees', '10,000 or more employees', \"I don't know\", \"I prefer not to answer\"]\n",
    "\n",
    "# Convert dtype of `CompanySize` to `pd.CategoricalDtype`\n",
    "h.ord_cat_convert(df, 'CompanySize', comp_size_list)"
   ]
  },
  {
   "cell_type": "code",
   "execution_count": 469,
   "id": "30639be9",
   "metadata": {},
   "outputs": [
    {
     "data": {
      "text/plain": [
       "CategoricalDtype(categories=['Fewer than 10 employees', '10 to 19 employees',\n",
       "                  '20 to 99 employees', '100 to 499 employees',\n",
       "                  '500 to 999 employees', '1,000 to 4,999 employees',\n",
       "                  '5,000 to 9,999 employees', '10,000 or more employees',\n",
       "                  'I don't know', 'I prefer not to answer'],\n",
       ", ordered=True)"
      ]
     },
     "execution_count": 469,
     "metadata": {},
     "output_type": "execute_result"
    }
   ],
   "source": [
    "# Validate data type after conversion\n",
    "df.CompanySize.dtype"
   ]
  },
  {
   "cell_type": "code",
   "execution_count": 470,
   "id": "bceb3e66",
   "metadata": {},
   "outputs": [
    {
     "data": {
      "text/plain": [
       "CompanySize\n",
       "1,000 to 4,999 employees    6.908506\n",
       "10 to 19 employees          7.035739\n",
       "10,000 or more employees    6.793617\n",
       "100 to 499 employees        7.029324\n",
       "20 to 99 employees          6.997039\n",
       "5,000 to 9,999 employees    6.832155\n",
       "500 to 999 employees        7.029967\n",
       "Fewer than 10 employees     7.025719\n",
       "I don't know                7.054622\n",
       "I prefer not to answer      7.284946\n",
       "Name: JobSatisfaction, dtype: float64"
      ]
     },
     "execution_count": 470,
     "metadata": {},
     "output_type": "execute_result"
    }
   ],
   "source": [
    "job_satisfaction_notna.groupby('CompanySize').JobSatisfaction.mean()"
   ]
  },
  {
   "cell_type": "code",
   "execution_count": 471,
   "id": "4d9627f6",
   "metadata": {},
   "outputs": [
    {
     "data": {
      "text/plain": [
       "<AxesSubplot:ylabel='CompanySize'>"
      ]
     },
     "execution_count": 471,
     "metadata": {},
     "output_type": "execute_result"
    },
    {
     "data": {
      "image/png": "[encoded data removed]",
      "text/plain": [
       "<Figure size 432x288 with 1 Axes>"
      ]
     },
     "metadata": {
      "needs_background": "light"
     },
     "output_type": "display_data"
    }
   ],
   "source": [
    "job_satisfaction_notna.groupby('CompanySize').JobSatisfaction.mean().plot(kind='barh')"
   ]
  },
  {
   "cell_type": "markdown",
   "id": "70c2b9ed",
   "metadata": {},
   "source": [
    "**Conclusion:** From the bar plot above, in general, smaller companies appear to have employees with higher job satisfaction, especially for those under 1,000 employees."
   ]
  },
  {
   "cell_type": "markdown",
   "id": "c9a5ee6d",
   "metadata": {},
   "source": [
    "**Q4.** Do individuals who program outside of work appear to have higher JobSatisfaction?\n",
    "\n",
    "**ANS:** Yes."
   ]
  },
  {
   "cell_type": "code",
   "execution_count": 472,
   "id": "b5697a25",
   "metadata": {},
   "outputs": [
    {
     "data": {
      "text/plain": [
       "'Do you program as a hobby or contribute to open source projects?'"
      ]
     },
     "execution_count": 472,
     "metadata": {},
     "output_type": "execute_result"
    }
   ],
   "source": [
    "h.get_description(schema, 'ProgramHobby')"
   ]
  },
  {
   "cell_type": "code",
   "execution_count": 473,
   "id": "313b7c3b",
   "metadata": {},
   "outputs": [
    {
     "name": "stdout",
     "output_type": "stream",
     "text": [
      "                                           Avg_JobSatisfaction\n",
      "ProgramHobby                                                  \n",
      "Yes, both                                             7.189316\n",
      "Yes, I contribute to open source projects             7.158649\n",
      "Yes, I program as a hobby                             6.927150\n",
      "No                                                    6.874806\n"
     ]
    }
   ],
   "source": [
    "h.job_satisfaction_byGroup(job_satisfaction_notna, 'ProgramHobby')"
   ]
  },
  {
   "cell_type": "markdown",
   "id": "5979f6e8",
   "metadata": {},
   "source": [
    "**Q5.** Does flexibility to work outside of the office appear to have an influence on JobSatisfaction?\n",
    "\n",
    "**ANS:** Yes."
   ]
  },
  {
   "cell_type": "code",
   "execution_count": 474,
   "id": "4cd05df9",
   "metadata": {},
   "outputs": [
    {
     "data": {
      "text/plain": [
       "'How often do you work from home or remotely?'"
      ]
     },
     "execution_count": 474,
     "metadata": {},
     "output_type": "execute_result"
    }
   ],
   "source": [
    "h.get_description(schema, 'HomeRemote')"
   ]
  },
  {
   "cell_type": "code",
   "execution_count": 475,
   "id": "e813c65e",
   "metadata": {},
   "outputs": [
    {
     "name": "stdout",
     "output_type": "stream",
     "text": [
      "                                                    Avg_JobSatisfaction\n",
      "HomeRemote                                                             \n",
      "All or almost all the time (I'm full-time remote)              7.405421\n",
      "Less than half the time, but at least one day e...             7.143786\n",
      "About half the time                                            7.125737\n",
      "A few days each month                                          7.096694\n",
      "More than half, but not all, the time                          6.973684\n",
      "It's complicated                                               6.942053\n",
      "Never                                                          6.697127\n"
     ]
    }
   ],
   "source": [
    "h.job_satisfaction_byGroup(job_satisfaction_notna, 'HomeRemote')"
   ]
  },
  {
   "cell_type": "code",
   "execution_count": null,
   "id": "1f6fc4b5",
   "metadata": {},
   "outputs": [],
   "source": []
  },
  {
   "cell_type": "markdown",
   "id": "cba5d279",
   "metadata": {},
   "source": [
    "**Q6.** A friend says a Doctoral degree increases the chance of having job you like, does this seem true?\n",
    "\n",
    "**ANS:** Yes."
   ]
  },
  {
   "cell_type": "code",
   "execution_count": 476,
   "id": "c3f8915f",
   "metadata": {},
   "outputs": [
    {
     "data": {
      "text/plain": [
       "\"Which of the following best describes the highest level of formal education that you've completed?\""
      ]
     },
     "execution_count": 476,
     "metadata": {},
     "output_type": "execute_result"
    }
   ],
   "source": [
    "h.get_description(schema, 'FormalEducation')"
   ]
  },
  {
   "cell_type": "code",
   "execution_count": 477,
   "id": "4cbaca7a",
   "metadata": {},
   "outputs": [
    {
     "name": "stdout",
     "output_type": "stream",
     "text": [
      "                                                    Avg_JobSatisfaction\n",
      "FormalEducation                                                        \n",
      "Doctoral degree                                                7.438492\n",
      "Secondary school                                               7.219512\n",
      "I prefer not to answer                                         7.211679\n",
      "Some college/university study without earning a...             7.151268\n",
      "Professional degree                                            7.075893\n",
      "I never completed any formal education                         7.000000\n",
      "Master's degree                                                6.977356\n",
      "Primary/elementary school                                      6.946237\n",
      "Bachelor's degree                                              6.900293\n"
     ]
    }
   ],
   "source": [
    "h.job_satisfaction_byGroup(job_satisfaction_notna, 'FormalEducation')"
   ]
  },
  {
   "cell_type": "code",
   "execution_count": null,
   "id": "e0d4d314",
   "metadata": {},
   "outputs": [],
   "source": []
  },
  {
   "cell_type": "markdown",
   "id": "44427ea1",
   "metadata": {},
   "source": [
    "## Predict `Salary`"
   ]
  },
  {
   "cell_type": "markdown",
   "id": "2bf5a1e3",
   "metadata": {},
   "source": [
    "### Preparatory 1: Explore Numeric Features"
   ]
  },
  {
   "cell_type": "markdown",
   "id": "fbe23153",
   "metadata": {},
   "source": [
    "In this dataset, I use the following code to filter the numeric variables only:\n",
    "\n",
    "```python\n",
    "df.select_dtypes(include=['int64', 'float64'])\n",
    "\n",
    "```"
   ]
  },
  {
   "cell_type": "code",
   "execution_count": 478,
   "id": "31d311e6",
   "metadata": {},
   "outputs": [
    {
     "data": {
      "text/plain": [
       "Index(['Respondent', 'CareerSatisfaction', 'JobSatisfaction', 'HoursPerWeek',\n",
       "       'StackOverflowSatisfaction', 'Salary', 'ExpectedSalary', 'higher_ed'],\n",
       "      dtype='object')"
      ]
     },
     "execution_count": 478,
     "metadata": {},
     "output_type": "execute_result"
    }
   ],
   "source": [
    "num_vars = df.select_dtypes(include=['int64', 'float64']).columns\n",
    "num_vars"
   ]
  },
  {
   "cell_type": "code",
   "execution_count": 479,
   "id": "56931217",
   "metadata": {},
   "outputs": [
    {
     "data": {
      "text/plain": [
       "ExpectedSalary               18284\n",
       "Salary                       14093\n",
       "HoursPerWeek                 11381\n",
       "StackOverflowSatisfaction     5650\n",
       "JobSatisfaction               3849\n",
       "CareerSatisfaction            3000\n",
       "Respondent                       0\n",
       "higher_ed                        0\n",
       "dtype: int64"
      ]
     },
     "execution_count": 479,
     "metadata": {},
     "output_type": "execute_result"
    }
   ],
   "source": [
    "# Check missingness\n",
    "df[num_vars].isna().sum().sort_values(ascending=False)"
   ]
  },
  {
   "cell_type": "code",
   "execution_count": 480,
   "id": "61b23be2",
   "metadata": {},
   "outputs": [
    {
     "data": {
      "image/png": "[encoded data removed]",
      "text/plain": [
       "<Figure size 864x864 with 9 Axes>"
      ]
     },
     "metadata": {
      "needs_background": "light"
     },
     "output_type": "display_data"
    }
   ],
   "source": [
    "# Data distribution by histogram\n",
    "df[num_vars].hist(figsize=(12,12));"
   ]
  },
  {
   "cell_type": "code",
   "execution_count": 481,
   "id": "faf6157a",
   "metadata": {},
   "outputs": [
    {
     "data": {
      "text/plain": [
       "(0.0, 10.0)"
      ]
     },
     "execution_count": 481,
     "metadata": {},
     "output_type": "execute_result"
    }
   ],
   "source": [
    "# range of `JobSatisfaction`\n",
    "df.JobSatisfaction.min(), df.JobSatisfaction.max()"
   ]
  },
  {
   "cell_type": "code",
   "execution_count": 482,
   "id": "0e836837",
   "metadata": {},
   "outputs": [
    {
     "data": {
      "text/plain": [
       "[('Salary', 40753.38498558863),\n",
       " ('ExpectedSalary', 28543.87727378644),\n",
       " ('Respondent', 5514.416756708425),\n",
       " ('HoursPerWeek', 7.330691388026137),\n",
       " ('JobSatisfaction', 2.1286481476457646),\n",
       " ('CareerSatisfaction', 1.919329890359761),\n",
       " ('StackOverflowSatisfaction', 1.4055456367983585),\n",
       " ('higher_ed', 0.4209959199046422)]"
      ]
     },
     "execution_count": 482,
     "metadata": {},
     "output_type": "execute_result"
    }
   ],
   "source": [
    "# Explore spread of values in each feature\n",
    "std_dict = dict()\n",
    "\n",
    "for i in num_vars:\n",
    "    std_dict[i] = df[i].std()\n",
    "\n",
    "# Sort by dict values\n",
    "sorted(std_dict.items(), key=lambda x: x[1], reverse=True)"
   ]
  },
  {
   "cell_type": "code",
   "execution_count": 483,
   "id": "d8bac9cf",
   "metadata": {},
   "outputs": [],
   "source": [
    "import seaborn as sns"
   ]
  },
  {
   "cell_type": "code",
   "execution_count": 484,
   "id": "81e0c43e",
   "metadata": {},
   "outputs": [
    {
     "data": {
      "image/png": "[encoded data removed]",
      "text/plain": [
       "<Figure size 432x288 with 2 Axes>"
      ]
     },
     "metadata": {
      "needs_background": "light"
     },
     "output_type": "display_data"
    }
   ],
   "source": [
    "sns.heatmap(df[num_vars].corr(), annot=True, fmt='.2f');"
   ]
  },
  {
   "cell_type": "markdown",
   "id": "46fbc8b2",
   "metadata": {},
   "source": [
    "**Conclusions:**\n",
    "\n",
    "From the above, we can see:\n",
    "1. Numeric features for this dataset includes: \n",
    "    - `Respondent`\n",
    "    - `CareerSatisfaction`\n",
    "    - `JobSatisfaction`\n",
    "    - `HoursPerWeek`\n",
    "    - `StackOverflowSatisfaction`\n",
    "    - `Salary`\n",
    "    - `ExpectedSalary`\n",
    "    \n",
    "    \n",
    "2. The maximum Satisfaction on the scales for the survey is **10**.\n",
    "\n",
    "3. The column with the most missing values is `ExpectedSalary`.\n",
    "\n",
    "4. The variable with the highest spread of values is `Salary`.\n",
    "\n",
    "5. `CareerSatisfaction` has the strongest correlation with `Salary`.\n",
    "\n",
    "6. Negative correlation is suggested between hours worked and salary (`HoursPerWeek` vs. `Salary`)\n",
    "\n",
    "7. Data in the `ExpectedSalary` column meant missing data in three other columns.\n",
    "\n",
    "In the following, numeric variables excluding `Respondent` and `ExpectedSalary` are used as dependent varaibles."
   ]
  },
  {
   "cell_type": "markdown",
   "id": "7ea33911",
   "metadata": {},
   "source": [
    "### Preparatory 2: Data Preprocessing\n",
    "\n",
    "**1.** Dealing with Missing Values.\n",
    "\n",
    "**2.** Imputation Techniques.\n",
    "\n",
    "**3.** Dealing with Categorical Features.\n"
   ]
  },
  {
   "cell_type": "markdown",
   "id": "93ec6e07",
   "metadata": {},
   "source": [
    "#### 1. Dealing with (Removing/Dropping) Missing Values."
   ]
  },
  {
   "cell_type": "code",
   "execution_count": 485,
   "id": "bcbc86b3",
   "metadata": {},
   "outputs": [],
   "source": [
    "num_vars = df[['Salary', 'CareerSatisfaction', 'HoursPerWeek', 'JobSatisfaction', 'StackOverflowSatisfaction']]"
   ]
  },
  {
   "cell_type": "code",
   "execution_count": 486,
   "id": "82c0018f",
   "metadata": {},
   "outputs": [
    {
     "name": "stdout",
     "output_type": "stream",
     "text": [
      "There are 5,009 repsondents reporting their salaries, covering only 26.22% of the whole.\n"
     ]
    }
   ],
   "source": [
    "# Non-null values in `Salary` column\n",
    "notna_sal_pct = num_vars.Salary.notna().mean()\n",
    "notna_sal_freq = num_vars.Salary.notna().sum()\n",
    "print(\"There are {0:,} repsondents reporting their salaries, covering only {1:.2%} of the whole.\".format(\n",
    "                                                                                                notna_sal_freq,\n",
    "                                                                                                notna_sal_pct))"
   ]
  },
  {
   "cell_type": "code",
   "execution_count": 487,
   "id": "e7808b4e",
   "metadata": {},
   "outputs": [],
   "source": [
    "# If there is a null-value in `Salary`, the whole row will be removed\n",
    "sal_rm = num_vars.dropna(subset=['Salary'])"
   ]
  },
  {
   "cell_type": "code",
   "execution_count": 488,
   "id": "1b6fba9e",
   "metadata": {},
   "outputs": [
    {
     "name": "stdout",
     "output_type": "stream",
     "text": [
      "Ooops! It breaks!\n"
     ]
    }
   ],
   "source": [
    "X = sal_rm.drop(columns=['Salary'])\n",
    "y = sal_rm['Salary']\n",
    "\n",
    "X_train, X_test, y_train, y_test = train_test_split(X, y, test_size=.3, random_state=42)\n",
    "lm_model = LinearRegression(normalize=True)\n",
    "\n",
    "try:\n",
    "    lm_model.fit(X_train, y_train)\n",
    "    \n",
    "except:\n",
    "    print(\"Ooops! It breaks!\")"
   ]
  },
  {
   "cell_type": "code",
   "execution_count": 489,
   "id": "32e7eeec",
   "metadata": {},
   "outputs": [
    {
     "data": {
      "text/plain": [
       "(2147, 5)"
      ]
     },
     "execution_count": 489,
     "metadata": {},
     "output_type": "execute_result"
    }
   ],
   "source": [
    "# If there is a nan in a cell, then remove that record (row) immediately\n",
    "all_rm = num_vars.dropna()\n",
    "all_rm.shape"
   ]
  },
  {
   "cell_type": "code",
   "execution_count": 490,
   "id": "f72beadf",
   "metadata": {},
   "outputs": [],
   "source": [
    "X_2 = all_rm.drop(columns=['Salary'])\n",
    "y_2 = all_rm['Salary']\n",
    "\n",
    "# Split data into training and test data, and fit a linear model\n",
    "X_2_train, X_2_test, y_2_train, y_2_test = train_test_split(X_2, y_2 , test_size=.30, random_state=42)\n",
    "lm_2_model = LinearRegression(normalize=True)\n",
    "\n",
    "# If our model works, it should just fit our model to the data. Otherwise, it will let us know.\n",
    "try:\n",
    "    lm_2_model.fit(X_2_train, y_2_train)\n",
    "except:\n",
    "    print(\"Oh no! It doesn't work!!!\")"
   ]
  },
  {
   "cell_type": "code",
   "execution_count": 491,
   "id": "e16724e3",
   "metadata": {},
   "outputs": [
    {
     "data": {
      "text/plain": [
       "0.019170661803761924"
      ]
     },
     "execution_count": 491,
     "metadata": {},
     "output_type": "execute_result"
    }
   ],
   "source": [
    "# Prediction\n",
    "y_test_preds = lm_2_model.predict(X_2_test)\n",
    "r2_test = r2_score(y_2_test, y_test_preds)\n",
    "\n",
    "r2_test"
   ]
  },
  {
   "cell_type": "code",
   "execution_count": 492,
   "id": "0896f912",
   "metadata": {},
   "outputs": [
    {
     "data": {
      "text/plain": [
       "(645,)"
      ]
     },
     "execution_count": 492,
     "metadata": {},
     "output_type": "execute_result"
    }
   ],
   "source": [
    "y_2_test.shape"
   ]
  },
  {
   "cell_type": "code",
   "execution_count": 493,
   "id": "18a86bc3",
   "metadata": {},
   "outputs": [
    {
     "data": {
      "text/plain": [
       "0.12876821720902376"
      ]
     },
     "execution_count": 493,
     "metadata": {},
     "output_type": "execute_result"
    }
   ],
   "source": [
    "y_2_test.shape[0]/df.Salary.notna().sum()"
   ]
  },
  {
   "cell_type": "code",
   "execution_count": 494,
   "id": "a9912354",
   "metadata": {},
   "outputs": [
    {
     "name": "stdout",
     "output_type": "stream",
     "text": [
      "The r-squared score for this model was 0.0192 on 645 values.\n"
     ]
    }
   ],
   "source": [
    "print(\"The r-squared score for this model was {0:.4f} on {1} values.\".format(r2_test, y_2_test.shape[0]))"
   ]
  },
  {
   "cell_type": "code",
   "execution_count": 495,
   "id": "d9eaec21",
   "metadata": {},
   "outputs": [
    {
     "data": {
      "text/plain": [
       "(333, 5)"
      ]
     },
     "execution_count": 495,
     "metadata": {},
     "output_type": "execute_result"
    }
   ],
   "source": [
    "# If an individual does not rate stackoverflow, but has a salary\n",
    "sal_avaliable1 = num_vars[(num_vars.Salary.notnull()) & (num_vars.StackOverflowSatisfaction.isnull())].shape\n",
    "sal_avaliable1"
   ]
  },
  {
   "cell_type": "code",
   "execution_count": 496,
   "id": "98144172",
   "metadata": {},
   "outputs": [
    {
     "data": {
      "text/plain": [
       "(14, 5)"
      ]
     },
     "execution_count": 496,
     "metadata": {},
     "output_type": "execute_result"
    }
   ],
   "source": [
    "# If an individual does not have a a job satisfaction, but has a salary\n",
    "sal_avaliable2 = num_vars[(num_vars.Salary.notna()) & (num_vars.JobSatisfaction.isna())].shape\n",
    "sal_avaliable2"
   ]
  },
  {
   "cell_type": "code",
   "execution_count": 497,
   "id": "8efe8c24",
   "metadata": {},
   "outputs": [
    {
     "name": "stdout",
     "output_type": "stream",
     "text": [
      "* 333 available salary values will be wasted if an individual does not rate stackoverflow, but has a salary.\n",
      "* 14 available salary values will be wasted if an individual does not have a a job satisfaction, but has a salary.\n"
     ]
    }
   ],
   "source": [
    "out_str = (\"* {} available salary values will be wasted \"\n",
    "          \"if an individual does not rate stackoverflow, but has a salary.\"\n",
    "           \"\\n* {} available salary values will be wasted \"\n",
    "           \"if an individual does not have a a job satisfaction, but has a salary.\"\n",
    "          )\n",
    "print(out_str.format(sal_avaliable1[0], sal_avaliable2[0]))"
   ]
  },
  {
   "cell_type": "markdown",
   "id": "baee1aaf",
   "metadata": {},
   "source": [
    "***Comments:***\n",
    "\n",
    "1. There are **5009** reported salaries in the original dataset.\n",
    "2. The number of test salaries predicted using our 2nd model is **645**, this is bad because it only predicts ***12.88%*** of the `Salary` values available.\n",
    "3. Our 1st model collapsed as there are still missing values in dependent variables. (Note we only drop the `nan` in `Salary` column).\n",
    "4. Our 2nd model works but it still has some limitations:\n",
    "    - If an individual does not rate stackoverflow, but has a salary, the 2nd still will break.\n",
    "    - If an individual does not have a a job satisfaction, but has a salary, the 2nd still will break.\n",
    "5. So we need to figure out some ways to deal with these situations (Missing Values) above."
   ]
  },
  {
   "cell_type": "markdown",
   "id": "00ddeae0",
   "metadata": {},
   "source": [
    "#### 2. Impute Missing Values\n",
    "\n",
    "- Impute with mean for numeric features.\n",
    "\n",
    "- Impute mode for categorical feature or numeric feature with outliers.\n",
    "\n",
    "**Example:**"
   ]
  },
  {
   "cell_type": "code",
   "execution_count": 498,
   "id": "d0688685",
   "metadata": {},
   "outputs": [
    {
     "data": {
      "text/html": [
       "<div>\n",
       "<style scoped>\n",
       "    .dataframe tbody tr th:only-of-type {\n",
       "        vertical-align: middle;\n",
       "    }\n",
       "\n",
       "    .dataframe tbody tr th {\n",
       "        vertical-align: top;\n",
       "    }\n",
       "\n",
       "    .dataframe thead th {\n",
       "        text-align: right;\n",
       "    }\n",
       "</style>\n",
       "<table border=\"1\" class=\"dataframe\">\n",
       "  <thead>\n",
       "    <tr style=\"text-align: right;\">\n",
       "      <th></th>\n",
       "      <th>A</th>\n",
       "      <th>B</th>\n",
       "      <th>C</th>\n",
       "      <th>D</th>\n",
       "      <th>E</th>\n",
       "    </tr>\n",
       "  </thead>\n",
       "  <tbody>\n",
       "    <tr>\n",
       "      <th>0</th>\n",
       "      <td>NaN</td>\n",
       "      <td>3</td>\n",
       "      <td>NaN</td>\n",
       "      <td>NaN</td>\n",
       "      <td>Yes</td>\n",
       "    </tr>\n",
       "    <tr>\n",
       "      <th>1</th>\n",
       "      <td>2.0</td>\n",
       "      <td>4</td>\n",
       "      <td>NaN</td>\n",
       "      <td>True</td>\n",
       "      <td>No</td>\n",
       "    </tr>\n",
       "    <tr>\n",
       "      <th>2</th>\n",
       "      <td>NaN</td>\n",
       "      <td>5</td>\n",
       "      <td>NaN</td>\n",
       "      <td>NaN</td>\n",
       "      <td>Maybe</td>\n",
       "    </tr>\n",
       "    <tr>\n",
       "      <th>3</th>\n",
       "      <td>0.0</td>\n",
       "      <td>1</td>\n",
       "      <td>NaN</td>\n",
       "      <td>False</td>\n",
       "      <td>NaN</td>\n",
       "    </tr>\n",
       "    <tr>\n",
       "      <th>4</th>\n",
       "      <td>7.0</td>\n",
       "      <td>2</td>\n",
       "      <td>NaN</td>\n",
       "      <td>True</td>\n",
       "      <td>NaN</td>\n",
       "    </tr>\n",
       "    <tr>\n",
       "      <th>5</th>\n",
       "      <td>10.0</td>\n",
       "      <td>3</td>\n",
       "      <td>NaN</td>\n",
       "      <td>False</td>\n",
       "      <td>Yes</td>\n",
       "    </tr>\n",
       "    <tr>\n",
       "      <th>6</th>\n",
       "      <td>15.0</td>\n",
       "      <td>5</td>\n",
       "      <td>NaN</td>\n",
       "      <td>NaN</td>\n",
       "      <td>NaN</td>\n",
       "    </tr>\n",
       "  </tbody>\n",
       "</table>\n",
       "</div>"
      ],
      "text/plain": [
       "      A  B   C      D      E\n",
       "0   NaN  3 NaN    NaN    Yes\n",
       "1   2.0  4 NaN   True     No\n",
       "2   NaN  5 NaN    NaN  Maybe\n",
       "3   0.0  1 NaN  False    NaN\n",
       "4   7.0  2 NaN   True    NaN\n",
       "5  10.0  3 NaN  False    Yes\n",
       "6  15.0  5 NaN    NaN    NaN"
      ]
     },
     "execution_count": 498,
     "metadata": {},
     "output_type": "execute_result"
    }
   ],
   "source": [
    "exp_df = pd.DataFrame({'A':[np.nan, 2, np.nan, 0, 7, 10, 15],\n",
    "                   'B':[3, 4, 5, 1, 2, 3, 5],\n",
    "                   'C':[np.nan, np.nan, np.nan, np.nan, np.nan, np.nan, np.nan],\n",
    "                   'D':[np.nan, True, np.nan, False, True, False, np.nan],\n",
    "                   'E':['Yes', 'No', 'Maybe', np.nan, np.nan, 'Yes', np.nan]})\n",
    "\n",
    "exp_df"
   ]
  },
  {
   "cell_type": "code",
   "execution_count": 499,
   "id": "b6a695ad",
   "metadata": {},
   "outputs": [
    {
     "data": {
      "text/html": [
       "<div>\n",
       "<style scoped>\n",
       "    .dataframe tbody tr th:only-of-type {\n",
       "        vertical-align: middle;\n",
       "    }\n",
       "\n",
       "    .dataframe tbody tr th {\n",
       "        vertical-align: top;\n",
       "    }\n",
       "\n",
       "    .dataframe thead th {\n",
       "        text-align: right;\n",
       "    }\n",
       "</style>\n",
       "<table border=\"1\" class=\"dataframe\">\n",
       "  <thead>\n",
       "    <tr style=\"text-align: right;\">\n",
       "      <th></th>\n",
       "      <th>A</th>\n",
       "      <th>B</th>\n",
       "      <th>D</th>\n",
       "      <th>E</th>\n",
       "    </tr>\n",
       "  </thead>\n",
       "  <tbody>\n",
       "    <tr>\n",
       "      <th>0</th>\n",
       "      <td>NaN</td>\n",
       "      <td>3</td>\n",
       "      <td>NaN</td>\n",
       "      <td>Yes</td>\n",
       "    </tr>\n",
       "    <tr>\n",
       "      <th>1</th>\n",
       "      <td>2.0</td>\n",
       "      <td>4</td>\n",
       "      <td>True</td>\n",
       "      <td>No</td>\n",
       "    </tr>\n",
       "    <tr>\n",
       "      <th>2</th>\n",
       "      <td>NaN</td>\n",
       "      <td>5</td>\n",
       "      <td>NaN</td>\n",
       "      <td>Maybe</td>\n",
       "    </tr>\n",
       "    <tr>\n",
       "      <th>3</th>\n",
       "      <td>0.0</td>\n",
       "      <td>1</td>\n",
       "      <td>False</td>\n",
       "      <td>NaN</td>\n",
       "    </tr>\n",
       "    <tr>\n",
       "      <th>4</th>\n",
       "      <td>7.0</td>\n",
       "      <td>2</td>\n",
       "      <td>True</td>\n",
       "      <td>NaN</td>\n",
       "    </tr>\n",
       "    <tr>\n",
       "      <th>5</th>\n",
       "      <td>10.0</td>\n",
       "      <td>3</td>\n",
       "      <td>False</td>\n",
       "      <td>Yes</td>\n",
       "    </tr>\n",
       "    <tr>\n",
       "      <th>6</th>\n",
       "      <td>15.0</td>\n",
       "      <td>5</td>\n",
       "      <td>NaN</td>\n",
       "      <td>NaN</td>\n",
       "    </tr>\n",
       "  </tbody>\n",
       "</table>\n",
       "</div>"
      ],
      "text/plain": [
       "      A  B      D      E\n",
       "0   NaN  3    NaN    Yes\n",
       "1   2.0  4   True     No\n",
       "2   NaN  5    NaN  Maybe\n",
       "3   0.0  1  False    NaN\n",
       "4   7.0  2   True    NaN\n",
       "5  10.0  3  False    Yes\n",
       "6  15.0  5    NaN    NaN"
      ]
     },
     "execution_count": 499,
     "metadata": {},
     "output_type": "execute_result"
    }
   ],
   "source": [
    "exp_df_rm = exp_df.dropna(how='all', axis=1)\n",
    "exp_df_rm"
   ]
  },
  {
   "cell_type": "code",
   "execution_count": 500,
   "id": "1bcfd590",
   "metadata": {},
   "outputs": [],
   "source": [
    "fill_mean = lambda col: col.fillna(col.mean())"
   ]
  },
  {
   "cell_type": "code",
   "execution_count": 501,
   "id": "7f4ee068",
   "metadata": {},
   "outputs": [
    {
     "name": "stdout",
     "output_type": "stream",
     "text": [
      "<class 'pandas.core.frame.DataFrame'>\n",
      "RangeIndex: 7 entries, 0 to 6\n",
      "Data columns (total 4 columns):\n",
      " #   Column  Non-Null Count  Dtype  \n",
      "---  ------  --------------  -----  \n",
      " 0   A       5 non-null      float64\n",
      " 1   B       7 non-null      int64  \n",
      " 2   D       4 non-null      object \n",
      " 3   E       4 non-null      object \n",
      "dtypes: float64(1), int64(1), object(2)\n",
      "memory usage: 352.0+ bytes\n"
     ]
    }
   ],
   "source": [
    "exp_df_rm.info()"
   ]
  },
  {
   "cell_type": "code",
   "execution_count": 502,
   "id": "844f9174",
   "metadata": {},
   "outputs": [
    {
     "data": {
      "text/html": [
       "<div>\n",
       "<style scoped>\n",
       "    .dataframe tbody tr th:only-of-type {\n",
       "        vertical-align: middle;\n",
       "    }\n",
       "\n",
       "    .dataframe tbody tr th {\n",
       "        vertical-align: top;\n",
       "    }\n",
       "\n",
       "    .dataframe thead th {\n",
       "        text-align: right;\n",
       "    }\n",
       "</style>\n",
       "<table border=\"1\" class=\"dataframe\">\n",
       "  <thead>\n",
       "    <tr style=\"text-align: right;\">\n",
       "      <th></th>\n",
       "      <th>A</th>\n",
       "      <th>B</th>\n",
       "    </tr>\n",
       "  </thead>\n",
       "  <tbody>\n",
       "    <tr>\n",
       "      <th>0</th>\n",
       "      <td>6.8</td>\n",
       "      <td>3</td>\n",
       "    </tr>\n",
       "    <tr>\n",
       "      <th>1</th>\n",
       "      <td>2.0</td>\n",
       "      <td>4</td>\n",
       "    </tr>\n",
       "    <tr>\n",
       "      <th>2</th>\n",
       "      <td>6.8</td>\n",
       "      <td>5</td>\n",
       "    </tr>\n",
       "    <tr>\n",
       "      <th>3</th>\n",
       "      <td>0.0</td>\n",
       "      <td>1</td>\n",
       "    </tr>\n",
       "    <tr>\n",
       "      <th>4</th>\n",
       "      <td>7.0</td>\n",
       "      <td>2</td>\n",
       "    </tr>\n",
       "    <tr>\n",
       "      <th>5</th>\n",
       "      <td>10.0</td>\n",
       "      <td>3</td>\n",
       "    </tr>\n",
       "    <tr>\n",
       "      <th>6</th>\n",
       "      <td>15.0</td>\n",
       "      <td>5</td>\n",
       "    </tr>\n",
       "  </tbody>\n",
       "</table>\n",
       "</div>"
      ],
      "text/plain": [
       "      A  B\n",
       "0   6.8  3\n",
       "1   2.0  4\n",
       "2   6.8  5\n",
       "3   0.0  1\n",
       "4   7.0  2\n",
       "5  10.0  3\n",
       "6  15.0  5"
      ]
     },
     "execution_count": 502,
     "metadata": {},
     "output_type": "execute_result"
    }
   ],
   "source": [
    "# Only numeric feature has mean values\n",
    "fill_mean(exp_df_rm.select_dtypes(['int64', 'float64']))"
   ]
  },
  {
   "cell_type": "code",
   "execution_count": 503,
   "id": "05f9c5b7",
   "metadata": {},
   "outputs": [],
   "source": [
    "fill_mode = lambda col: col.fillna(col.mode()[0])"
   ]
  },
  {
   "cell_type": "code",
   "execution_count": 504,
   "id": "524453d9",
   "metadata": {},
   "outputs": [
    {
     "data": {
      "text/html": [
       "<div>\n",
       "<style scoped>\n",
       "    .dataframe tbody tr th:only-of-type {\n",
       "        vertical-align: middle;\n",
       "    }\n",
       "\n",
       "    .dataframe tbody tr th {\n",
       "        vertical-align: top;\n",
       "    }\n",
       "\n",
       "    .dataframe thead th {\n",
       "        text-align: right;\n",
       "    }\n",
       "</style>\n",
       "<table border=\"1\" class=\"dataframe\">\n",
       "  <thead>\n",
       "    <tr style=\"text-align: right;\">\n",
       "      <th></th>\n",
       "      <th>A</th>\n",
       "      <th>B</th>\n",
       "      <th>D</th>\n",
       "      <th>E</th>\n",
       "    </tr>\n",
       "  </thead>\n",
       "  <tbody>\n",
       "    <tr>\n",
       "      <th>0</th>\n",
       "      <td>0.0</td>\n",
       "      <td>3.0</td>\n",
       "      <td>False</td>\n",
       "      <td>Yes</td>\n",
       "    </tr>\n",
       "    <tr>\n",
       "      <th>1</th>\n",
       "      <td>2.0</td>\n",
       "      <td>5.0</td>\n",
       "      <td>True</td>\n",
       "      <td>NaN</td>\n",
       "    </tr>\n",
       "    <tr>\n",
       "      <th>2</th>\n",
       "      <td>7.0</td>\n",
       "      <td>NaN</td>\n",
       "      <td>NaN</td>\n",
       "      <td>NaN</td>\n",
       "    </tr>\n",
       "    <tr>\n",
       "      <th>3</th>\n",
       "      <td>10.0</td>\n",
       "      <td>NaN</td>\n",
       "      <td>NaN</td>\n",
       "      <td>NaN</td>\n",
       "    </tr>\n",
       "    <tr>\n",
       "      <th>4</th>\n",
       "      <td>15.0</td>\n",
       "      <td>NaN</td>\n",
       "      <td>NaN</td>\n",
       "      <td>NaN</td>\n",
       "    </tr>\n",
       "  </tbody>\n",
       "</table>\n",
       "</div>"
      ],
      "text/plain": [
       "      A    B      D    E\n",
       "0   0.0  3.0  False  Yes\n",
       "1   2.0  5.0   True  NaN\n",
       "2   7.0  NaN    NaN  NaN\n",
       "3  10.0  NaN    NaN  NaN\n",
       "4  15.0  NaN    NaN  NaN"
      ]
     },
     "execution_count": 504,
     "metadata": {},
     "output_type": "execute_result"
    }
   ],
   "source": [
    "# mode value for each feature (column)\n",
    "exp_df_rm.mode()"
   ]
  },
  {
   "cell_type": "markdown",
   "id": "6355b43f",
   "metadata": {},
   "source": [
    "We can see from above, the first `mode` value for each feature is the element in the first row respectively."
   ]
  },
  {
   "cell_type": "code",
   "execution_count": 505,
   "id": "3b372add",
   "metadata": {},
   "outputs": [
    {
     "data": {
      "text/html": [
       "<div>\n",
       "<style scoped>\n",
       "    .dataframe tbody tr th:only-of-type {\n",
       "        vertical-align: middle;\n",
       "    }\n",
       "\n",
       "    .dataframe tbody tr th {\n",
       "        vertical-align: top;\n",
       "    }\n",
       "\n",
       "    .dataframe thead th {\n",
       "        text-align: right;\n",
       "    }\n",
       "</style>\n",
       "<table border=\"1\" class=\"dataframe\">\n",
       "  <thead>\n",
       "    <tr style=\"text-align: right;\">\n",
       "      <th></th>\n",
       "      <th>A</th>\n",
       "      <th>B</th>\n",
       "      <th>D</th>\n",
       "      <th>E</th>\n",
       "    </tr>\n",
       "  </thead>\n",
       "  <tbody>\n",
       "    <tr>\n",
       "      <th>0</th>\n",
       "      <td>NaN</td>\n",
       "      <td>3</td>\n",
       "      <td>NaN</td>\n",
       "      <td>Yes</td>\n",
       "    </tr>\n",
       "    <tr>\n",
       "      <th>1</th>\n",
       "      <td>2.0</td>\n",
       "      <td>4</td>\n",
       "      <td>True</td>\n",
       "      <td>No</td>\n",
       "    </tr>\n",
       "    <tr>\n",
       "      <th>2</th>\n",
       "      <td>NaN</td>\n",
       "      <td>5</td>\n",
       "      <td>NaN</td>\n",
       "      <td>Maybe</td>\n",
       "    </tr>\n",
       "    <tr>\n",
       "      <th>3</th>\n",
       "      <td>0.0</td>\n",
       "      <td>1</td>\n",
       "      <td>False</td>\n",
       "      <td>NaN</td>\n",
       "    </tr>\n",
       "    <tr>\n",
       "      <th>4</th>\n",
       "      <td>7.0</td>\n",
       "      <td>2</td>\n",
       "      <td>True</td>\n",
       "      <td>NaN</td>\n",
       "    </tr>\n",
       "    <tr>\n",
       "      <th>5</th>\n",
       "      <td>10.0</td>\n",
       "      <td>3</td>\n",
       "      <td>False</td>\n",
       "      <td>Yes</td>\n",
       "    </tr>\n",
       "    <tr>\n",
       "      <th>6</th>\n",
       "      <td>15.0</td>\n",
       "      <td>5</td>\n",
       "      <td>NaN</td>\n",
       "      <td>NaN</td>\n",
       "    </tr>\n",
       "  </tbody>\n",
       "</table>\n",
       "</div>"
      ],
      "text/plain": [
       "      A  B      D      E\n",
       "0   NaN  3    NaN    Yes\n",
       "1   2.0  4   True     No\n",
       "2   NaN  5    NaN  Maybe\n",
       "3   0.0  1  False    NaN\n",
       "4   7.0  2   True    NaN\n",
       "5  10.0  3  False    Yes\n",
       "6  15.0  5    NaN    NaN"
      ]
     },
     "execution_count": 505,
     "metadata": {},
     "output_type": "execute_result"
    }
   ],
   "source": [
    "# Before imputation\n",
    "exp_df_rm"
   ]
  },
  {
   "cell_type": "code",
   "execution_count": 506,
   "id": "6c106b3e",
   "metadata": {},
   "outputs": [
    {
     "data": {
      "text/html": [
       "<div>\n",
       "<style scoped>\n",
       "    .dataframe tbody tr th:only-of-type {\n",
       "        vertical-align: middle;\n",
       "    }\n",
       "\n",
       "    .dataframe tbody tr th {\n",
       "        vertical-align: top;\n",
       "    }\n",
       "\n",
       "    .dataframe thead th {\n",
       "        text-align: right;\n",
       "    }\n",
       "</style>\n",
       "<table border=\"1\" class=\"dataframe\">\n",
       "  <thead>\n",
       "    <tr style=\"text-align: right;\">\n",
       "      <th></th>\n",
       "      <th>A</th>\n",
       "      <th>B</th>\n",
       "      <th>D</th>\n",
       "      <th>E</th>\n",
       "    </tr>\n",
       "  </thead>\n",
       "  <tbody>\n",
       "    <tr>\n",
       "      <th>0</th>\n",
       "      <td>0.0</td>\n",
       "      <td>3</td>\n",
       "      <td>False</td>\n",
       "      <td>Yes</td>\n",
       "    </tr>\n",
       "    <tr>\n",
       "      <th>1</th>\n",
       "      <td>2.0</td>\n",
       "      <td>4</td>\n",
       "      <td>True</td>\n",
       "      <td>No</td>\n",
       "    </tr>\n",
       "    <tr>\n",
       "      <th>2</th>\n",
       "      <td>0.0</td>\n",
       "      <td>5</td>\n",
       "      <td>False</td>\n",
       "      <td>Maybe</td>\n",
       "    </tr>\n",
       "    <tr>\n",
       "      <th>3</th>\n",
       "      <td>0.0</td>\n",
       "      <td>1</td>\n",
       "      <td>False</td>\n",
       "      <td>Yes</td>\n",
       "    </tr>\n",
       "    <tr>\n",
       "      <th>4</th>\n",
       "      <td>7.0</td>\n",
       "      <td>2</td>\n",
       "      <td>True</td>\n",
       "      <td>Yes</td>\n",
       "    </tr>\n",
       "    <tr>\n",
       "      <th>5</th>\n",
       "      <td>10.0</td>\n",
       "      <td>3</td>\n",
       "      <td>False</td>\n",
       "      <td>Yes</td>\n",
       "    </tr>\n",
       "    <tr>\n",
       "      <th>6</th>\n",
       "      <td>15.0</td>\n",
       "      <td>5</td>\n",
       "      <td>False</td>\n",
       "      <td>Yes</td>\n",
       "    </tr>\n",
       "  </tbody>\n",
       "</table>\n",
       "</div>"
      ],
      "text/plain": [
       "      A  B      D      E\n",
       "0   0.0  3  False    Yes\n",
       "1   2.0  4   True     No\n",
       "2   0.0  5  False  Maybe\n",
       "3   0.0  1  False    Yes\n",
       "4   7.0  2   True    Yes\n",
       "5  10.0  3  False    Yes\n",
       "6  15.0  5  False    Yes"
      ]
     },
     "execution_count": 506,
     "metadata": {},
     "output_type": "execute_result"
    }
   ],
   "source": [
    "# After imputation\n",
    "exp_df_rm.apply(fill_mode)"
   ]
  },
  {
   "cell_type": "markdown",
   "id": "1a7e20cb",
   "metadata": {},
   "source": [
    "As we can see, None of the values in the first column appeared more than once, and 0 was imputed for all of the NaN values.  There were an even number of True and False values, and False was imputed for all the NaN values."
   ]
  },
  {
   "cell_type": "code",
   "execution_count": 507,
   "id": "8767e62a",
   "metadata": {},
   "outputs": [
    {
     "data": {
      "text/plain": [
       "Index(['Salary', 'CareerSatisfaction', 'HoursPerWeek', 'JobSatisfaction',\n",
       "       'StackOverflowSatisfaction'],\n",
       "      dtype='object')"
      ]
     },
     "execution_count": 507,
     "metadata": {},
     "output_type": "execute_result"
    }
   ],
   "source": [
    "num_vars.columns"
   ]
  },
  {
   "cell_type": "code",
   "execution_count": 508,
   "id": "5e3d83f0",
   "metadata": {},
   "outputs": [
    {
     "data": {
      "text/plain": [
       "(5009, 5)"
      ]
     },
     "execution_count": 508,
     "metadata": {},
     "output_type": "execute_result"
    }
   ],
   "source": [
    "fill_sal_rm = sal_rm.apply(fill_mean)\n",
    "fill_sal_rm.shape"
   ]
  },
  {
   "cell_type": "code",
   "execution_count": 509,
   "id": "1e2ae49a",
   "metadata": {},
   "outputs": [],
   "source": [
    "X_3 = fill_sal_rm.drop(columns=['Salary'])\n",
    "y_3 = fill_sal_rm['Salary']\n",
    "\n",
    "X_3_train, X_3_test, y_3_train, y_3_test = train_test_split(X_3, y_3 , test_size=.30, random_state=42)\n",
    "lm_3_model = LinearRegression(normalize=True)\n",
    "\n",
    "lm_3_model.fit(X_3_train, y_3_train)\n",
    "\n",
    "y_3_test_preds = lm_3_model.predict(X_3_test)\n",
    "r2_test3 = r2_score(y_3_test, y_3_test_preds)"
   ]
  },
  {
   "cell_type": "code",
   "execution_count": 510,
   "id": "f4bb913e",
   "metadata": {},
   "outputs": [
    {
     "name": "stdout",
     "output_type": "stream",
     "text": [
      "The r-squared score for this model was 0.0326 on 1503 values.\n"
     ]
    }
   ],
   "source": [
    "print(\"The r-squared score for this model was {0:.4f} on {1} values.\".format(r2_test3, y_3_test.shape[0]))"
   ]
  },
  {
   "cell_type": "markdown",
   "id": "7d516116",
   "metadata": {},
   "source": [
    "**Comment:**\n",
    "\n",
    "This model still isn't great. Let's see if we can't improve it by using some of the other columns in the dataset."
   ]
  },
  {
   "cell_type": "markdown",
   "id": "43454acd",
   "metadata": {},
   "source": [
    "### Preparatory 3: Explore categorical variables"
   ]
  },
  {
   "cell_type": "code",
   "execution_count": 511,
   "id": "c92fae52",
   "metadata": {},
   "outputs": [
    {
     "name": "stdout",
     "output_type": "stream",
     "text": [
      "There are 146 vategorical variables in the dataset.\n"
     ]
    }
   ],
   "source": [
    "# Find out categorical variables\n",
    "cat_vars = df.select_dtypes('object').columns\n",
    "print(\"There are {} vategorical variables in the dataset.\".format(len(cat_vars)))"
   ]
  },
  {
   "cell_type": "code",
   "execution_count": 512,
   "id": "0d144ff1",
   "metadata": {},
   "outputs": [
    {
     "name": "stdout",
     "output_type": "stream",
     "text": [
      "There are 6 categorical variables with no misisng values.\n",
      "['Professional',\n",
      " 'ProgramHobby',\n",
      " 'Country',\n",
      " 'University',\n",
      " 'EmploymentStatus',\n",
      " 'FormalEducation']\n"
     ]
    }
   ],
   "source": [
    "# categorical variables that do not have nan values\n",
    "h.cat_na_filter(df, bound=0, print_cols=True)"
   ]
  },
  {
   "cell_type": "code",
   "execution_count": 513,
   "id": "13c7c812",
   "metadata": {},
   "outputs": [
    {
     "data": {
      "text/plain": [
       "<module 'helper' from '/Users/alejandrosanz/Downloads/projects_on_GitHub/cases/SurveyDataAnalysis/helper.py'>"
      ]
     },
     "execution_count": 513,
     "metadata": {},
     "output_type": "execute_result"
    }
   ],
   "source": [
    "importlib.reload(h)"
   ]
  },
  {
   "cell_type": "code",
   "execution_count": 514,
   "id": "4aa8fe7e",
   "metadata": {},
   "outputs": [
    {
     "name": "stdout",
     "output_type": "stream",
     "text": [
      "There are 49 categorical variables with with more than 50.00% of missing values.\n"
     ]
    }
   ],
   "source": [
    "# categorical variables with more than 50% of nan values\n",
    "h.cat_na_filter(df, bound=0.5)"
   ]
  },
  {
   "cell_type": "code",
   "execution_count": 515,
   "id": "0602d00e",
   "metadata": {},
   "outputs": [
    {
     "name": "stdout",
     "output_type": "stream",
     "text": [
      "There are 13 categorical variables with with more than 75.00% of missing values.\n"
     ]
    }
   ],
   "source": [
    "# categorical variables with more than 75% of nan values\n",
    "h.cat_na_filter(df, bound=0.75)"
   ]
  },
  {
   "cell_type": "markdown",
   "id": "56b70ee1",
   "metadata": {},
   "source": [
    "**Preparatory: One-Hot Encodings Example**"
   ]
  },
  {
   "cell_type": "code",
   "execution_count": 516,
   "id": "830ea63c",
   "metadata": {},
   "outputs": [
    {
     "data": {
      "text/html": [
       "<div>\n",
       "<style scoped>\n",
       "    .dataframe tbody tr th:only-of-type {\n",
       "        vertical-align: middle;\n",
       "    }\n",
       "\n",
       "    .dataframe tbody tr th {\n",
       "        vertical-align: top;\n",
       "    }\n",
       "\n",
       "    .dataframe thead th {\n",
       "        text-align: right;\n",
       "    }\n",
       "</style>\n",
       "<table border=\"1\" class=\"dataframe\">\n",
       "  <thead>\n",
       "    <tr style=\"text-align: right;\">\n",
       "      <th></th>\n",
       "      <th>col1</th>\n",
       "      <th>col2</th>\n",
       "    </tr>\n",
       "  </thead>\n",
       "  <tbody>\n",
       "    <tr>\n",
       "      <th>0</th>\n",
       "      <td>a</td>\n",
       "      <td>1.0</td>\n",
       "    </tr>\n",
       "    <tr>\n",
       "      <th>1</th>\n",
       "      <td>a</td>\n",
       "      <td>NaN</td>\n",
       "    </tr>\n",
       "    <tr>\n",
       "      <th>2</th>\n",
       "      <td>b</td>\n",
       "      <td>3.0</td>\n",
       "    </tr>\n",
       "    <tr>\n",
       "      <th>3</th>\n",
       "      <td>b</td>\n",
       "      <td>NaN</td>\n",
       "    </tr>\n",
       "    <tr>\n",
       "      <th>4</th>\n",
       "      <td>a</td>\n",
       "      <td>5.0</td>\n",
       "    </tr>\n",
       "    <tr>\n",
       "      <th>5</th>\n",
       "      <td>NaN</td>\n",
       "      <td>6.0</td>\n",
       "    </tr>\n",
       "    <tr>\n",
       "      <th>6</th>\n",
       "      <td>b</td>\n",
       "      <td>7.0</td>\n",
       "    </tr>\n",
       "    <tr>\n",
       "      <th>7</th>\n",
       "      <td>NaN</td>\n",
       "      <td>8.0</td>\n",
       "    </tr>\n",
       "  </tbody>\n",
       "</table>\n",
       "</div>"
      ],
      "text/plain": [
       "  col1  col2\n",
       "0    a   1.0\n",
       "1    a   NaN\n",
       "2    b   3.0\n",
       "3    b   NaN\n",
       "4    a   5.0\n",
       "5  NaN   6.0\n",
       "6    b   7.0\n",
       "7  NaN   8.0"
      ]
     },
     "execution_count": 516,
     "metadata": {},
     "output_type": "execute_result"
    }
   ],
   "source": [
    "dummy_var_df = pd.DataFrame({'col1': ['a', 'a', 'b', 'b', 'a', np.nan, 'b', np.nan],\n",
    "                             'col2': [1, np.nan, 3, np.nan, 5, 6, 7, 8] \n",
    "})\n",
    "                            \n",
    "dummy_var_df"
   ]
  },
  {
   "cell_type": "code",
   "execution_count": 517,
   "id": "bf6cfe8b",
   "metadata": {},
   "outputs": [
    {
     "data": {
      "text/html": [
       "<div>\n",
       "<style scoped>\n",
       "    .dataframe tbody tr th:only-of-type {\n",
       "        vertical-align: middle;\n",
       "    }\n",
       "\n",
       "    .dataframe tbody tr th {\n",
       "        vertical-align: top;\n",
       "    }\n",
       "\n",
       "    .dataframe thead th {\n",
       "        text-align: right;\n",
       "    }\n",
       "</style>\n",
       "<table border=\"1\" class=\"dataframe\">\n",
       "  <thead>\n",
       "    <tr style=\"text-align: right;\">\n",
       "      <th></th>\n",
       "      <th>col2</th>\n",
       "      <th>col1_a</th>\n",
       "      <th>col1_b</th>\n",
       "    </tr>\n",
       "  </thead>\n",
       "  <tbody>\n",
       "    <tr>\n",
       "      <th>0</th>\n",
       "      <td>1.0</td>\n",
       "      <td>1</td>\n",
       "      <td>0</td>\n",
       "    </tr>\n",
       "    <tr>\n",
       "      <th>1</th>\n",
       "      <td>NaN</td>\n",
       "      <td>1</td>\n",
       "      <td>0</td>\n",
       "    </tr>\n",
       "    <tr>\n",
       "      <th>2</th>\n",
       "      <td>3.0</td>\n",
       "      <td>0</td>\n",
       "      <td>1</td>\n",
       "    </tr>\n",
       "    <tr>\n",
       "      <th>3</th>\n",
       "      <td>NaN</td>\n",
       "      <td>0</td>\n",
       "      <td>1</td>\n",
       "    </tr>\n",
       "    <tr>\n",
       "      <th>4</th>\n",
       "      <td>5.0</td>\n",
       "      <td>1</td>\n",
       "      <td>0</td>\n",
       "    </tr>\n",
       "    <tr>\n",
       "      <th>5</th>\n",
       "      <td>6.0</td>\n",
       "      <td>0</td>\n",
       "      <td>0</td>\n",
       "    </tr>\n",
       "    <tr>\n",
       "      <th>6</th>\n",
       "      <td>7.0</td>\n",
       "      <td>0</td>\n",
       "      <td>1</td>\n",
       "    </tr>\n",
       "    <tr>\n",
       "      <th>7</th>\n",
       "      <td>8.0</td>\n",
       "      <td>0</td>\n",
       "      <td>0</td>\n",
       "    </tr>\n",
       "  </tbody>\n",
       "</table>\n",
       "</div>"
      ],
      "text/plain": [
       "   col2  col1_a  col1_b\n",
       "0   1.0       1       0\n",
       "1   NaN       1       0\n",
       "2   3.0       0       1\n",
       "3   NaN       0       1\n",
       "4   5.0       1       0\n",
       "5   6.0       0       0\n",
       "6   7.0       0       1\n",
       "7   8.0       0       0"
      ]
     },
     "execution_count": 517,
     "metadata": {},
     "output_type": "execute_result"
    }
   ],
   "source": [
    "pd.get_dummies(dummy_var_df)"
   ]
  },
  {
   "cell_type": "markdown",
   "id": "f3f0faff",
   "metadata": {},
   "source": [
    "___Note:___\n",
    "\n",
    "- `col1` was one-hot encoded.\n",
    "- `pd.get_dummies()` only choose categorical variables to be one-hot encoded automatically.\n",
    "- `pd.get_dummies()` encodes `nan` as 0 by default."
   ]
  },
  {
   "cell_type": "code",
   "execution_count": 518,
   "id": "a6b5cf09",
   "metadata": {},
   "outputs": [
    {
     "data": {
      "text/html": [
       "<div>\n",
       "<style scoped>\n",
       "    .dataframe tbody tr th:only-of-type {\n",
       "        vertical-align: middle;\n",
       "    }\n",
       "\n",
       "    .dataframe tbody tr th {\n",
       "        vertical-align: top;\n",
       "    }\n",
       "\n",
       "    .dataframe thead th {\n",
       "        text-align: right;\n",
       "    }\n",
       "</style>\n",
       "<table border=\"1\" class=\"dataframe\">\n",
       "  <thead>\n",
       "    <tr style=\"text-align: right;\">\n",
       "      <th></th>\n",
       "      <th>a</th>\n",
       "      <th>b</th>\n",
       "      <th>NaN</th>\n",
       "    </tr>\n",
       "  </thead>\n",
       "  <tbody>\n",
       "    <tr>\n",
       "      <th>0</th>\n",
       "      <td>1</td>\n",
       "      <td>0</td>\n",
       "      <td>0</td>\n",
       "    </tr>\n",
       "    <tr>\n",
       "      <th>1</th>\n",
       "      <td>1</td>\n",
       "      <td>0</td>\n",
       "      <td>0</td>\n",
       "    </tr>\n",
       "    <tr>\n",
       "      <th>2</th>\n",
       "      <td>0</td>\n",
       "      <td>1</td>\n",
       "      <td>0</td>\n",
       "    </tr>\n",
       "    <tr>\n",
       "      <th>3</th>\n",
       "      <td>0</td>\n",
       "      <td>1</td>\n",
       "      <td>0</td>\n",
       "    </tr>\n",
       "    <tr>\n",
       "      <th>4</th>\n",
       "      <td>1</td>\n",
       "      <td>0</td>\n",
       "      <td>0</td>\n",
       "    </tr>\n",
       "    <tr>\n",
       "      <th>5</th>\n",
       "      <td>0</td>\n",
       "      <td>0</td>\n",
       "      <td>1</td>\n",
       "    </tr>\n",
       "    <tr>\n",
       "      <th>6</th>\n",
       "      <td>0</td>\n",
       "      <td>1</td>\n",
       "      <td>0</td>\n",
       "    </tr>\n",
       "    <tr>\n",
       "      <th>7</th>\n",
       "      <td>0</td>\n",
       "      <td>0</td>\n",
       "      <td>1</td>\n",
       "    </tr>\n",
       "  </tbody>\n",
       "</table>\n",
       "</div>"
      ],
      "text/plain": [
       "   a  b  NaN\n",
       "0  1  0    0\n",
       "1  1  0    0\n",
       "2  0  1    0\n",
       "3  0  1    0\n",
       "4  1  0    0\n",
       "5  0  0    1\n",
       "6  0  1    0\n",
       "7  0  0    1"
      ]
     },
     "execution_count": 518,
     "metadata": {},
     "output_type": "execute_result"
    }
   ],
   "source": [
    "pd.get_dummies(dummy_var_df.col1, dummy_na=True)"
   ]
  },
  {
   "cell_type": "markdown",
   "id": "71dc1217",
   "metadata": {},
   "source": [
    "___Note:___\n",
    "\n",
    "We can also use **get_dummies** to encode **NaN** values as their own dummy coded column using the **dummy_na** argument.  Often these **NaN** values are also informative, but we are not capturing them by leaving them as 0 in every column of the model."
   ]
  },
  {
   "cell_type": "markdown",
   "id": "a4915e49",
   "metadata": {},
   "source": [
    "**Creat dummy dataframe on the SurveyData**"
   ]
  },
  {
   "cell_type": "code",
   "execution_count": 519,
   "id": "5daf8dfe",
   "metadata": {},
   "outputs": [],
   "source": [
    "## Already wrapped-up in helper.py\n",
    "# def create_dummy_df(df, cat_cols, dummy_na=True):\n",
    "#     '''Create dummied dataframe by one-hot encoding.\n",
    "    \n",
    "#     INPUT:\n",
    "#     df - pandas dataframe with categorical variables you want to dummy\n",
    "#     cat_cols - list of strings that are associated with names of the categorical columns\n",
    "#     dummy_na - Bool holding whether you want to dummy NA vals of categorical columns or not\n",
    "    \n",
    "#     OUTPUT:\n",
    "#     df - a new dataframe that has the following characteristics:\n",
    "#             1. contains all columns that were not specified as categorical\n",
    "#             2. removes all the original columns in cat_cols\n",
    "#             3. dummy columns for each of the categorical columns in cat_cols\n",
    "#             4. if dummy_na is True - it also contains dummy columns for the NaN values\n",
    "#             5. Use a prefix of the column name with an underscore (_) for separating \n",
    "#     '''\n",
    "#     for col in  cat_cols:\n",
    "#         # for each cat add dummy var, drop original column\n",
    "#         df = pd.concat([df.drop(col, axis=1), pd.get_dummies(df[col], \n",
    "#                                                              prefix=col, \n",
    "#                                                              prefix_sep='_', \n",
    "#                                                              drop_first=True, \n",
    "#                                                              dummy_na=dummy_na)], axis=1)\n",
    "#     return df"
   ]
  },
  {
   "cell_type": "code",
   "execution_count": 520,
   "id": "a1d0346d",
   "metadata": {},
   "outputs": [],
   "source": [
    "df = pd.read_csv('./survey_results_public.csv')\n",
    "# Drop the row if `Salary` column contains np.nan\n",
    "sal_rm = df.dropna(subset=['Salary'])\n",
    "\n",
    "# Filter categorical variables only\n",
    "cat_vars = sal_rm.select_dtypes('object').columns\n",
    "\n",
    "# One-hot encoding\n",
    "df_new = h.create_dummy_df(sal_rm, cat_vars, dummy_na=False)"
   ]
  },
  {
   "cell_type": "code",
   "execution_count": 521,
   "id": "35445d81",
   "metadata": {},
   "outputs": [
    {
     "name": "stdout",
     "output_type": "stream",
     "text": [
      "\n",
      "Shape of DataFrame:\n",
      "  Before One-Hot Encoding: (5009, 154)\n",
      "   After One-Hot Encoding: (5009, 11938)\n",
      "\n"
     ]
    }
   ],
   "source": [
    "out_str = \"\"\"\n",
    "Shape of DataFrame:\n",
    "  Before One-Hot Encoding: {}\n",
    "   After One-Hot Encoding: {}\n",
    "\"\"\"\n",
    "print(out_str.format(sal_rm.shape, df_new.shape))"
   ]
  },
  {
   "cell_type": "markdown",
   "id": "10d573b8",
   "metadata": {},
   "source": [
    "In the following, all steps above were wrapped up in `help.py`. (___See clean_fit_linear_mod(...) for detail.___)\n",
    "\n",
    "- row records with null values in `Salary` have been dropped.\n",
    "- empty columns have been dropped.\n",
    "- numeric variables have been imputed with mean values.\n",
    "- categorical variables have been one-hot encoded"
   ]
  },
  {
   "cell_type": "code",
   "execution_count": 522,
   "id": "2f657b07",
   "metadata": {},
   "outputs": [],
   "source": [
    "train_score, test_score, _, _, _, _, _ = h.clean_fit_linear_mod(df, 'Salary', dummy_na=False)"
   ]
  },
  {
   "cell_type": "code",
   "execution_count": 523,
   "id": "56f7f4b1",
   "metadata": {},
   "outputs": [
    {
     "name": "stdout",
     "output_type": "stream",
     "text": [
      "• The r-squared on the training data was 1.0.\n",
      "• The r-squared on the test data was  0.453.\n"
     ]
    }
   ],
   "source": [
    "out_str = \"\\u2022 The r-squared on the training data was {0}.\\n\\u2022 The r-squared on the test data was {1: .3f}.\"\n",
    "print(out_str.format(train_score, test_score))"
   ]
  },
  {
   "cell_type": "markdown",
   "id": "d40ae6d8",
   "metadata": {},
   "source": [
    "In order to understand how well our linear model (lm_model) fit the dataset, \n",
    "\n",
    "we first needed to split our data into train and test data sets. \n",
    "\n",
    "Then we were able to fit our linear model (lm_model) on the X_train and y_train. \n",
    "\n",
    "We could then predict using our linear model (lm_model) by providing the linear model the X_test for it to make predictions. These predictions were for y_test. \n",
    "\n",
    "By looking at the train_score, it looked like we were doing awesome because it was 1! However, looking at the test_score suggested our model was not extending well. The purpose of this notebook will be to see how well we can get our model to extend to new data. \n",
    "\n",
    "This problem where our data fits the training data well, but does not perform well on test data is commonly known as ___overfitting___.\n",
    "\n",
    "---\n",
    "\n",
    "___Normally,___ the following methods can help us combat overfitting:\n",
    "- **Method 1**: add interactions, quadratics, cubics, and other higher order terms.\n",
    "- **Method 2**: fit the model many times with different rows, then average the responses.\n",
    "- **Method 3**: subset the features used for fitting the model each time.\n",
    "- ...\n",
    "\n",
    "For **Method 1**, in this case, it is not likely that having more complex features will help us.  The model is already forming too complex of a relationship to generalize to new data.\n",
    "\n",
    "\n",
    "For **Method 2**, fitting the model on different rows and ctually a common technique for combatting overfitting.  It relates to an idea known as ___bootstrapping___.\n",
    "\n",
    "\n",
    "For **Method 3**, subsetting the features is actually a common way to combat overfitting.  This type of feature reduction is done in stochastic gradient methods related to gradient boosting and random forest methods."
   ]
  },
  {
   "cell_type": "code",
   "execution_count": 524,
   "id": "1b7eca27",
   "metadata": {},
   "outputs": [],
   "source": [
    "def find_optimal_lm_mod(X, y, cutoffs, test_size = .30, random_state=42, plot=True):\n",
    "    '''\n",
    "    INPUT\n",
    "    X - pandas dataframe, X matrix\n",
    "    y - pandas dataframe, response variable\n",
    "    cutoffs - list of ints, cutoff for number of non-zero values in dummy categorical vars\n",
    "    test_size - float between 0 and 1, default 0.3, determines the proportion of data as test data\n",
    "    random_state - int, default 42, controls random state for train_test_split\n",
    "    plot - boolean, default 0.3, True to plot result\n",
    "\n",
    "    OUTPUT\n",
    "    r2_scores_test - list of floats of r2 scores on the test data\n",
    "    r2_scores_train - list of floats of r2 scores on the train data\n",
    "    lm_model - model object from sklearn\n",
    "    X_train, X_test, y_train, y_test - output from sklearn train test split used for optimal model\n",
    "    '''\n",
    "    r2_scores_test, r2_scores_train, num_feats, results = [], [], [], dict()\n",
    "    for cutoff in cutoffs:\n",
    "\n",
    "        #reduce X matrix\n",
    "        reduce_X = X.iloc[:, np.where((X.sum() > cutoff) == True)[0]]\n",
    "        num_feats.append(reduce_X.shape[1])\n",
    "\n",
    "        #split the data into train and test\n",
    "        X_train, X_test, y_train, y_test = train_test_split(reduce_X, y, test_size = test_size, random_state=random_state)\n",
    "\n",
    "        #fit the model and obtain pred response\n",
    "        lm_model = LinearRegression(normalize=True)\n",
    "        lm_model.fit(X_train, y_train)\n",
    "        y_test_preds = lm_model.predict(X_test)\n",
    "        y_train_preds = lm_model.predict(X_train)\n",
    "\n",
    "        #append the r2 value from the test set\n",
    "        r2_scores_test.append(r2_score(y_test, y_test_preds))\n",
    "        r2_scores_train.append(r2_score(y_train, y_train_preds))\n",
    "        results[str(cutoff)] = r2_score(y_test, y_test_preds)\n",
    "\n",
    "    if plot:\n",
    "        plt.plot(num_feats, r2_scores_test, label=\"Test\", alpha=.5)\n",
    "        plt.plot(num_feats, r2_scores_train, label=\"Train\", alpha=.5)\n",
    "        plt.xlabel('Number of Features')\n",
    "        plt.ylabel('Rsquared')\n",
    "        plt.title('Rsquared by Number of Features')\n",
    "        plt.legend(loc=1)\n",
    "        plt.show()\n",
    "\n",
    "    best_cutoff = max(results, key=results.get)\n",
    "\n",
    "    #reduce X matrix\n",
    "    reduce_X = X.iloc[:, np.where((X.sum() > int(best_cutoff)) == True)[0]]\n",
    "    num_feats.append(reduce_X.shape[1])\n",
    "\n",
    "    #split the data into train and test\n",
    "    X_train, X_test, y_train, y_test = train_test_split(reduce_X, y, test_size = test_size, random_state=random_state)\n",
    "\n",
    "    #fit the model\n",
    "    lm_model = LinearRegression(normalize=True)\n",
    "    lm_model.fit(X_train, y_train)\n",
    "\n",
    "    return r2_scores_test, r2_scores_train, lm_model, X_train, X_test, y_train, y_test"
   ]
  },
  {
   "cell_type": "code",
   "execution_count": 525,
   "id": "fb8727fd",
   "metadata": {},
   "outputs": [
    {
     "data": {
      "text/html": [
       "<div>\n",
       "<style scoped>\n",
       "    .dataframe tbody tr th:only-of-type {\n",
       "        vertical-align: middle;\n",
       "    }\n",
       "\n",
       "    .dataframe tbody tr th {\n",
       "        vertical-align: top;\n",
       "    }\n",
       "\n",
       "    .dataframe thead th {\n",
       "        text-align: right;\n",
       "    }\n",
       "</style>\n",
       "<table border=\"1\" class=\"dataframe\">\n",
       "  <thead>\n",
       "    <tr style=\"text-align: right;\">\n",
       "      <th></th>\n",
       "      <th>Respondent</th>\n",
       "    </tr>\n",
       "  </thead>\n",
       "  <tbody>\n",
       "    <tr>\n",
       "      <th>0</th>\n",
       "      <td>1</td>\n",
       "    </tr>\n",
       "    <tr>\n",
       "      <th>1</th>\n",
       "      <td>2</td>\n",
       "    </tr>\n",
       "    <tr>\n",
       "      <th>2</th>\n",
       "      <td>3</td>\n",
       "    </tr>\n",
       "    <tr>\n",
       "      <th>3</th>\n",
       "      <td>4</td>\n",
       "    </tr>\n",
       "    <tr>\n",
       "      <th>4</th>\n",
       "      <td>5</td>\n",
       "    </tr>\n",
       "    <tr>\n",
       "      <th>...</th>\n",
       "      <td>...</td>\n",
       "    </tr>\n",
       "    <tr>\n",
       "      <th>19097</th>\n",
       "      <td>19098</td>\n",
       "    </tr>\n",
       "    <tr>\n",
       "      <th>19098</th>\n",
       "      <td>19099</td>\n",
       "    </tr>\n",
       "    <tr>\n",
       "      <th>19099</th>\n",
       "      <td>19100</td>\n",
       "    </tr>\n",
       "    <tr>\n",
       "      <th>19100</th>\n",
       "      <td>19101</td>\n",
       "    </tr>\n",
       "    <tr>\n",
       "      <th>19101</th>\n",
       "      <td>19102</td>\n",
       "    </tr>\n",
       "  </tbody>\n",
       "</table>\n",
       "<p>19102 rows × 1 columns</p>\n",
       "</div>"
      ],
      "text/plain": [
       "       Respondent\n",
       "0               1\n",
       "1               2\n",
       "2               3\n",
       "3               4\n",
       "4               5\n",
       "...           ...\n",
       "19097       19098\n",
       "19098       19099\n",
       "19099       19100\n",
       "19100       19101\n",
       "19101       19102\n",
       "\n",
       "[19102 rows x 1 columns]"
      ]
     },
     "execution_count": 525,
     "metadata": {},
     "output_type": "execute_result"
    }
   ],
   "source": [
    "df.select_dtypes('int64')"
   ]
  },
  {
   "cell_type": "code",
   "execution_count": 526,
   "id": "f19cf627",
   "metadata": {},
   "outputs": [],
   "source": [
    "df = pd.read_csv('./survey_results_public.csv')"
   ]
  },
  {
   "cell_type": "code",
   "execution_count": 527,
   "id": "f18b8115",
   "metadata": {},
   "outputs": [],
   "source": [
    "def clean_data(df):\n",
    "    df_clean = df.copy()\n",
    "    df = df.dropna(subset=['Salary'])\n",
    "    \n",
    "    X = df.drop(columns=['Respondent', 'ExpectedSalary', 'Salary'])\n",
    "    \n",
    "    num_vars = X.select_dtypes('float').columns\n",
    "    for num_var in num_vars:\n",
    "        X[num_var].fillna(X[num_var].mean(), inplace=True)\n",
    "    \n",
    "    cat_vars = X.select_dtypes('object').columns\n",
    "    for cat_var in cat_vars:\n",
    "        X = pd.concat([X.drop(columns=cat_var), pd.get_dummies(X[cat_var], drop_first=True, prefix=cat_var)], axis=1)\n",
    "        \n",
    "    \n",
    "    y = df['Salary']\n",
    "    \n",
    "    return X, y"
   ]
  },
  {
   "cell_type": "code",
   "execution_count": 528,
   "id": "d9edd7b6",
   "metadata": {},
   "outputs": [],
   "source": [
    "X, y = clean_data(df)"
   ]
  },
  {
   "cell_type": "code",
   "execution_count": 529,
   "id": "4f64ada2",
   "metadata": {},
   "outputs": [
    {
     "data": {
      "text/plain": [
       "StackOverflowSatisfaction                                  42289.414457\n",
       "CareerSatisfaction                                         37742.349070\n",
       "JobSatisfaction                                            35187.347548\n",
       "HoursPerWeek                                               12259.099474\n",
       "University_No                                               4406.000000\n",
       "Gender_Male                                                 4154.000000\n",
       "StackOverflowMetaChat_Haven't done at all                   3858.000000\n",
       "PronounceGIF_With a hard \"g,\" like \"gift\"                   3644.000000\n",
       "Race_White or of European descent                           3474.000000\n",
       "StackOverflowCompanyPage_Haven't done at all                3455.000000\n",
       "StackOverflowJobSearch_Haven't done at all                  3102.000000\n",
       "StackOverflowNewQuestion_Haven't done at all                3026.000000\n",
       "AuditoryEnvironment_Turn on some music                      2877.000000\n",
       "QuestionsConfusing_Disagree                                 2851.000000\n",
       "ClickyKeys_Yes                                              2851.000000\n",
       "VersionControl_Git                                          2652.000000\n",
       "StackOverflowAnswer_Haven't done at all                     2602.000000\n",
       "MajorUndergrad_Computer science or software engineering     2543.000000\n",
       "StackOverflowJobListing_Haven't done at all                 2524.000000\n",
       "StackOverflowAdsDistracting_Disagree                        2501.000000\n",
       "dtype: float64"
      ]
     },
     "execution_count": 529,
     "metadata": {},
     "output_type": "execute_result"
    }
   ],
   "source": [
    "X.sum().sort_values(ascending=False)[:20]"
   ]
  },
  {
   "cell_type": "code",
   "execution_count": 530,
   "id": "1bf1b3a5",
   "metadata": {},
   "outputs": [
    {
     "data": {
      "text/plain": [
       "CareerSatisfaction                                        float64\n",
       "JobSatisfaction                                           float64\n",
       "HoursPerWeek                                              float64\n",
       "StackOverflowSatisfaction                                 float64\n",
       "ProgramHobby_Yes, I contribute to open source projects      uint8\n",
       "                                                           ...   \n",
       "QuestionsConfusing_Strongly disagree                        uint8\n",
       "InterestedAnswers_Disagree                                  uint8\n",
       "InterestedAnswers_Somewhat agree                            uint8\n",
       "InterestedAnswers_Strongly agree                            uint8\n",
       "InterestedAnswers_Strongly disagree                         uint8\n",
       "Length: 11935, dtype: object"
      ]
     },
     "execution_count": 530,
     "metadata": {},
     "output_type": "execute_result"
    }
   ],
   "source": [
    "X.dtypes"
   ]
  },
  {
   "cell_type": "code",
   "execution_count": 531,
   "id": "2b334ced",
   "metadata": {},
   "outputs": [
    {
     "data": {
      "text/plain": [
       "array([dtype('float64'), dtype('uint8')], dtype=object)"
      ]
     },
     "execution_count": 531,
     "metadata": {},
     "output_type": "execute_result"
    }
   ],
   "source": [
    "X.dtypes.unique()"
   ]
  },
  {
   "cell_type": "code",
   "execution_count": 532,
   "id": "29cb6a79",
   "metadata": {},
   "outputs": [],
   "source": [
    "cat1 = X.select_dtypes('uint8').columns"
   ]
  },
  {
   "cell_type": "code",
   "execution_count": 533,
   "id": "882d8e40",
   "metadata": {},
   "outputs": [
    {
     "data": {
      "text/plain": [
       "(1, 4406)"
      ]
     },
     "execution_count": 533,
     "metadata": {},
     "output_type": "execute_result"
    }
   ],
   "source": [
    "X[cat1].sum().min(), X[cat1].sum().max()"
   ]
  },
  {
   "cell_type": "code",
   "execution_count": 534,
   "id": "5f4e79b8",
   "metadata": {},
   "outputs": [
    {
     "data": {
      "text/plain": [
       "{'whiskers': [<matplotlib.lines.Line2D at 0x7ffe22c7ded0>,\n",
       "  <matplotlib.lines.Line2D at 0x7ffe22c7d450>],\n",
       " 'caps': [<matplotlib.lines.Line2D at 0x7ffe1d654b90>,\n",
       "  <matplotlib.lines.Line2D at 0x7ffe23f5c790>],\n",
       " 'boxes': [<matplotlib.lines.Line2D at 0x7ffe9c6da690>],\n",
       " 'medians': [<matplotlib.lines.Line2D at 0x7ffe2263bcd0>],\n",
       " 'fliers': [<matplotlib.lines.Line2D at 0x7ffe2263b0d0>],\n",
       " 'means': []}"
      ]
     },
     "execution_count": 534,
     "metadata": {},
     "output_type": "execute_result"
    },
    {
     "data": {
      "image/png": "[encoded data removed]",
      "text/plain": [
       "<Figure size 432x288 with 1 Axes>"
      ]
     },
     "metadata": {
      "needs_background": "light"
     },
     "output_type": "display_data"
    }
   ],
   "source": [
    "plt.boxplot(X[cat1].sum())"
   ]
  },
  {
   "cell_type": "code",
   "execution_count": 535,
   "id": "2ee5e8db",
   "metadata": {},
   "outputs": [
    {
     "data": {
      "text/plain": [
       "(5009, 11935)"
      ]
     },
     "execution_count": 535,
     "metadata": {},
     "output_type": "execute_result"
    }
   ],
   "source": [
    "X.shape"
   ]
  },
  {
   "cell_type": "code",
   "execution_count": 536,
   "id": "1fba3ae1",
   "metadata": {},
   "outputs": [
    {
     "data": {
      "text/plain": [
       "(5009,)"
      ]
     },
     "execution_count": 536,
     "metadata": {},
     "output_type": "execute_result"
    }
   ],
   "source": [
    "y.shape"
   ]
  },
  {
   "cell_type": "code",
   "execution_count": 537,
   "id": "9c5b3440",
   "metadata": {},
   "outputs": [],
   "source": [
    "cuts = [4000, 3500, 2500, 1500, 1000, 750, 500, 350,200, 100, 70, 50, 30, 25]"
   ]
  },
  {
   "cell_type": "code",
   "execution_count": 538,
   "id": "42727309",
   "metadata": {},
   "outputs": [
    {
     "name": "stdout",
     "output_type": "stream",
     "text": [
      "Best Cut Number: 30.\n",
      "Optimal Number of Features: 872.\n",
      "Test Score(Highest) on Best Cut: 0.694.\n",
      "Corresponding Train Score: 0.821.\n"
     ]
    },
    {
     "data": {
      "image/png": "[encoded data removed]",
      "text/plain": [
       "<Figure size 432x288 with 1 Axes>"
      ]
     },
     "metadata": {
      "needs_background": "light"
     },
     "output_type": "display_data"
    }
   ],
   "source": [
    "X_train, _, _, _, lm = h.find_optimal_lm(X, y, cuts)"
   ]
  },
  {
   "cell_type": "markdown",
   "id": "09071f39",
   "metadata": {},
   "source": [
    "___Comments:___\n",
    "\n",
    "From the above,we can see,\n",
    "1. The optimal number of features based on the results is **872**.\n",
    "2. The model( optimal) we should implement in practice has a train rsquared of **0.821**.\n",
    "3. The model( optimal) we should implement in practice has a test rsquared of **0.694**.\n",
    "4. If we were to allow the number of features to continue to **increase**, we would likely have a better rsquared for the training data."
   ]
  },
  {
   "cell_type": "markdown",
   "id": "09eb25a4",
   "metadata": {},
   "source": [
    "The default penalty on coefficients using linear regression in sklearn is a **ridge** (also known as an **L2**) penalty. Because of this penalty, and that all the variables were normalized, we can look at the size of the coefficients in the model as an indication of the impact of each variable on the salary. The larger the coefficient, the larger the expected impact on salary."
   ]
  },
  {
   "cell_type": "code",
   "execution_count": 539,
   "id": "9c62ca84",
   "metadata": {},
   "outputs": [
    {
     "data": {
      "text/html": [
       "<div>\n",
       "<style scoped>\n",
       "    .dataframe tbody tr th:only-of-type {\n",
       "        vertical-align: middle;\n",
       "    }\n",
       "\n",
       "    .dataframe tbody tr th {\n",
       "        vertical-align: top;\n",
       "    }\n",
       "\n",
       "    .dataframe thead th {\n",
       "        text-align: right;\n",
       "    }\n",
       "</style>\n",
       "<table border=\"1\" class=\"dataframe\">\n",
       "  <thead>\n",
       "    <tr style=\"text-align: right;\">\n",
       "      <th></th>\n",
       "      <th>feature_names</th>\n",
       "      <th>weights</th>\n",
       "      <th>abs_weights</th>\n",
       "    </tr>\n",
       "  </thead>\n",
       "  <tbody>\n",
       "    <tr>\n",
       "      <th>39</th>\n",
       "      <td>Country_United States</td>\n",
       "      <td>54790.149088</td>\n",
       "      <td>54790.149088</td>\n",
       "    </tr>\n",
       "    <tr>\n",
       "      <th>27</th>\n",
       "      <td>Country_Norway</td>\n",
       "      <td>51646.104208</td>\n",
       "      <td>51646.104208</td>\n",
       "    </tr>\n",
       "    <tr>\n",
       "      <th>359</th>\n",
       "      <td>Currency_Swiss francs</td>\n",
       "      <td>41980.217723</td>\n",
       "      <td>41980.217723</td>\n",
       "    </tr>\n",
       "    <tr>\n",
       "      <th>7</th>\n",
       "      <td>Country_Australia</td>\n",
       "      <td>40036.771478</td>\n",
       "      <td>40036.771478</td>\n",
       "    </tr>\n",
       "    <tr>\n",
       "      <th>14</th>\n",
       "      <td>Country_Denmark</td>\n",
       "      <td>35220.409157</td>\n",
       "      <td>35220.409157</td>\n",
       "    </tr>\n",
       "    <tr>\n",
       "      <th>22</th>\n",
       "      <td>Country_Israel</td>\n",
       "      <td>33912.797956</td>\n",
       "      <td>33912.797956</td>\n",
       "    </tr>\n",
       "    <tr>\n",
       "      <th>113</th>\n",
       "      <td>YearsCodedJob_18 to 19 years</td>\n",
       "      <td>33870.804225</td>\n",
       "      <td>33870.804225</td>\n",
       "    </tr>\n",
       "    <tr>\n",
       "      <th>26</th>\n",
       "      <td>Country_New Zealand</td>\n",
       "      <td>29819.029774</td>\n",
       "      <td>29819.029774</td>\n",
       "    </tr>\n",
       "    <tr>\n",
       "      <th>116</th>\n",
       "      <td>YearsCodedJob_20 or more years</td>\n",
       "      <td>29125.842235</td>\n",
       "      <td>29125.842235</td>\n",
       "    </tr>\n",
       "    <tr>\n",
       "      <th>37</th>\n",
       "      <td>Country_Ukraine</td>\n",
       "      <td>-28097.193011</td>\n",
       "      <td>28097.193011</td>\n",
       "    </tr>\n",
       "    <tr>\n",
       "      <th>36</th>\n",
       "      <td>Country_Switzerland</td>\n",
       "      <td>26540.545330</td>\n",
       "      <td>26540.545330</td>\n",
       "    </tr>\n",
       "    <tr>\n",
       "      <th>112</th>\n",
       "      <td>YearsCodedJob_17 to 18 years</td>\n",
       "      <td>26408.596806</td>\n",
       "      <td>26408.596806</td>\n",
       "    </tr>\n",
       "    <tr>\n",
       "      <th>21</th>\n",
       "      <td>Country_Ireland</td>\n",
       "      <td>25269.666987</td>\n",
       "      <td>25269.666987</td>\n",
       "    </tr>\n",
       "    <tr>\n",
       "      <th>109</th>\n",
       "      <td>YearsCodedJob_14 to 15 years</td>\n",
       "      <td>24194.987496</td>\n",
       "      <td>24194.987496</td>\n",
       "    </tr>\n",
       "    <tr>\n",
       "      <th>12</th>\n",
       "      <td>Country_Canada</td>\n",
       "      <td>21741.241149</td>\n",
       "      <td>21741.241149</td>\n",
       "    </tr>\n",
       "    <tr>\n",
       "      <th>17</th>\n",
       "      <td>Country_Germany</td>\n",
       "      <td>21348.880132</td>\n",
       "      <td>21348.880132</td>\n",
       "    </tr>\n",
       "    <tr>\n",
       "      <th>114</th>\n",
       "      <td>YearsCodedJob_19 to 20 years</td>\n",
       "      <td>21051.163244</td>\n",
       "      <td>21051.163244</td>\n",
       "    </tr>\n",
       "    <tr>\n",
       "      <th>107</th>\n",
       "      <td>YearsCodedJob_12 to 13 years</td>\n",
       "      <td>20502.497116</td>\n",
       "      <td>20502.497116</td>\n",
       "    </tr>\n",
       "    <tr>\n",
       "      <th>108</th>\n",
       "      <td>YearsCodedJob_13 to 14 years</td>\n",
       "      <td>20157.496395</td>\n",
       "      <td>20157.496395</td>\n",
       "    </tr>\n",
       "    <tr>\n",
       "      <th>38</th>\n",
       "      <td>Country_United Kingdom</td>\n",
       "      <td>19912.078564</td>\n",
       "      <td>19912.078564</td>\n",
       "    </tr>\n",
       "    <tr>\n",
       "      <th>110</th>\n",
       "      <td>YearsCodedJob_15 to 16 years</td>\n",
       "      <td>19268.252714</td>\n",
       "      <td>19268.252714</td>\n",
       "    </tr>\n",
       "    <tr>\n",
       "      <th>361</th>\n",
       "      <td>Overpaid_Greatly underpaid</td>\n",
       "      <td>-17698.604092</td>\n",
       "      <td>17698.604092</td>\n",
       "    </tr>\n",
       "    <tr>\n",
       "      <th>111</th>\n",
       "      <td>YearsCodedJob_16 to 17 years</td>\n",
       "      <td>17600.248944</td>\n",
       "      <td>17600.248944</td>\n",
       "    </tr>\n",
       "    <tr>\n",
       "      <th>8</th>\n",
       "      <td>Country_Austria</td>\n",
       "      <td>17252.299154</td>\n",
       "      <td>17252.299154</td>\n",
       "    </tr>\n",
       "    <tr>\n",
       "      <th>9</th>\n",
       "      <td>Country_Belgium</td>\n",
       "      <td>16382.608457</td>\n",
       "      <td>16382.608457</td>\n",
       "    </tr>\n",
       "    <tr>\n",
       "      <th>355</th>\n",
       "      <td>Currency_Polish zloty (zl)</td>\n",
       "      <td>-16101.547595</td>\n",
       "      <td>16101.547595</td>\n",
       "    </tr>\n",
       "    <tr>\n",
       "      <th>25</th>\n",
       "      <td>Country_Netherlands</td>\n",
       "      <td>15981.511587</td>\n",
       "      <td>15981.511587</td>\n",
       "    </tr>\n",
       "    <tr>\n",
       "      <th>106</th>\n",
       "      <td>YearsCodedJob_11 to 12 years</td>\n",
       "      <td>15752.133469</td>\n",
       "      <td>15752.133469</td>\n",
       "    </tr>\n",
       "    <tr>\n",
       "      <th>895</th>\n",
       "      <td>StackOverflowHelpful_Disagree</td>\n",
       "      <td>15714.892167</td>\n",
       "      <td>15714.892167</td>\n",
       "    </tr>\n",
       "    <tr>\n",
       "      <th>511</th>\n",
       "      <td>HaveWorkedFramework_Node.js; React; .NET Core</td>\n",
       "      <td>15653.502270</td>\n",
       "      <td>15653.502270</td>\n",
       "    </tr>\n",
       "  </tbody>\n",
       "</table>\n",
       "</div>"
      ],
      "text/plain": [
       "                                     feature_names       weights   abs_weights\n",
       "39                           Country_United States  54790.149088  54790.149088\n",
       "27                                  Country_Norway  51646.104208  51646.104208\n",
       "359                          Currency_Swiss francs  41980.217723  41980.217723\n",
       "7                                Country_Australia  40036.771478  40036.771478\n",
       "14                                 Country_Denmark  35220.409157  35220.409157\n",
       "22                                  Country_Israel  33912.797956  33912.797956\n",
       "113                   YearsCodedJob_18 to 19 years  33870.804225  33870.804225\n",
       "26                             Country_New Zealand  29819.029774  29819.029774\n",
       "116                 YearsCodedJob_20 or more years  29125.842235  29125.842235\n",
       "37                                 Country_Ukraine -28097.193011  28097.193011\n",
       "36                             Country_Switzerland  26540.545330  26540.545330\n",
       "112                   YearsCodedJob_17 to 18 years  26408.596806  26408.596806\n",
       "21                                 Country_Ireland  25269.666987  25269.666987\n",
       "109                   YearsCodedJob_14 to 15 years  24194.987496  24194.987496\n",
       "12                                  Country_Canada  21741.241149  21741.241149\n",
       "17                                 Country_Germany  21348.880132  21348.880132\n",
       "114                   YearsCodedJob_19 to 20 years  21051.163244  21051.163244\n",
       "107                   YearsCodedJob_12 to 13 years  20502.497116  20502.497116\n",
       "108                   YearsCodedJob_13 to 14 years  20157.496395  20157.496395\n",
       "38                          Country_United Kingdom  19912.078564  19912.078564\n",
       "110                   YearsCodedJob_15 to 16 years  19268.252714  19268.252714\n",
       "361                     Overpaid_Greatly underpaid -17698.604092  17698.604092\n",
       "111                   YearsCodedJob_16 to 17 years  17600.248944  17600.248944\n",
       "8                                  Country_Austria  17252.299154  17252.299154\n",
       "9                                  Country_Belgium  16382.608457  16382.608457\n",
       "355                     Currency_Polish zloty (zl) -16101.547595  16101.547595\n",
       "25                             Country_Netherlands  15981.511587  15981.511587\n",
       "106                   YearsCodedJob_11 to 12 years  15752.133469  15752.133469\n",
       "895                  StackOverflowHelpful_Disagree  15714.892167  15714.892167\n",
       "511  HaveWorkedFramework_Node.js; React; .NET Core  15653.502270  15653.502270"
      ]
     },
     "execution_count": 539,
     "metadata": {},
     "output_type": "execute_result"
    }
   ],
   "source": [
    "# Analyze the impact of each predictor on predicting the `salary`\n",
    "h.coef_weights(lm, X_train).head(30)"
   ]
  },
  {
   "cell_type": "markdown",
   "id": "b090b202",
   "metadata": {},
   "source": [
    "___Conclusions:___\n",
    "\n",
    "From the top-20 weights of importance matrix above, we can see,\n",
    "1. `Country` appears to be one of the top indicators for `Salary`.\n",
    "2. **How long** an individual has been programming appears to be one of the top indicators for `Salary`.\n",
    "3. However, how long an individual has been programming ___does not___ have a positive relationship with `Salary`.\n",
    "4. `Gender` ___does not___ appear to be one of the indicators for `Salary`."
   ]
  }
 ],
 "metadata": {
  "interpreter": {
   "hash": "082e9a3bcad0a290d0001e938aa60b99250c6c2ef33a923c00b70f9826caf4b7"
  },
  "kernelspec": {
   "display_name": "Python 3",
   "language": "python",
   "name": "python3"
  },
  "language_info": {
   "codemirror_mode": {
    "name": "ipython",
    "version": 3
   },
   "file_extension": ".py",
   "mimetype": "text/x-python",
   "name": "python",
   "nbconvert_exporter": "python",
   "pygments_lexer": "ipython3",
   "version": "3.7.9"
  },
  "toc": {
   "base_numbering": 1,
   "nav_menu": {},
   "number_sections": false,
   "sideBar": true,
   "skip_h1_title": false,
   "title_cell": "Table of Contents",
   "title_sidebar": "Contents",
   "toc_cell": false,
   "toc_position": {},
   "toc_section_display": true,
   "toc_window_display": false
  }
 },
 "nbformat": 4,
 "nbformat_minor": 5
}
