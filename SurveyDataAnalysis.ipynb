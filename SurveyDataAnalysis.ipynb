{
 "cells": [
  {
   "cell_type": "markdown",
   "id": "656f0e5a",
   "metadata": {},
   "source": [
    "# StackOverflow Survey Data Analysis"
   ]
  },
  {
   "cell_type": "markdown",
   "id": "7c3ba0a4",
   "metadata": {},
   "source": [
    "## A Look at the Data\n",
    "\n",
    "In order to get a better understanding of the data, some of the characteristics of the dataset will be explored as follows.\n",
    "\n",
    "1. Number of rows and columns in this dataset.\n",
    "2. Provide a set of column names that have no missing values.\n",
    "3. Which columns have the most missing values? Provide a set of column names that have more than 75% of their values missing.\n",
    "4. Provide a pandas series of the different **Professional** status values in the dataset along with the count of the number of individuals with each status.\n",
    "5. Provide a pandas series of the different FormalEducation status values in the dataset along with the count of how many individuals received that formal education.\n",
    "6. Provide a pandas series of the different Country values in the dataset along with the count of how many individuals are from each country. "
   ]
  },
  {
   "cell_type": "code",
   "execution_count": 1,
   "id": "dd11326c",
   "metadata": {},
   "outputs": [],
   "source": [
    "# Import necessary libraries\n",
    "import os\n",
    "import numpy as np\n",
    "import pandas as pd\n",
    "import matplotlib.pyplot as plt\n",
    "import helper as h\n",
    "\n",
    "\n",
    "os.chdir(\"projects_on_GitHub/cases/SurveyDataAnalysis\")"
   ]
  },
  {
   "cell_type": "code",
   "execution_count": 86,
   "id": "75d3b4eb",
   "metadata": {},
   "outputs": [
    {
     "data": {
      "text/html": [
       "<div>\n",
       "<style scoped>\n",
       "    .dataframe tbody tr th:only-of-type {\n",
       "        vertical-align: middle;\n",
       "    }\n",
       "\n",
       "    .dataframe tbody tr th {\n",
       "        vertical-align: top;\n",
       "    }\n",
       "\n",
       "    .dataframe thead th {\n",
       "        text-align: right;\n",
       "    }\n",
       "</style>\n",
       "<table border=\"1\" class=\"dataframe\">\n",
       "  <thead>\n",
       "    <tr style=\"text-align: right;\">\n",
       "      <th></th>\n",
       "      <th>Respondent</th>\n",
       "      <th>Professional</th>\n",
       "      <th>ProgramHobby</th>\n",
       "      <th>Country</th>\n",
       "      <th>University</th>\n",
       "      <th>EmploymentStatus</th>\n",
       "      <th>FormalEducation</th>\n",
       "      <th>MajorUndergrad</th>\n",
       "      <th>HomeRemote</th>\n",
       "      <th>CompanySize</th>\n",
       "      <th>...</th>\n",
       "      <th>StackOverflowMakeMoney</th>\n",
       "      <th>Gender</th>\n",
       "      <th>HighestEducationParents</th>\n",
       "      <th>Race</th>\n",
       "      <th>SurveyLong</th>\n",
       "      <th>QuestionsInteresting</th>\n",
       "      <th>QuestionsConfusing</th>\n",
       "      <th>InterestedAnswers</th>\n",
       "      <th>Salary</th>\n",
       "      <th>ExpectedSalary</th>\n",
       "    </tr>\n",
       "  </thead>\n",
       "  <tbody>\n",
       "    <tr>\n",
       "      <th>0</th>\n",
       "      <td>1</td>\n",
       "      <td>Student</td>\n",
       "      <td>Yes, both</td>\n",
       "      <td>United States</td>\n",
       "      <td>No</td>\n",
       "      <td>Not employed, and not looking for work</td>\n",
       "      <td>Secondary school</td>\n",
       "      <td>NaN</td>\n",
       "      <td>NaN</td>\n",
       "      <td>NaN</td>\n",
       "      <td>...</td>\n",
       "      <td>Strongly disagree</td>\n",
       "      <td>Male</td>\n",
       "      <td>High school</td>\n",
       "      <td>White or of European descent</td>\n",
       "      <td>Strongly disagree</td>\n",
       "      <td>Strongly agree</td>\n",
       "      <td>Disagree</td>\n",
       "      <td>Strongly agree</td>\n",
       "      <td>NaN</td>\n",
       "      <td>NaN</td>\n",
       "    </tr>\n",
       "    <tr>\n",
       "      <th>1</th>\n",
       "      <td>2</td>\n",
       "      <td>Student</td>\n",
       "      <td>Yes, both</td>\n",
       "      <td>United Kingdom</td>\n",
       "      <td>Yes, full-time</td>\n",
       "      <td>Employed part-time</td>\n",
       "      <td>Some college/university study without earning ...</td>\n",
       "      <td>Computer science or software engineering</td>\n",
       "      <td>More than half, but not all, the time</td>\n",
       "      <td>20 to 99 employees</td>\n",
       "      <td>...</td>\n",
       "      <td>Strongly disagree</td>\n",
       "      <td>Male</td>\n",
       "      <td>A master's degree</td>\n",
       "      <td>White or of European descent</td>\n",
       "      <td>Somewhat agree</td>\n",
       "      <td>Somewhat agree</td>\n",
       "      <td>Disagree</td>\n",
       "      <td>Strongly agree</td>\n",
       "      <td>NaN</td>\n",
       "      <td>37500.0</td>\n",
       "    </tr>\n",
       "    <tr>\n",
       "      <th>2</th>\n",
       "      <td>3</td>\n",
       "      <td>Professional developer</td>\n",
       "      <td>Yes, both</td>\n",
       "      <td>United Kingdom</td>\n",
       "      <td>No</td>\n",
       "      <td>Employed full-time</td>\n",
       "      <td>Bachelor's degree</td>\n",
       "      <td>Computer science or software engineering</td>\n",
       "      <td>Less than half the time, but at least one day ...</td>\n",
       "      <td>10,000 or more employees</td>\n",
       "      <td>...</td>\n",
       "      <td>Disagree</td>\n",
       "      <td>Male</td>\n",
       "      <td>A professional degree</td>\n",
       "      <td>White or of European descent</td>\n",
       "      <td>Somewhat agree</td>\n",
       "      <td>Agree</td>\n",
       "      <td>Disagree</td>\n",
       "      <td>Agree</td>\n",
       "      <td>113750.0</td>\n",
       "      <td>NaN</td>\n",
       "    </tr>\n",
       "    <tr>\n",
       "      <th>3</th>\n",
       "      <td>4</td>\n",
       "      <td>Professional non-developer who sometimes write...</td>\n",
       "      <td>Yes, both</td>\n",
       "      <td>United States</td>\n",
       "      <td>No</td>\n",
       "      <td>Employed full-time</td>\n",
       "      <td>Doctoral degree</td>\n",
       "      <td>A non-computer-focused engineering discipline</td>\n",
       "      <td>Less than half the time, but at least one day ...</td>\n",
       "      <td>10,000 or more employees</td>\n",
       "      <td>...</td>\n",
       "      <td>Disagree</td>\n",
       "      <td>Male</td>\n",
       "      <td>A doctoral degree</td>\n",
       "      <td>White or of European descent</td>\n",
       "      <td>Agree</td>\n",
       "      <td>Agree</td>\n",
       "      <td>Somewhat agree</td>\n",
       "      <td>Strongly agree</td>\n",
       "      <td>NaN</td>\n",
       "      <td>NaN</td>\n",
       "    </tr>\n",
       "    <tr>\n",
       "      <th>4</th>\n",
       "      <td>5</td>\n",
       "      <td>Professional developer</td>\n",
       "      <td>Yes, I program as a hobby</td>\n",
       "      <td>Switzerland</td>\n",
       "      <td>No</td>\n",
       "      <td>Employed full-time</td>\n",
       "      <td>Master's degree</td>\n",
       "      <td>Computer science or software engineering</td>\n",
       "      <td>Never</td>\n",
       "      <td>10 to 19 employees</td>\n",
       "      <td>...</td>\n",
       "      <td>NaN</td>\n",
       "      <td>NaN</td>\n",
       "      <td>NaN</td>\n",
       "      <td>NaN</td>\n",
       "      <td>NaN</td>\n",
       "      <td>NaN</td>\n",
       "      <td>NaN</td>\n",
       "      <td>NaN</td>\n",
       "      <td>NaN</td>\n",
       "      <td>NaN</td>\n",
       "    </tr>\n",
       "  </tbody>\n",
       "</table>\n",
       "<p>5 rows × 154 columns</p>\n",
       "</div>"
      ],
      "text/plain": [
       "   Respondent                                       Professional  \\\n",
       "0           1                                            Student   \n",
       "1           2                                            Student   \n",
       "2           3                             Professional developer   \n",
       "3           4  Professional non-developer who sometimes write...   \n",
       "4           5                             Professional developer   \n",
       "\n",
       "                ProgramHobby         Country      University  \\\n",
       "0                  Yes, both   United States              No   \n",
       "1                  Yes, both  United Kingdom  Yes, full-time   \n",
       "2                  Yes, both  United Kingdom              No   \n",
       "3                  Yes, both   United States              No   \n",
       "4  Yes, I program as a hobby     Switzerland              No   \n",
       "\n",
       "                         EmploymentStatus  \\\n",
       "0  Not employed, and not looking for work   \n",
       "1                      Employed part-time   \n",
       "2                      Employed full-time   \n",
       "3                      Employed full-time   \n",
       "4                      Employed full-time   \n",
       "\n",
       "                                     FormalEducation  \\\n",
       "0                                   Secondary school   \n",
       "1  Some college/university study without earning ...   \n",
       "2                                  Bachelor's degree   \n",
       "3                                    Doctoral degree   \n",
       "4                                    Master's degree   \n",
       "\n",
       "                                  MajorUndergrad  \\\n",
       "0                                            NaN   \n",
       "1       Computer science or software engineering   \n",
       "2       Computer science or software engineering   \n",
       "3  A non-computer-focused engineering discipline   \n",
       "4       Computer science or software engineering   \n",
       "\n",
       "                                          HomeRemote  \\\n",
       "0                                                NaN   \n",
       "1              More than half, but not all, the time   \n",
       "2  Less than half the time, but at least one day ...   \n",
       "3  Less than half the time, but at least one day ...   \n",
       "4                                              Never   \n",
       "\n",
       "                CompanySize  ... StackOverflowMakeMoney Gender  \\\n",
       "0                       NaN  ...      Strongly disagree   Male   \n",
       "1        20 to 99 employees  ...      Strongly disagree   Male   \n",
       "2  10,000 or more employees  ...               Disagree   Male   \n",
       "3  10,000 or more employees  ...               Disagree   Male   \n",
       "4        10 to 19 employees  ...                    NaN    NaN   \n",
       "\n",
       "  HighestEducationParents                          Race         SurveyLong  \\\n",
       "0             High school  White or of European descent  Strongly disagree   \n",
       "1       A master's degree  White or of European descent     Somewhat agree   \n",
       "2   A professional degree  White or of European descent     Somewhat agree   \n",
       "3       A doctoral degree  White or of European descent              Agree   \n",
       "4                     NaN                           NaN                NaN   \n",
       "\n",
       "  QuestionsInteresting QuestionsConfusing InterestedAnswers    Salary  \\\n",
       "0       Strongly agree           Disagree    Strongly agree       NaN   \n",
       "1       Somewhat agree           Disagree    Strongly agree       NaN   \n",
       "2                Agree           Disagree             Agree  113750.0   \n",
       "3                Agree     Somewhat agree    Strongly agree       NaN   \n",
       "4                  NaN                NaN               NaN       NaN   \n",
       "\n",
       "   ExpectedSalary  \n",
       "0             NaN  \n",
       "1         37500.0  \n",
       "2             NaN  \n",
       "3             NaN  \n",
       "4             NaN  \n",
       "\n",
       "[5 rows x 154 columns]"
      ]
     },
     "execution_count": 86,
     "metadata": {},
     "output_type": "execute_result"
    }
   ],
   "source": [
    "df = pd.read_csv('./survey_results_public.csv')\n",
    "df.head()"
   ]
  },
  {
   "cell_type": "code",
   "execution_count": 3,
   "id": "a18e7fd2",
   "metadata": {},
   "outputs": [
    {
     "name": "stdout",
     "output_type": "stream",
     "text": [
      "There are 19102 rows and 154 columns in the dataset.\n"
     ]
    }
   ],
   "source": [
    "# 1. Number of rows and columns in the dataset\n",
    "print(\"There are {} rows and {} columns in the dataset.\".format(df.shape[0], df.shape[1]))"
   ]
  },
  {
   "cell_type": "code",
   "execution_count": 4,
   "id": "b056bc93",
   "metadata": {},
   "outputs": [
    {
     "data": {
      "text/plain": [
       "{'Country',\n",
       " 'EmploymentStatus',\n",
       " 'FormalEducation',\n",
       " 'Professional',\n",
       " 'ProgramHobby',\n",
       " 'Respondent',\n",
       " 'University'}"
      ]
     },
     "execution_count": 4,
     "metadata": {},
     "output_type": "execute_result"
    }
   ],
   "source": [
    "# 2. Provide a set of column names that have no missing values.\n",
    "no_nulls = set(df.columns[df.isnull().sum()==0])\n",
    "no_nulls"
   ]
  },
  {
   "cell_type": "code",
   "execution_count": 5,
   "id": "d7caaa9a",
   "metadata": {},
   "outputs": [
    {
     "data": {
      "text/plain": [
       "Index(['ExCoderNotForMe', 'ExCoderWillNotCode'], dtype='object')"
      ]
     },
     "execution_count": 5,
     "metadata": {},
     "output_type": "execute_result"
    }
   ],
   "source": [
    "# Find columns with the most null values\n",
    "na_max = df.isna().sum().max()\n",
    "df.columns[df.isna().sum()==na_max]"
   ]
  },
  {
   "cell_type": "code",
   "execution_count": 6,
   "id": "6147145e",
   "metadata": {},
   "outputs": [
    {
     "name": "stdout",
     "output_type": "stream",
     "text": [
      "<class 'pandas.core.frame.DataFrame'>\n",
      "RangeIndex: 19102 entries, 0 to 19101\n",
      "Data columns (total 154 columns):\n",
      " #    Column                            Non-Null Count  Dtype  \n",
      "---   ------                            --------------  -----  \n",
      " 0    Respondent                        19102 non-null  int64  \n",
      " 1    Professional                      19102 non-null  object \n",
      " 2    ProgramHobby                      19102 non-null  object \n",
      " 3    Country                           19102 non-null  object \n",
      " 4    University                        19102 non-null  object \n",
      " 5    EmploymentStatus                  19102 non-null  object \n",
      " 6    FormalEducation                   19102 non-null  object \n",
      " 7    MajorUndergrad                    15899 non-null  object \n",
      " 8    HomeRemote                        16471 non-null  object \n",
      " 9    CompanySize                       14653 non-null  object \n",
      " 10   CompanyType                       14609 non-null  object \n",
      " 11   YearsProgram                      19005 non-null  object \n",
      " 12   YearsCodedJob                     15391 non-null  object \n",
      " 13   YearsCodedJobPast                 349 non-null    object \n",
      " 14   DeveloperType                     13772 non-null  object \n",
      " 15   WebDeveloperType                  4286 non-null   object \n",
      " 16   MobileDeveloperType               556 non-null    object \n",
      " 17   NonDeveloperType                  1688 non-null   object \n",
      " 18   CareerSatisfaction                16102 non-null  float64\n",
      " 19   JobSatisfaction                   15253 non-null  float64\n",
      " 20   ExCoderReturn                     335 non-null    object \n",
      " 21   ExCoderNotForMe                   332 non-null    object \n",
      " 22   ExCoderBalance                    335 non-null    object \n",
      " 23   ExCoder10Years                    336 non-null    object \n",
      " 24   ExCoderBelonged                   335 non-null    object \n",
      " 25   ExCoderSkills                     336 non-null    object \n",
      " 26   ExCoderWillNotCode                332 non-null    object \n",
      " 27   ExCoderActive                     335 non-null    object \n",
      " 28   PronounceGIF                      18940 non-null  object \n",
      " 29   ProblemSolving                    12220 non-null  object \n",
      " 30   BuildingThings                    12201 non-null  object \n",
      " 31   LearningNewTech                   12216 non-null  object \n",
      " 32   BoringDetails                     12190 non-null  object \n",
      " 33   JobSecurity                       12198 non-null  object \n",
      " 34   DiversityImportant                12079 non-null  object \n",
      " 35   AnnoyingUI                        12140 non-null  object \n",
      " 36   FriendsDevelopers                 12143 non-null  object \n",
      " 37   RightWrongWay                     12112 non-null  object \n",
      " 38   UnderstandComputers               12135 non-null  object \n",
      " 39   SeriousWork                       12132 non-null  object \n",
      " 40   InvestTimeTools                   12059 non-null  object \n",
      " 41   WorkPayCare                       12087 non-null  object \n",
      " 42   KinshipDevelopers                 11980 non-null  object \n",
      " 43   ChallengeMyself                   12089 non-null  object \n",
      " 44   CompetePeers                      12034 non-null  object \n",
      " 45   ChangeWorld                       12077 non-null  object \n",
      " 46   JobSeekingStatus                  12852 non-null  object \n",
      " 47   HoursPerWeek                      7721 non-null   float64\n",
      " 48   LastNewJob                        12578 non-null  object \n",
      " 49   AssessJobIndustry                 8401 non-null   object \n",
      " 50   AssessJobRole                     8403 non-null   object \n",
      " 51   AssessJobExp                      8398 non-null   object \n",
      " 52   AssessJobDept                     8390 non-null   object \n",
      " 53   AssessJobTech                     8420 non-null   object \n",
      " 54   AssessJobProjects                 8412 non-null   object \n",
      " 55   AssessJobCompensation             8407 non-null   object \n",
      " 56   AssessJobOffice                   8336 non-null   object \n",
      " 57   AssessJobCommute                  8331 non-null   object \n",
      " 58   AssessJobRemote                   8351 non-null   object \n",
      " 59   AssessJobLeaders                  8330 non-null   object \n",
      " 60   AssessJobProfDevel                8341 non-null   object \n",
      " 61   AssessJobDiversity                8324 non-null   object \n",
      " 62   AssessJobProduct                  8334 non-null   object \n",
      " 63   AssessJobFinances                 8351 non-null   object \n",
      " 64   ImportantBenefits                 11570 non-null  object \n",
      " 65   ClickyKeys                        15358 non-null  object \n",
      " 66   JobProfile                        9190 non-null   object \n",
      " 67   ResumePrompted                    8704 non-null   object \n",
      " 68   LearnedHiring                     9183 non-null   object \n",
      " 69   ImportantHiringAlgorithms         10890 non-null  object \n",
      " 70   ImportantHiringTechExp            10894 non-null  object \n",
      " 71   ImportantHiringCommunication      10879 non-null  object \n",
      " 72   ImportantHiringOpenSource         10864 non-null  object \n",
      " 73   ImportantHiringPMExp              10869 non-null  object \n",
      " 74   ImportantHiringCompanies          10851 non-null  object \n",
      " 75   ImportantHiringTitles             10859 non-null  object \n",
      " 76   ImportantHiringEducation          10883 non-null  object \n",
      " 77   ImportantHiringRep                10878 non-null  object \n",
      " 78   ImportantHiringGettingThingsDone  10849 non-null  object \n",
      " 79   Currency                          8032 non-null   object \n",
      " 80   Overpaid                          5184 non-null   object \n",
      " 81   TabsSpaces                        14305 non-null  object \n",
      " 82   EducationImportant                9065 non-null   object \n",
      " 83   EducationTypes                    11465 non-null  object \n",
      " 84   SelfTaughtTypes                   10173 non-null  object \n",
      " 85   TimeAfterBootcamp                 882 non-null    object \n",
      " 86   CousinEducation                   6906 non-null   object \n",
      " 87   WorkStart                         13523 non-null  object \n",
      " 88   HaveWorkedLanguage                13526 non-null  object \n",
      " 89   WantWorkLanguage                  12523 non-null  object \n",
      " 90   HaveWorkedFramework               7294 non-null   object \n",
      " 91   WantWorkFramework                 8499 non-null   object \n",
      " 92   HaveWorkedDatabase                10792 non-null  object \n",
      " 93   WantWorkDatabase                  9159 non-null   object \n",
      " 94   HaveWorkedPlatform                10580 non-null  object \n",
      " 95   WantWorkPlatform                  10158 non-null  object \n",
      " 96   IDE                               13197 non-null  object \n",
      " 97   AuditoryEnvironment               13451 non-null  object \n",
      " 98   Methodology                       9587 non-null   object \n",
      " 99   VersionControl                    11571 non-null  object \n",
      " 100  CheckInCode                       11204 non-null  object \n",
      " 101  ShipIt                            11209 non-null  object \n",
      " 102  OtherPeoplesCode                  11202 non-null  object \n",
      " 103  ProjectManagement                 11122 non-null  object \n",
      " 104  EnjoyDebugging                    11258 non-null  object \n",
      " 105  InTheZone                         11101 non-null  object \n",
      " 106  DifficultCommunication            11210 non-null  object \n",
      " 107  CollaborateRemote                 11130 non-null  object \n",
      " 108  MetricAssess                      9625 non-null   object \n",
      " 109  EquipmentSatisfiedMonitors        11130 non-null  object \n",
      " 110  EquipmentSatisfiedCPU             11127 non-null  object \n",
      " 111  EquipmentSatisfiedRAM             11133 non-null  object \n",
      " 112  EquipmentSatisfiedStorage         11100 non-null  object \n",
      " 113  EquipmentSatisfiedRW              11110 non-null  object \n",
      " 114  InfluenceInternet                 11106 non-null  object \n",
      " 115  InfluenceWorkstation              8262 non-null   object \n",
      " 116  InfluenceHardware                 8262 non-null   object \n",
      " 117  InfluenceServers                  8239 non-null   object \n",
      " 118  InfluenceTechStack                8253 non-null   object \n",
      " 119  InfluenceDeptTech                 8243 non-null   object \n",
      " 120  InfluenceVizTools                 8244 non-null   object \n",
      " 121  InfluenceDatabase                 8255 non-null   object \n",
      " 122  InfluenceCloud                    8243 non-null   object \n",
      " 123  InfluenceConsultants              8229 non-null   object \n",
      " 124  InfluenceRecruitment              8244 non-null   object \n",
      " 125  InfluenceCommunication            8250 non-null   object \n",
      " 126  StackOverflowDescribes            13556 non-null  object \n",
      " 127  StackOverflowSatisfaction         13452 non-null  float64\n",
      " 128  StackOverflowDevices              12946 non-null  object \n",
      " 129  StackOverflowFoundAnswer          12691 non-null  object \n",
      " 130  StackOverflowCopiedCode           12577 non-null  object \n",
      " 131  StackOverflowJobListing           12425 non-null  object \n",
      " 132  StackOverflowCompanyPage          12411 non-null  object \n",
      " 133  StackOverflowJobSearch            12407 non-null  object \n",
      " 134  StackOverflowNewQuestion          12472 non-null  object \n",
      " 135  StackOverflowAnswer               12445 non-null  object \n",
      " 136  StackOverflowMetaChat             12414 non-null  object \n",
      " 137  StackOverflowAdsRelevant          11527 non-null  object \n",
      " 138  StackOverflowAdsDistracting       11841 non-null  object \n",
      " 139  StackOverflowModeration           11336 non-null  object \n",
      " 140  StackOverflowCommunity            12064 non-null  object \n",
      " 141  StackOverflowHelpful              12542 non-null  object \n",
      " 142  StackOverflowBetter               12462 non-null  object \n",
      " 143  StackOverflowWhatDo               12385 non-null  object \n",
      " 144  StackOverflowMakeMoney            11668 non-null  object \n",
      " 145  Gender                            12910 non-null  object \n",
      " 146  HighestEducationParents           12853 non-null  object \n",
      " 147  Race                              12218 non-null  object \n",
      " 148  SurveyLong                        12803 non-null  object \n",
      " 149  QuestionsInteresting              12736 non-null  object \n",
      " 150  QuestionsConfusing                12706 non-null  object \n",
      " 151  InterestedAnswers                 12760 non-null  object \n",
      " 152  Salary                            5009 non-null   float64\n",
      " 153  ExpectedSalary                    818 non-null    float64\n",
      "dtypes: float64(6), int64(1), object(147)\n",
      "memory usage: 22.4+ MB\n"
     ]
    }
   ],
   "source": [
    "# For check purpose\n",
    "df.info(verbose=True, show_counts=True)"
   ]
  },
  {
   "cell_type": "code",
   "execution_count": 7,
   "id": "1c4fd550",
   "metadata": {},
   "outputs": [
    {
     "data": {
      "text/plain": [
       "{'ExCoder10Years',\n",
       " 'ExCoderActive',\n",
       " 'ExCoderBalance',\n",
       " 'ExCoderBelonged',\n",
       " 'ExCoderNotForMe',\n",
       " 'ExCoderReturn',\n",
       " 'ExCoderSkills',\n",
       " 'ExCoderWillNotCode',\n",
       " 'ExpectedSalary',\n",
       " 'MobileDeveloperType',\n",
       " 'NonDeveloperType',\n",
       " 'TimeAfterBootcamp',\n",
       " 'WebDeveloperType',\n",
       " 'YearsCodedJobPast'}"
      ]
     },
     "execution_count": 7,
     "metadata": {},
     "output_type": "execute_result"
    }
   ],
   "source": [
    "# 3. Provide a set of column names that have more than 75% of their values missing.\n",
    "nulls_75plus = set(df.columns[df.isna().mean() >= .75])\n",
    "nulls_75plus"
   ]
  },
  {
   "cell_type": "code",
   "execution_count": 8,
   "id": "40b4ff90",
   "metadata": {},
   "outputs": [
    {
     "data": {
      "text/plain": [
       "0"
      ]
     },
     "execution_count": 8,
     "metadata": {},
     "output_type": "execute_result"
    }
   ],
   "source": [
    "# 4. Professional status value counts\n",
    "## Check null values in `Professional` feature\n",
    "df.Professional.isna().sum()"
   ]
  },
  {
   "cell_type": "code",
   "execution_count": 9,
   "id": "13eddf8a",
   "metadata": {},
   "outputs": [
    {
     "data": {
      "text/plain": [
       "Used to be a professional developer                     0.018689\n",
       "None of these                                           0.019265\n",
       "Professional non-developer who sometimes writes code    0.093289\n",
       "Student                                                 0.147681\n",
       "Professional developer                                  0.721076\n",
       "Name: Professional, dtype: float64"
      ]
     },
     "execution_count": 9,
     "metadata": {},
     "output_type": "execute_result"
    }
   ],
   "source": [
    "status_vals = df.Professional.value_counts(dropna=False, normalize=True, ascending=True)\n",
    "status_vals"
   ]
  },
  {
   "cell_type": "code",
   "execution_count": 10,
   "id": "5868a3a9",
   "metadata": {},
   "outputs": [
    {
     "data": {
      "image/png": "[encoded data removed]",
      "text/plain": [
       "<Figure size 432x288 with 1 Axes>"
      ]
     },
     "metadata": {
      "needs_background": "light"
     },
     "output_type": "display_data"
    }
   ],
   "source": [
    "# Visualization for Q4\n",
    "plt.barh(y=status_vals.index.values, width=status_vals.values);"
   ]
  },
  {
   "cell_type": "code",
   "execution_count": 11,
   "id": "6766652a",
   "metadata": {},
   "outputs": [
    {
     "data": {
      "text/plain": [
       "0"
      ]
     },
     "execution_count": 11,
     "metadata": {},
     "output_type": "execute_result"
    }
   ],
   "source": [
    "# 5. `FormalEducation` value counts\n",
    "## Check null values in `FormalEducation` feature\n",
    "df.FormalEducation.isna().sum()"
   ]
  },
  {
   "cell_type": "code",
   "execution_count": 12,
   "id": "be3f2984",
   "metadata": {},
   "outputs": [],
   "source": [
    "def viz_freq(feature_name, top_k=None, norm=None, asc=False):\n",
    "    if top_k is None:\n",
    "        val_counts = df[feature_name].value_counts(normalize=norm, ascending=asc)\n",
    "        print(val_counts)\n",
    "        plt.barh(y=val_counts.index.values, width=val_counts.values);\n",
    "        \n",
    "    else:\n",
    "        val_counts = df[feature_name].value_counts(normalize=norm, ascending=asc)\n",
    "        top_k_vals = val_counts[-top_k:]\n",
    "        print(top_k_vals)\n",
    "        plt.barh(y=top_k_vals.index.values, width=top_k_vals.values);"
   ]
  },
  {
   "cell_type": "code",
   "execution_count": 13,
   "id": "b20f868e",
   "metadata": {},
   "outputs": [
    {
     "name": "stdout",
     "output_type": "stream",
     "text": [
      "I never completed any formal education                               0.007591\n",
      "Professional degree                                                  0.013349\n",
      "Primary/elementary school                                            0.021150\n",
      "I prefer not to answer                                               0.021411\n",
      "Doctoral degree                                                      0.028845\n",
      "Secondary school                                                     0.116585\n",
      "Some college/university study without earning a bachelor's degree    0.150194\n",
      "Master's degree                                                      0.216888\n",
      "Bachelor's degree                                                    0.423987\n",
      "Name: FormalEducation, dtype: float64\n"
     ]
    },
    {
     "data": {
      "image/png": "[encoded data removed]",
      "text/plain": [
       "<Figure size 432x288 with 1 Axes>"
      ]
     },
     "metadata": {
      "needs_background": "light"
     },
     "output_type": "display_data"
    }
   ],
   "source": [
    "viz_freq(\"FormalEducation\", norm=True, asc=True)"
   ]
  },
  {
   "cell_type": "code",
   "execution_count": 14,
   "id": "d3c003ea",
   "metadata": {},
   "outputs": [
    {
     "data": {
      "text/plain": [
       "0"
      ]
     },
     "execution_count": 14,
     "metadata": {},
     "output_type": "execute_result"
    }
   ],
   "source": [
    "# 6. `Country` value counts\n",
    "## Check null values in `FormalEducation` feature\n",
    "df.Country.isna().sum()"
   ]
  },
  {
   "cell_type": "code",
   "execution_count": 15,
   "id": "8c134598",
   "metadata": {},
   "outputs": [
    {
     "name": "stdout",
     "output_type": "stream",
     "text": [
      "Ivory Coast (Cote D'Ivoire)    0.000052\n",
      "Qatar                          0.000052\n",
      "Libya                          0.000052\n",
      "Sudan                          0.000052\n",
      "Vatican City State             0.000052\n",
      "                                 ...   \n",
      "Canada                         0.045754\n",
      "Germany                        0.069993\n",
      "United Kingdom                 0.074547\n",
      "India                          0.081510\n",
      "United States                  0.228458\n",
      "Name: Country, Length: 165, dtype: float64\n"
     ]
    },
    {
     "data": {
      "image/png": "[encoded data removed]",
      "text/plain": [
       "<Figure size 432x288 with 1 Axes>"
      ]
     },
     "metadata": {
      "needs_background": "light"
     },
     "output_type": "display_data"
    }
   ],
   "source": [
    "viz_freq(\"Country\", norm=True, asc=True)"
   ]
  },
  {
   "cell_type": "code",
   "execution_count": 16,
   "id": "1e2ba8db",
   "metadata": {},
   "outputs": [
    {
     "name": "stdout",
     "output_type": "stream",
     "text": [
      "Israel            0.017694\n",
      "Netherlands       0.019527\n",
      "Australia         0.020888\n",
      "France            0.027327\n",
      "Poland            0.036331\n",
      "Canada            0.045754\n",
      "Germany           0.069993\n",
      "United Kingdom    0.074547\n",
      "India             0.081510\n",
      "United States     0.228458\n",
      "Name: Country, dtype: float64\n"
     ]
    },
    {
     "data": {
      "image/png": "[encoded data removed]",
      "text/plain": [
       "<Figure size 432x288 with 1 Axes>"
      ]
     },
     "metadata": {
      "needs_background": "light"
     },
     "output_type": "display_data"
    }
   ],
   "source": [
    "viz_freq(\"Country\", top_k=10, norm=True, asc=True)"
   ]
  },
  {
   "cell_type": "markdown",
   "id": "969ee90e",
   "metadata": {},
   "source": [
    "___I wrap the function above in a `helper.py` script under root folder.___"
   ]
  },
  {
   "cell_type": "code",
   "execution_count": 18,
   "id": "c032d2d9",
   "metadata": {},
   "outputs": [
    {
     "name": "stdout",
     "output_type": "stream",
     "text": [
      "Used to be a professional developer                     0.018689\n",
      "None of these                                           0.019265\n",
      "Professional non-developer who sometimes writes code    0.093289\n",
      "Student                                                 0.147681\n",
      "Professional developer                                  0.721076\n",
      "Name: Professional, dtype: float64\n"
     ]
    },
    {
     "data": {
      "image/png": "[encoded data removed]",
      "text/plain": [
       "<Figure size 432x288 with 1 Axes>"
      ]
     },
     "metadata": {
      "needs_background": "light"
     },
     "output_type": "display_data"
    }
   ],
   "source": [
    "h.viz_freq(df, \"Professional\", norm=True, asc=True)"
   ]
  },
  {
   "cell_type": "code",
   "execution_count": 20,
   "id": "94801e59",
   "metadata": {},
   "outputs": [
    {
     "name": "stdout",
     "output_type": "stream",
     "text": [
      "I never completed any formal education                               0.007591\n",
      "Professional degree                                                  0.013349\n",
      "Primary/elementary school                                            0.021150\n",
      "I prefer not to answer                                               0.021411\n",
      "Doctoral degree                                                      0.028845\n",
      "Secondary school                                                     0.116585\n",
      "Some college/university study without earning a bachelor's degree    0.150194\n",
      "Master's degree                                                      0.216888\n",
      "Bachelor's degree                                                    0.423987\n",
      "Name: FormalEducation, dtype: float64\n"
     ]
    },
    {
     "data": {
      "image/png": "[encoded data removed]",
      "text/plain": [
       "<Figure size 432x288 with 1 Axes>"
      ]
     },
     "metadata": {
      "needs_background": "light"
     },
     "output_type": "display_data"
    }
   ],
   "source": [
    "h.viz_freq(df, \"FormalEducation\", norm=True, asc=True)"
   ]
  },
  {
   "cell_type": "code",
   "execution_count": 21,
   "id": "c1a0b69b",
   "metadata": {},
   "outputs": [
    {
     "name": "stdout",
     "output_type": "stream",
     "text": [
      "Israel            0.017694\n",
      "Netherlands       0.019527\n",
      "Australia         0.020888\n",
      "France            0.027327\n",
      "Poland            0.036331\n",
      "Canada            0.045754\n",
      "Germany           0.069993\n",
      "United Kingdom    0.074547\n",
      "India             0.081510\n",
      "United States     0.228458\n",
      "Name: Country, dtype: float64\n"
     ]
    },
    {
     "data": {
      "image/png": "[encoded data removed]",
      "text/plain": [
       "<Figure size 432x288 with 1 Axes>"
      ]
     },
     "metadata": {
      "needs_background": "light"
     },
     "output_type": "display_data"
    }
   ],
   "source": [
    "# Country\n",
    "h.viz_freq(df, \"Country\", top_k=10, norm=True, asc=True)"
   ]
  },
  {
   "cell_type": "markdown",
   "id": "4a588097",
   "metadata": {},
   "source": [
    "## How to break into the field?\n",
    "\n",
    "The ___following questions___ will be explored in this section.\n",
    "\n",
    "**1.**  Use the **schema** dataset to answer this question.  Write a function called **get_description** that takes the **schema dataframe** and the **column** as a string, and returns a string of the description for that column.\n",
    "\n",
    "**2.** In order to understand how to break into the field, we will look at the **CousinEducation** field. Provide a pandas series of the different **CousinEducation** status values in the dataset. \n",
    "\n",
    "**3.** Whether some of the individuals might have bias towards their own degrees? Analyze elements of the **FormalEducation** column in **df**. \n",
    "\n",
    "**4.** Now we would like to find out if the proportion of individuals who completed one of these three programs feel differently than those that did not. Store a dataframe of only the individual's who had **HigherEd** equal to 1 in **ed_1**.  Similarly, store a dataframe of only the **HigherEd** equal to 0 values in **ed_0**.\n",
    "\n",
    "Notice, you have already created the **HigherEd** column using the check code portion above, so here you only need to subset the dataframe using this newly created column.\n",
    "\n",
    "**5.** What can you conclude from the above plot?  Change the dictionary to mark **True** for the keys of any statements you can conclude, and **False** for any of the statements you cannot conclude."
   ]
  },
  {
   "cell_type": "code",
   "execution_count": 3,
   "id": "d012a89a",
   "metadata": {},
   "outputs": [
    {
     "data": {
      "text/html": [
       "<div>\n",
       "<style scoped>\n",
       "    .dataframe tbody tr th:only-of-type {\n",
       "        vertical-align: middle;\n",
       "    }\n",
       "\n",
       "    .dataframe tbody tr th {\n",
       "        vertical-align: top;\n",
       "    }\n",
       "\n",
       "    .dataframe thead th {\n",
       "        text-align: right;\n",
       "    }\n",
       "</style>\n",
       "<table border=\"1\" class=\"dataframe\">\n",
       "  <thead>\n",
       "    <tr style=\"text-align: right;\">\n",
       "      <th></th>\n",
       "      <th>Column</th>\n",
       "      <th>Question</th>\n",
       "    </tr>\n",
       "  </thead>\n",
       "  <tbody>\n",
       "    <tr>\n",
       "      <th>0</th>\n",
       "      <td>Respondent</td>\n",
       "      <td>Respondent ID number</td>\n",
       "    </tr>\n",
       "    <tr>\n",
       "      <th>1</th>\n",
       "      <td>Professional</td>\n",
       "      <td>Which of the following best describes you?</td>\n",
       "    </tr>\n",
       "    <tr>\n",
       "      <th>2</th>\n",
       "      <td>ProgramHobby</td>\n",
       "      <td>Do you program as a hobby or contribute to ope...</td>\n",
       "    </tr>\n",
       "    <tr>\n",
       "      <th>3</th>\n",
       "      <td>Country</td>\n",
       "      <td>In which country do you currently live?</td>\n",
       "    </tr>\n",
       "    <tr>\n",
       "      <th>4</th>\n",
       "      <td>University</td>\n",
       "      <td>Are you currently enrolled in a formal, degree...</td>\n",
       "    </tr>\n",
       "    <tr>\n",
       "      <th>...</th>\n",
       "      <td>...</td>\n",
       "      <td>...</td>\n",
       "    </tr>\n",
       "    <tr>\n",
       "      <th>149</th>\n",
       "      <td>QuestionsInteresting</td>\n",
       "      <td>The questions were interesting</td>\n",
       "    </tr>\n",
       "    <tr>\n",
       "      <th>150</th>\n",
       "      <td>QuestionsConfusing</td>\n",
       "      <td>The questions were confusing</td>\n",
       "    </tr>\n",
       "    <tr>\n",
       "      <th>151</th>\n",
       "      <td>InterestedAnswers</td>\n",
       "      <td>I'm interested in learning how other developer...</td>\n",
       "    </tr>\n",
       "    <tr>\n",
       "      <th>152</th>\n",
       "      <td>Salary</td>\n",
       "      <td>What is your current annual base salary, befor...</td>\n",
       "    </tr>\n",
       "    <tr>\n",
       "      <th>153</th>\n",
       "      <td>ExpectedSalary</td>\n",
       "      <td>You said before that you are currently learnin...</td>\n",
       "    </tr>\n",
       "  </tbody>\n",
       "</table>\n",
       "<p>154 rows × 2 columns</p>\n",
       "</div>"
      ],
      "text/plain": [
       "                   Column                                           Question\n",
       "0              Respondent                               Respondent ID number\n",
       "1            Professional         Which of the following best describes you?\n",
       "2            ProgramHobby  Do you program as a hobby or contribute to ope...\n",
       "3                 Country            In which country do you currently live?\n",
       "4              University  Are you currently enrolled in a formal, degree...\n",
       "..                    ...                                                ...\n",
       "149  QuestionsInteresting                     The questions were interesting\n",
       "150    QuestionsConfusing                       The questions were confusing\n",
       "151     InterestedAnswers  I'm interested in learning how other developer...\n",
       "152                Salary  What is your current annual base salary, befor...\n",
       "153        ExpectedSalary  You said before that you are currently learnin...\n",
       "\n",
       "[154 rows x 2 columns]"
      ]
     },
     "execution_count": 3,
     "metadata": {},
     "output_type": "execute_result"
    }
   ],
   "source": [
    "# import `schema` data\n",
    "schema = pd.read_csv('./survey_results_schema.csv')\n",
    "schema"
   ]
  },
  {
   "cell_type": "markdown",
   "id": "90f7dced",
   "metadata": {},
   "source": [
    "**1.** Create a function to check full meaning for each feature.\n",
    "\n",
    "This function has been wrapped into `helper.py`\n"
   ]
  },
  {
   "cell_type": "code",
   "execution_count": 92,
   "id": "efe07e31",
   "metadata": {},
   "outputs": [
    {
     "data": {
      "text/plain": [
       "<module 'helper' from '/Users/alejandrosanz/Downloads/projects_on_GitHub/cases/SurveyDataAnalysis/helper.py'>"
      ]
     },
     "execution_count": 92,
     "metadata": {},
     "output_type": "execute_result"
    }
   ],
   "source": [
    "import importlib\n",
    "importlib.reload(h)"
   ]
  },
  {
   "cell_type": "code",
   "execution_count": 19,
   "id": "6fcebfe9",
   "metadata": {},
   "outputs": [
    {
     "data": {
      "text/plain": [
       "\"Let's pretend you have a distant cousin. They are 24 years old, have a college degree in a field not related to computer programming, and have been working a non-coding job for the last two years. They want your advice on how to switch to a career as a software developer. Which of the following options would you most strongly recommend to your cousin?\\nLet's pretend you have a distant cousin named Robert. He is 24 years old, has a college degree in a field not related to computer programming, and has been working a non-coding job for the last two years. He wants your advice on how to switch to a career as a software developer. Which of the following options would you most strongly recommend to Robert?\\nLet's pretend you have a distant cousin named Alice. She is 24 years old, has a college degree in a field not related to computer programming, and has been working a non-coding job for the last two years. She wants your advice on how to switch to a career as a software developer. Which of the following options would you most strongly recommend to Alice?\""
      ]
     },
     "execution_count": 19,
     "metadata": {},
     "output_type": "execute_result"
    }
   ],
   "source": [
    "h.get_description(schema, 'CousinEducation')"
   ]
  },
  {
   "cell_type": "markdown",
   "id": "477940ff",
   "metadata": {},
   "source": [
    "**2.** Provide a pandas series of the different `CousinEducation` status values in the dataset."
   ]
  },
  {
   "cell_type": "code",
   "execution_count": 22,
   "id": "8c7e74b2",
   "metadata": {},
   "outputs": [
    {
     "data": {
      "text/plain": [
       "9621     Get a job as a QA tester; Contribute to open s...\n",
       "12911    Take online courses; Bootcamp; Part-time/eveni...\n",
       "14190                                                  NaN\n",
       "17057    Take online courses; Buy books and work throug...\n",
       "17356    Take online courses; Part-time/evening courses...\n",
       "15556    Take online courses; Bootcamp; Buy books and w...\n",
       "13696                                                  NaN\n",
       "2769                                                   NaN\n",
       "2233                                                   NaN\n",
       "4634                                                   NaN\n",
       "Name: CousinEducation, dtype: object"
      ]
     },
     "execution_count": 22,
     "metadata": {},
     "output_type": "execute_result"
    }
   ],
   "source": [
    "df.CousinEducation.sample(10)"
   ]
  },
  {
   "cell_type": "code",
   "execution_count": 23,
   "id": "7b7201f2",
   "metadata": {},
   "outputs": [
    {
     "data": {
      "text/plain": [
       "12196"
      ]
     },
     "execution_count": 23,
     "metadata": {},
     "output_type": "execute_result"
    }
   ],
   "source": [
    "df.CousinEducation.isna().sum()"
   ]
  },
  {
   "cell_type": "markdown",
   "id": "69fd5795",
   "metadata": {},
   "source": [
    "**Characteristics of data in `CousinEducation` feature:**\n",
    "\n",
    "- Multiple items separated by semi-colon\n",
    "- Lots of null values\n",
    "\n",
    "So I'm considering to extract each education status from each record and count. If not, we will get the following result which is helpless for our analysis."
   ]
  },
  {
   "cell_type": "code",
   "execution_count": 25,
   "id": "c2a2f149",
   "metadata": {},
   "outputs": [
    {
     "data": {
      "image/png": "[encoded data removed]",
      "text/plain": [
       "<Figure size 432x288 with 1 Axes>"
      ]
     },
     "metadata": {
      "needs_background": "light"
     },
     "output_type": "display_data"
    }
   ],
   "source": [
    "cous_ed_vals = df.CousinEducation.value_counts()/df.shape[0]\n",
    "plt.barh(y=cous_ed_vals.index, width=cous_ed_vals.values);"
   ]
  },
  {
   "cell_type": "code",
   "execution_count": 26,
   "id": "fa970313",
   "metadata": {},
   "outputs": [
    {
     "data": {
      "text/html": [
       "<div>\n",
       "<style scoped>\n",
       "    .dataframe tbody tr th:only-of-type {\n",
       "        vertical-align: middle;\n",
       "    }\n",
       "\n",
       "    .dataframe tbody tr th {\n",
       "        vertical-align: top;\n",
       "    }\n",
       "\n",
       "    .dataframe thead th {\n",
       "        text-align: right;\n",
       "    }\n",
       "</style>\n",
       "<table border=\"1\" class=\"dataframe\">\n",
       "  <thead>\n",
       "    <tr style=\"text-align: right;\">\n",
       "      <th></th>\n",
       "      <th>0</th>\n",
       "      <th>1</th>\n",
       "      <th>2</th>\n",
       "      <th>3</th>\n",
       "    </tr>\n",
       "  </thead>\n",
       "  <tbody>\n",
       "    <tr>\n",
       "      <th>7</th>\n",
       "      <td>Get a job as a QA tester</td>\n",
       "      <td>None</td>\n",
       "      <td>None</td>\n",
       "      <td>None</td>\n",
       "    </tr>\n",
       "    <tr>\n",
       "      <th>18</th>\n",
       "      <td>Get a job as a QA tester</td>\n",
       "      <td>Conferences/meet-ups</td>\n",
       "      <td>None</td>\n",
       "      <td>None</td>\n",
       "    </tr>\n",
       "    <tr>\n",
       "      <th>23</th>\n",
       "      <td>Take online courses</td>\n",
       "      <td>Contribute to open source</td>\n",
       "      <td>Buy books and work through the exercises</td>\n",
       "      <td>Conferences/meet-ups</td>\n",
       "    </tr>\n",
       "    <tr>\n",
       "      <th>32</th>\n",
       "      <td>Contribute to open source</td>\n",
       "      <td>Buy books and work through the exercises</td>\n",
       "      <td>Other</td>\n",
       "      <td>None</td>\n",
       "    </tr>\n",
       "    <tr>\n",
       "      <th>33</th>\n",
       "      <td>Take online courses</td>\n",
       "      <td>Contribute to open source</td>\n",
       "      <td>Part-time/evening courses</td>\n",
       "      <td>None</td>\n",
       "    </tr>\n",
       "    <tr>\n",
       "      <th>...</th>\n",
       "      <td>...</td>\n",
       "      <td>...</td>\n",
       "      <td>...</td>\n",
       "      <td>...</td>\n",
       "    </tr>\n",
       "    <tr>\n",
       "      <th>19094</th>\n",
       "      <td>Return to college</td>\n",
       "      <td>Take online courses</td>\n",
       "      <td>Contribute to open source</td>\n",
       "      <td>Part-time/evening courses</td>\n",
       "    </tr>\n",
       "    <tr>\n",
       "      <th>19096</th>\n",
       "      <td>Master's degree</td>\n",
       "      <td>Take online courses</td>\n",
       "      <td>Contribute to open source</td>\n",
       "      <td>Conferences/meet-ups</td>\n",
       "    </tr>\n",
       "    <tr>\n",
       "      <th>19097</th>\n",
       "      <td>Contribute to open source</td>\n",
       "      <td>Bootcamp</td>\n",
       "      <td>Part-time/evening courses</td>\n",
       "      <td>Conferences/meet-ups</td>\n",
       "    </tr>\n",
       "    <tr>\n",
       "      <th>19098</th>\n",
       "      <td>Take online courses</td>\n",
       "      <td>Part-time/evening courses</td>\n",
       "      <td>Participate in online coding competitions</td>\n",
       "      <td>Buy books and work through the exercises</td>\n",
       "    </tr>\n",
       "    <tr>\n",
       "      <th>19100</th>\n",
       "      <td>Return to college</td>\n",
       "      <td>None</td>\n",
       "      <td>None</td>\n",
       "      <td>None</td>\n",
       "    </tr>\n",
       "  </tbody>\n",
       "</table>\n",
       "<p>6906 rows × 4 columns</p>\n",
       "</div>"
      ],
      "text/plain": [
       "                               0                                         1  \\\n",
       "7       Get a job as a QA tester                                      None   \n",
       "18      Get a job as a QA tester                      Conferences/meet-ups   \n",
       "23           Take online courses                 Contribute to open source   \n",
       "32     Contribute to open source  Buy books and work through the exercises   \n",
       "33           Take online courses                 Contribute to open source   \n",
       "...                          ...                                       ...   \n",
       "19094          Return to college                       Take online courses   \n",
       "19096            Master's degree                       Take online courses   \n",
       "19097  Contribute to open source                                  Bootcamp   \n",
       "19098        Take online courses                 Part-time/evening courses   \n",
       "19100          Return to college                                      None   \n",
       "\n",
       "                                               2  \\\n",
       "7                                           None   \n",
       "18                                          None   \n",
       "23      Buy books and work through the exercises   \n",
       "32                                         Other   \n",
       "33                     Part-time/evening courses   \n",
       "...                                          ...   \n",
       "19094                  Contribute to open source   \n",
       "19096                  Contribute to open source   \n",
       "19097                  Part-time/evening courses   \n",
       "19098  Participate in online coding competitions   \n",
       "19100                                       None   \n",
       "\n",
       "                                              3  \n",
       "7                                          None  \n",
       "18                                         None  \n",
       "23                         Conferences/meet-ups  \n",
       "32                                         None  \n",
       "33                                         None  \n",
       "...                                         ...  \n",
       "19094                 Part-time/evening courses  \n",
       "19096                      Conferences/meet-ups  \n",
       "19097                      Conferences/meet-ups  \n",
       "19098  Buy books and work through the exercises  \n",
       "19100                                      None  \n",
       "\n",
       "[6906 rows x 4 columns]"
      ]
     },
     "execution_count": 26,
     "metadata": {},
     "output_type": "execute_result"
    }
   ],
   "source": [
    "couEduSplit = df[df.CousinEducation.notna()].CousinEducation.str.split('; ', n=-1, expand=True)\n",
    "couEduSplit"
   ]
  },
  {
   "cell_type": "code",
   "execution_count": 27,
   "id": "f878b4f8",
   "metadata": {},
   "outputs": [
    {
     "data": {
      "text/html": [
       "<div>\n",
       "<style scoped>\n",
       "    .dataframe tbody tr th:only-of-type {\n",
       "        vertical-align: middle;\n",
       "    }\n",
       "\n",
       "    .dataframe tbody tr th {\n",
       "        vertical-align: top;\n",
       "    }\n",
       "\n",
       "    .dataframe thead th {\n",
       "        text-align: right;\n",
       "    }\n",
       "</style>\n",
       "<table border=\"1\" class=\"dataframe\">\n",
       "  <thead>\n",
       "    <tr style=\"text-align: right;\">\n",
       "      <th></th>\n",
       "      <th>0</th>\n",
       "      <th>1</th>\n",
       "      <th>2</th>\n",
       "      <th>3</th>\n",
       "    </tr>\n",
       "  </thead>\n",
       "  <tbody>\n",
       "    <tr>\n",
       "      <th>Bootcamp</th>\n",
       "      <td>154</td>\n",
       "      <td>819.0</td>\n",
       "      <td>540.0</td>\n",
       "      <td>56.0</td>\n",
       "    </tr>\n",
       "    <tr>\n",
       "      <th>Buy books and work through the exercises</th>\n",
       "      <td>138</td>\n",
       "      <td>640.0</td>\n",
       "      <td>1339.0</td>\n",
       "      <td>1305.0</td>\n",
       "    </tr>\n",
       "    <tr>\n",
       "      <th>Conferences/meet-ups</th>\n",
       "      <td>20</td>\n",
       "      <td>106.0</td>\n",
       "      <td>399.0</td>\n",
       "      <td>1013.0</td>\n",
       "    </tr>\n",
       "    <tr>\n",
       "      <th>Contribute to open source</th>\n",
       "      <td>552</td>\n",
       "      <td>1369.0</td>\n",
       "      <td>372.0</td>\n",
       "      <td>25.0</td>\n",
       "    </tr>\n",
       "    <tr>\n",
       "      <th>Get a job as a QA tester</th>\n",
       "      <td>776</td>\n",
       "      <td>238.0</td>\n",
       "      <td>22.0</td>\n",
       "      <td>NaN</td>\n",
       "    </tr>\n",
       "    <tr>\n",
       "      <th>Master's degree</th>\n",
       "      <td>504</td>\n",
       "      <td>268.0</td>\n",
       "      <td>NaN</td>\n",
       "      <td>NaN</td>\n",
       "    </tr>\n",
       "    <tr>\n",
       "      <th>None of these</th>\n",
       "      <td>181</td>\n",
       "      <td>NaN</td>\n",
       "      <td>NaN</td>\n",
       "      <td>NaN</td>\n",
       "    </tr>\n",
       "    <tr>\n",
       "      <th>Other</th>\n",
       "      <td>91</td>\n",
       "      <td>136.0</td>\n",
       "      <td>143.0</td>\n",
       "      <td>210.0</td>\n",
       "    </tr>\n",
       "    <tr>\n",
       "      <th>Part-time/evening courses</th>\n",
       "      <td>114</td>\n",
       "      <td>739.0</td>\n",
       "      <td>1067.0</td>\n",
       "      <td>261.0</td>\n",
       "    </tr>\n",
       "    <tr>\n",
       "      <th>Participate in hackathons</th>\n",
       "      <td>40</td>\n",
       "      <td>221.0</td>\n",
       "      <td>391.0</td>\n",
       "      <td>91.0</td>\n",
       "    </tr>\n",
       "    <tr>\n",
       "      <th>Participate in online coding competitions</th>\n",
       "      <td>28</td>\n",
       "      <td>210.0</td>\n",
       "      <td>511.0</td>\n",
       "      <td>250.0</td>\n",
       "    </tr>\n",
       "    <tr>\n",
       "      <th>Return to college</th>\n",
       "      <td>1469</td>\n",
       "      <td>NaN</td>\n",
       "      <td>NaN</td>\n",
       "      <td>NaN</td>\n",
       "    </tr>\n",
       "    <tr>\n",
       "      <th>Take online courses</th>\n",
       "      <td>2839</td>\n",
       "      <td>1368.0</td>\n",
       "      <td>230.0</td>\n",
       "      <td>3.0</td>\n",
       "    </tr>\n",
       "  </tbody>\n",
       "</table>\n",
       "</div>"
      ],
      "text/plain": [
       "                                              0       1       2       3\n",
       "Bootcamp                                    154   819.0   540.0    56.0\n",
       "Buy books and work through the exercises    138   640.0  1339.0  1305.0\n",
       "Conferences/meet-ups                         20   106.0   399.0  1013.0\n",
       "Contribute to open source                   552  1369.0   372.0    25.0\n",
       "Get a job as a QA tester                    776   238.0    22.0     NaN\n",
       "Master's degree                             504   268.0     NaN     NaN\n",
       "None of these                               181     NaN     NaN     NaN\n",
       "Other                                        91   136.0   143.0   210.0\n",
       "Part-time/evening courses                   114   739.0  1067.0   261.0\n",
       "Participate in hackathons                    40   221.0   391.0    91.0\n",
       "Participate in online coding competitions    28   210.0   511.0   250.0\n",
       "Return to college                          1469     NaN     NaN     NaN\n",
       "Take online courses                        2839  1368.0   230.0     3.0"
      ]
     },
     "execution_count": 27,
     "metadata": {},
     "output_type": "execute_result"
    }
   ],
   "source": [
    "c0 = couEduSplit[0].value_counts().sort_index()\n",
    "c1 = couEduSplit[1].value_counts().sort_index()\n",
    "c2 = couEduSplit[2].value_counts().sort_index()\n",
    "c3 = couEduSplit[3].value_counts().sort_index()\n",
    "\n",
    "pd.concat([c0, c1, c2, c3], axis=1)"
   ]
  },
  {
   "cell_type": "code",
   "execution_count": 28,
   "id": "b7f91c0c",
   "metadata": {},
   "outputs": [
    {
     "data": {
      "text/plain": [
       "Bootcamp                                     1569.0\n",
       "Buy books and work through the exercises     3422.0\n",
       "Conferences/meet-ups                         1538.0\n",
       "Contribute to open source                    2318.0\n",
       "Get a job as a QA tester                     1036.0\n",
       "Master's degree                               772.0\n",
       "None of these                                 181.0\n",
       "Other                                         580.0\n",
       "Part-time/evening courses                    2181.0\n",
       "Participate in hackathons                     743.0\n",
       "Participate in online coding competitions     999.0\n",
       "Return to college                            1469.0\n",
       "Take online courses                          4440.0\n",
       "dtype: float64"
      ]
     },
     "execution_count": 28,
     "metadata": {},
     "output_type": "execute_result"
    }
   ],
   "source": [
    "cc = pd.concat([c0, c1, c2, c3], axis=1).sum(axis=1)\n",
    "cc"
   ]
  },
  {
   "cell_type": "code",
   "execution_count": 42,
   "id": "706398d0",
   "metadata": {},
   "outputs": [
    {
     "data": {
      "text/plain": [
       "['Bootcamp',\n",
       " 'Buy books and work through the exercises',\n",
       " 'Conferences/meet-ups',\n",
       " 'Contribute to open source',\n",
       " 'Get a job as a QA tester',\n",
       " \"Master's degree\",\n",
       " 'None of these',\n",
       " 'Other',\n",
       " 'Part-time/evening courses',\n",
       " 'Participate in hackathons',\n",
       " 'Participate in online coding competitions',\n",
       " 'Return to college',\n",
       " 'Take online courses']"
      ]
     },
     "execution_count": 42,
     "metadata": {},
     "output_type": "execute_result"
    }
   ],
   "source": [
    "possible_methods = cc.index.to_list()\n",
    "possible_methods"
   ]
  },
  {
   "cell_type": "code",
   "execution_count": 31,
   "id": "1352fe08",
   "metadata": {},
   "outputs": [
    {
     "data": {
      "text/plain": [
       "None of these                                0.008518\n",
       "Other                                        0.027297\n",
       "Participate in hackathons                    0.034968\n",
       "Master's degree                              0.036333\n",
       "Participate in online coding competitions    0.047016\n",
       "Get a job as a QA tester                     0.048758\n",
       "Return to college                            0.069136\n",
       "Conferences/meet-ups                         0.072383\n",
       "Bootcamp                                     0.073842\n",
       "Part-time/evening courses                    0.102645\n",
       "Contribute to open source                    0.109093\n",
       "Buy books and work through the exercises     0.161050\n",
       "Take online courses                          0.208961\n",
       "dtype: float64"
      ]
     },
     "execution_count": 31,
     "metadata": {},
     "output_type": "execute_result"
    }
   ],
   "source": [
    "cc_relative = (cc/cc.sum()).sort_values()\n",
    "cc_relative"
   ]
  },
  {
   "cell_type": "code",
   "execution_count": 51,
   "id": "90ea121c",
   "metadata": {},
   "outputs": [
    {
     "data": {
      "image/png": "[encoded data removed]",
      "text/plain": [
       "<Figure size 576x432 with 1 Axes>"
      ]
     },
     "metadata": {
      "needs_background": "light"
     },
     "output_type": "display_data"
    }
   ],
   "source": [
    "plt.figure(figsize=(8, 6))\n",
    "plt.barh(cc_relative.index, cc_relative.values, height=.6)\n",
    "\n",
    "plt.title(\"Method of Educating Suggested\", fontsize=16)\n",
    "plt.ylabel(\"Methods\", fontweight='bold', fontsize=12)\n",
    "plt.xlabel('Relative Freq.', fontweight='bold', fontsize=12, labelpad=12);"
   ]
  },
  {
   "cell_type": "code",
   "execution_count": 63,
   "id": "211f7ee9",
   "metadata": {},
   "outputs": [
    {
     "name": "stdout",
     "output_type": "stream",
     "text": [
      "Take online courses                          0.208961\n",
      "Buy books and work through the exercises     0.161050\n",
      "Contribute to open source                    0.109093\n",
      "Part-time/evening courses                    0.102645\n",
      "Bootcamp                                     0.073842\n",
      "Conferences/meet-ups                         0.072383\n",
      "Return to college                            0.069136\n",
      "Get a job as a QA tester                     0.048758\n",
      "Participate in online coding competitions    0.047016\n",
      "Master's degree                              0.036333\n",
      "Participate in hackathons                    0.034968\n",
      "Other                                        0.027297\n",
      "None of these                                0.008518\n",
      "dtype: float64\n"
     ]
    },
    {
     "data": {
      "image/png": "[encoded data removed]",
      "text/plain": [
       "<Figure size 576x432 with 1 Axes>"
      ]
     },
     "metadata": {
      "needs_background": "light"
     },
     "output_type": "display_data"
    }
   ],
   "source": [
    "# Wrap the process above into a function in `helper.py`\n",
    "h.method_suggested_count(df)"
   ]
  },
  {
   "cell_type": "markdown",
   "id": "27e1fd64",
   "metadata": {},
   "source": [
    "**3.** Whether some of the individuals might have bias towards their own degrees?\n",
    "\n",
    "In the following, I encode all the records of `FormalEducation` column which are within `[Master's degree\", \"Doctoral\", \"Professional degree]` as `higher_ed` (higher-education-level)."
   ]
  },
  {
   "cell_type": "code",
   "execution_count": 79,
   "id": "4764a607",
   "metadata": {},
   "outputs": [
    {
     "name": "stdout",
     "output_type": "stream",
     "text": [
      "About 23.02% of respondents have higher education degrees.\n"
     ]
    }
   ],
   "source": [
    "# def higher_ed_mapping(df, edu_levels):\n",
    "#     df['higher_ed'] = df.FormalEducation.isin(edu_levels).astype('int')\n",
    "#     prop = df['higher_ed'].mean()\n",
    "#     return df, prop\n",
    "    \n",
    "# df, prop = higher_ed_mapping(df, [\"Master's degree\", \"Doctoral\", \"Professional degree\"])\n",
    "# print(\"About {:.2%} of respondents have higher education degrees.\".format(prop))"
   ]
  },
  {
   "cell_type": "code",
   "execution_count": 93,
   "id": "b9b8bc2c",
   "metadata": {},
   "outputs": [],
   "source": [
    "df, prop = h.higher_ed_mapping(df, [\"Master's degree\", \"Doctoral\", \"Professional degree\"])"
   ]
  },
  {
   "cell_type": "code",
   "execution_count": 94,
   "id": "ae77e212",
   "metadata": {},
   "outputs": [
    {
     "data": {
      "text/html": [
       "<div>\n",
       "<style scoped>\n",
       "    .dataframe tbody tr th:only-of-type {\n",
       "        vertical-align: middle;\n",
       "    }\n",
       "\n",
       "    .dataframe tbody tr th {\n",
       "        vertical-align: top;\n",
       "    }\n",
       "\n",
       "    .dataframe thead th {\n",
       "        text-align: right;\n",
       "    }\n",
       "</style>\n",
       "<table border=\"1\" class=\"dataframe\">\n",
       "  <thead>\n",
       "    <tr style=\"text-align: right;\">\n",
       "      <th></th>\n",
       "      <th>FormalEducation</th>\n",
       "      <th>higher_ed</th>\n",
       "    </tr>\n",
       "  </thead>\n",
       "  <tbody>\n",
       "    <tr>\n",
       "      <th>0</th>\n",
       "      <td>Secondary school</td>\n",
       "      <td>0</td>\n",
       "    </tr>\n",
       "    <tr>\n",
       "      <th>1</th>\n",
       "      <td>Some college/university study without earning ...</td>\n",
       "      <td>0</td>\n",
       "    </tr>\n",
       "    <tr>\n",
       "      <th>2</th>\n",
       "      <td>Bachelor's degree</td>\n",
       "      <td>0</td>\n",
       "    </tr>\n",
       "    <tr>\n",
       "      <th>3</th>\n",
       "      <td>Doctoral degree</td>\n",
       "      <td>0</td>\n",
       "    </tr>\n",
       "    <tr>\n",
       "      <th>4</th>\n",
       "      <td>Master's degree</td>\n",
       "      <td>1</td>\n",
       "    </tr>\n",
       "    <tr>\n",
       "      <th>...</th>\n",
       "      <td>...</td>\n",
       "      <td>...</td>\n",
       "    </tr>\n",
       "    <tr>\n",
       "      <th>19097</th>\n",
       "      <td>Bachelor's degree</td>\n",
       "      <td>0</td>\n",
       "    </tr>\n",
       "    <tr>\n",
       "      <th>19098</th>\n",
       "      <td>Secondary school</td>\n",
       "      <td>0</td>\n",
       "    </tr>\n",
       "    <tr>\n",
       "      <th>19099</th>\n",
       "      <td>Bachelor's degree</td>\n",
       "      <td>0</td>\n",
       "    </tr>\n",
       "    <tr>\n",
       "      <th>19100</th>\n",
       "      <td>Some college/university study without earning ...</td>\n",
       "      <td>0</td>\n",
       "    </tr>\n",
       "    <tr>\n",
       "      <th>19101</th>\n",
       "      <td>Master's degree</td>\n",
       "      <td>1</td>\n",
       "    </tr>\n",
       "  </tbody>\n",
       "</table>\n",
       "<p>19102 rows × 2 columns</p>\n",
       "</div>"
      ],
      "text/plain": [
       "                                         FormalEducation  higher_ed\n",
       "0                                       Secondary school          0\n",
       "1      Some college/university study without earning ...          0\n",
       "2                                      Bachelor's degree          0\n",
       "3                                        Doctoral degree          0\n",
       "4                                        Master's degree          1\n",
       "...                                                  ...        ...\n",
       "19097                                  Bachelor's degree          0\n",
       "19098                                   Secondary school          0\n",
       "19099                                  Bachelor's degree          0\n",
       "19100  Some college/university study without earning ...          0\n",
       "19101                                    Master's degree          1\n",
       "\n",
       "[19102 rows x 2 columns]"
      ]
     },
     "execution_count": 94,
     "metadata": {},
     "output_type": "execute_result"
    }
   ],
   "source": [
    "df[['FormalEducation', 'higher_ed']]"
   ]
  },
  {
   "cell_type": "code",
   "execution_count": null,
   "id": "1dc8cd9f",
   "metadata": {},
   "outputs": [],
   "source": [
    "# # Alternative method for \n",
    "# def higher_ed_mapping1(formal_ed_str):\n",
    "#     if formal_ed_str in [\"Master's degree\", \"Doctoral\", \"Professional degree\"]:\n",
    "#         return 1\n",
    "#     else:\n",
    "#         return 0\n",
    "    \n",
    "# # df['higher_ed1'] = df.FormalEducation.apply(higher_ed_mapping1)"
   ]
  },
  {
   "cell_type": "code",
   "execution_count": null,
   "id": "22f65996",
   "metadata": {},
   "outputs": [],
   "source": []
  },
  {
   "cell_type": "markdown",
   "id": "f8b28f26",
   "metadata": {},
   "source": [
    "## Explore `Job Satisfaction` Feature\n",
    "\n",
    "The ___following questions___ will be explored in this section.\n",
    "\n",
    "**1.** The proportion of missing values in the Job Satisfaction column.\n",
    "\n",
    "**2.** According to EmploymentStatus, which group has the highest average job satisfaction?\n",
    "\n",
    "**3.** In general, do smaller companies appear to have employees with higher job satisfaction?\n",
    "\n",
    "**4.** Do individuals who program outside of work appear to have higher JobSatisfaction?\n",
    "\n",
    "**5.** Does flexibility to work outside of the office appear to have an influence on JobSatisfaction?\n",
    "\n",
    "**6.** A friend says a Doctoral degree increases the chance of having job you like, does this seem true?"
   ]
  },
  {
   "cell_type": "code",
   "execution_count": null,
   "id": "aa67653b",
   "metadata": {},
   "outputs": [],
   "source": []
  },
  {
   "cell_type": "code",
   "execution_count": null,
   "id": "12f4a43e",
   "metadata": {},
   "outputs": [],
   "source": []
  },
  {
   "cell_type": "code",
   "execution_count": null,
   "id": "65fdf7df",
   "metadata": {},
   "outputs": [],
   "source": []
  },
  {
   "cell_type": "markdown",
   "id": "704383ee",
   "metadata": {},
   "source": [
    "## Predict `Salary`"
   ]
  },
  {
   "cell_type": "markdown",
   "id": "4be83f66",
   "metadata": {},
   "source": [
    "### Data Preprocessing\n",
    "\n",
    "**1.** Dealing with Missing Values.\n",
    "\n",
    "**2.** Imputation Techniques.\n",
    "\n",
    "**3.** Dealing with Categorical Features.\n"
   ]
  },
  {
   "cell_type": "code",
   "execution_count": null,
   "id": "b13abd77",
   "metadata": {},
   "outputs": [],
   "source": []
  },
  {
   "cell_type": "code",
   "execution_count": null,
   "id": "f4aa910a",
   "metadata": {},
   "outputs": [],
   "source": []
  },
  {
   "cell_type": "code",
   "execution_count": null,
   "id": "7537a15f",
   "metadata": {},
   "outputs": [],
   "source": []
  },
  {
   "cell_type": "markdown",
   "id": "951540bb",
   "metadata": {},
   "source": [
    "### Use Linear Regression Model to Predict `Salary`"
   ]
  }
 ],
 "metadata": {
  "interpreter": {
   "hash": "082e9a3bcad0a290d0001e938aa60b99250c6c2ef33a923c00b70f9826caf4b7"
  },
  "kernelspec": {
   "display_name": "Python 3",
   "language": "python",
   "name": "python3"
  },
  "language_info": {
   "codemirror_mode": {
    "name": "ipython",
    "version": 3
   },
   "file_extension": ".py",
   "mimetype": "text/x-python",
   "name": "python",
   "nbconvert_exporter": "python",
   "pygments_lexer": "ipython3",
   "version": "3.7.9"
  },
  "toc": {
   "base_numbering": 1,
   "nav_menu": {},
   "number_sections": false,
   "sideBar": true,
   "skip_h1_title": false,
   "title_cell": "Table of Contents",
   "title_sidebar": "Contents",
   "toc_cell": false,
   "toc_position": {},
   "toc_section_display": true,
   "toc_window_display": false
  }
 },
 "nbformat": 4,
 "nbformat_minor": 5
}
