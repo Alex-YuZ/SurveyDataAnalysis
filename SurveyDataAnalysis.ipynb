{
 "cells": [
  {
   "cell_type": "markdown",
   "id": "656f0e5a",
   "metadata": {},
   "source": [
    "# StackOverflow Survey Data Analysis"
   ]
  },
  {
   "cell_type": "markdown",
   "id": "7c3ba0a4",
   "metadata": {},
   "source": [
    "## A Look at the Data\n",
    "\n",
    "In order to get a better understanding of the data, some of the characteristics of the dataset will be explored as follows.\n",
    "\n",
    "1. Number of rows and columns in this dataset.\n",
    "2. Provide a set of column names that have no missing values.\n",
    "3. Which columns have the most missing values? Provide a set of column names that have more than 75% of their values missing.\n",
    "4. Provide a pandas series of the different **Professional** status values in the dataset along with the count of the number of individuals with each status.\n",
    "5. Provide a pandas series of the different FormalEducation status values in the dataset along with the count of how many individuals received that formal education.\n",
    "6. Provide a pandas series of the different Country values in the dataset along with the count of how many individuals are from each country. "
   ]
  },
  {
   "cell_type": "code",
   "execution_count": 1,
   "id": "dd11326c",
   "metadata": {},
   "outputs": [],
   "source": [
    "# Import necessary libraries\n",
    "import os\n",
    "import numpy as np\n",
    "import pandas as pd\n",
    "import matplotlib.pyplot as plt\n",
    "\n",
    "\n",
    "os.chdir(\"projects_on_GitHub/cases/SurveyDataAnalysis\")"
   ]
  },
  {
   "cell_type": "code",
   "execution_count": 2,
   "id": "75d3b4eb",
   "metadata": {},
   "outputs": [
    {
     "data": {
      "text/html": [
       "<div>\n",
       "<style scoped>\n",
       "    .dataframe tbody tr th:only-of-type {\n",
       "        vertical-align: middle;\n",
       "    }\n",
       "\n",
       "    .dataframe tbody tr th {\n",
       "        vertical-align: top;\n",
       "    }\n",
       "\n",
       "    .dataframe thead th {\n",
       "        text-align: right;\n",
       "    }\n",
       "</style>\n",
       "<table border=\"1\" class=\"dataframe\">\n",
       "  <thead>\n",
       "    <tr style=\"text-align: right;\">\n",
       "      <th></th>\n",
       "      <th>Respondent</th>\n",
       "      <th>Professional</th>\n",
       "      <th>ProgramHobby</th>\n",
       "      <th>Country</th>\n",
       "      <th>University</th>\n",
       "      <th>EmploymentStatus</th>\n",
       "      <th>FormalEducation</th>\n",
       "      <th>MajorUndergrad</th>\n",
       "      <th>HomeRemote</th>\n",
       "      <th>CompanySize</th>\n",
       "      <th>...</th>\n",
       "      <th>StackOverflowMakeMoney</th>\n",
       "      <th>Gender</th>\n",
       "      <th>HighestEducationParents</th>\n",
       "      <th>Race</th>\n",
       "      <th>SurveyLong</th>\n",
       "      <th>QuestionsInteresting</th>\n",
       "      <th>QuestionsConfusing</th>\n",
       "      <th>InterestedAnswers</th>\n",
       "      <th>Salary</th>\n",
       "      <th>ExpectedSalary</th>\n",
       "    </tr>\n",
       "  </thead>\n",
       "  <tbody>\n",
       "    <tr>\n",
       "      <th>0</th>\n",
       "      <td>1</td>\n",
       "      <td>Student</td>\n",
       "      <td>Yes, both</td>\n",
       "      <td>United States</td>\n",
       "      <td>No</td>\n",
       "      <td>Not employed, and not looking for work</td>\n",
       "      <td>Secondary school</td>\n",
       "      <td>NaN</td>\n",
       "      <td>NaN</td>\n",
       "      <td>NaN</td>\n",
       "      <td>...</td>\n",
       "      <td>Strongly disagree</td>\n",
       "      <td>Male</td>\n",
       "      <td>High school</td>\n",
       "      <td>White or of European descent</td>\n",
       "      <td>Strongly disagree</td>\n",
       "      <td>Strongly agree</td>\n",
       "      <td>Disagree</td>\n",
       "      <td>Strongly agree</td>\n",
       "      <td>NaN</td>\n",
       "      <td>NaN</td>\n",
       "    </tr>\n",
       "    <tr>\n",
       "      <th>1</th>\n",
       "      <td>2</td>\n",
       "      <td>Student</td>\n",
       "      <td>Yes, both</td>\n",
       "      <td>United Kingdom</td>\n",
       "      <td>Yes, full-time</td>\n",
       "      <td>Employed part-time</td>\n",
       "      <td>Some college/university study without earning ...</td>\n",
       "      <td>Computer science or software engineering</td>\n",
       "      <td>More than half, but not all, the time</td>\n",
       "      <td>20 to 99 employees</td>\n",
       "      <td>...</td>\n",
       "      <td>Strongly disagree</td>\n",
       "      <td>Male</td>\n",
       "      <td>A master's degree</td>\n",
       "      <td>White or of European descent</td>\n",
       "      <td>Somewhat agree</td>\n",
       "      <td>Somewhat agree</td>\n",
       "      <td>Disagree</td>\n",
       "      <td>Strongly agree</td>\n",
       "      <td>NaN</td>\n",
       "      <td>37500.0</td>\n",
       "    </tr>\n",
       "    <tr>\n",
       "      <th>2</th>\n",
       "      <td>3</td>\n",
       "      <td>Professional developer</td>\n",
       "      <td>Yes, both</td>\n",
       "      <td>United Kingdom</td>\n",
       "      <td>No</td>\n",
       "      <td>Employed full-time</td>\n",
       "      <td>Bachelor's degree</td>\n",
       "      <td>Computer science or software engineering</td>\n",
       "      <td>Less than half the time, but at least one day ...</td>\n",
       "      <td>10,000 or more employees</td>\n",
       "      <td>...</td>\n",
       "      <td>Disagree</td>\n",
       "      <td>Male</td>\n",
       "      <td>A professional degree</td>\n",
       "      <td>White or of European descent</td>\n",
       "      <td>Somewhat agree</td>\n",
       "      <td>Agree</td>\n",
       "      <td>Disagree</td>\n",
       "      <td>Agree</td>\n",
       "      <td>113750.0</td>\n",
       "      <td>NaN</td>\n",
       "    </tr>\n",
       "    <tr>\n",
       "      <th>3</th>\n",
       "      <td>4</td>\n",
       "      <td>Professional non-developer who sometimes write...</td>\n",
       "      <td>Yes, both</td>\n",
       "      <td>United States</td>\n",
       "      <td>No</td>\n",
       "      <td>Employed full-time</td>\n",
       "      <td>Doctoral degree</td>\n",
       "      <td>A non-computer-focused engineering discipline</td>\n",
       "      <td>Less than half the time, but at least one day ...</td>\n",
       "      <td>10,000 or more employees</td>\n",
       "      <td>...</td>\n",
       "      <td>Disagree</td>\n",
       "      <td>Male</td>\n",
       "      <td>A doctoral degree</td>\n",
       "      <td>White or of European descent</td>\n",
       "      <td>Agree</td>\n",
       "      <td>Agree</td>\n",
       "      <td>Somewhat agree</td>\n",
       "      <td>Strongly agree</td>\n",
       "      <td>NaN</td>\n",
       "      <td>NaN</td>\n",
       "    </tr>\n",
       "    <tr>\n",
       "      <th>4</th>\n",
       "      <td>5</td>\n",
       "      <td>Professional developer</td>\n",
       "      <td>Yes, I program as a hobby</td>\n",
       "      <td>Switzerland</td>\n",
       "      <td>No</td>\n",
       "      <td>Employed full-time</td>\n",
       "      <td>Master's degree</td>\n",
       "      <td>Computer science or software engineering</td>\n",
       "      <td>Never</td>\n",
       "      <td>10 to 19 employees</td>\n",
       "      <td>...</td>\n",
       "      <td>NaN</td>\n",
       "      <td>NaN</td>\n",
       "      <td>NaN</td>\n",
       "      <td>NaN</td>\n",
       "      <td>NaN</td>\n",
       "      <td>NaN</td>\n",
       "      <td>NaN</td>\n",
       "      <td>NaN</td>\n",
       "      <td>NaN</td>\n",
       "      <td>NaN</td>\n",
       "    </tr>\n",
       "  </tbody>\n",
       "</table>\n",
       "<p>5 rows × 154 columns</p>\n",
       "</div>"
      ],
      "text/plain": [
       "   Respondent                                       Professional  \\\n",
       "0           1                                            Student   \n",
       "1           2                                            Student   \n",
       "2           3                             Professional developer   \n",
       "3           4  Professional non-developer who sometimes write...   \n",
       "4           5                             Professional developer   \n",
       "\n",
       "                ProgramHobby         Country      University  \\\n",
       "0                  Yes, both   United States              No   \n",
       "1                  Yes, both  United Kingdom  Yes, full-time   \n",
       "2                  Yes, both  United Kingdom              No   \n",
       "3                  Yes, both   United States              No   \n",
       "4  Yes, I program as a hobby     Switzerland              No   \n",
       "\n",
       "                         EmploymentStatus  \\\n",
       "0  Not employed, and not looking for work   \n",
       "1                      Employed part-time   \n",
       "2                      Employed full-time   \n",
       "3                      Employed full-time   \n",
       "4                      Employed full-time   \n",
       "\n",
       "                                     FormalEducation  \\\n",
       "0                                   Secondary school   \n",
       "1  Some college/university study without earning ...   \n",
       "2                                  Bachelor's degree   \n",
       "3                                    Doctoral degree   \n",
       "4                                    Master's degree   \n",
       "\n",
       "                                  MajorUndergrad  \\\n",
       "0                                            NaN   \n",
       "1       Computer science or software engineering   \n",
       "2       Computer science or software engineering   \n",
       "3  A non-computer-focused engineering discipline   \n",
       "4       Computer science or software engineering   \n",
       "\n",
       "                                          HomeRemote  \\\n",
       "0                                                NaN   \n",
       "1              More than half, but not all, the time   \n",
       "2  Less than half the time, but at least one day ...   \n",
       "3  Less than half the time, but at least one day ...   \n",
       "4                                              Never   \n",
       "\n",
       "                CompanySize  ... StackOverflowMakeMoney Gender  \\\n",
       "0                       NaN  ...      Strongly disagree   Male   \n",
       "1        20 to 99 employees  ...      Strongly disagree   Male   \n",
       "2  10,000 or more employees  ...               Disagree   Male   \n",
       "3  10,000 or more employees  ...               Disagree   Male   \n",
       "4        10 to 19 employees  ...                    NaN    NaN   \n",
       "\n",
       "  HighestEducationParents                          Race         SurveyLong  \\\n",
       "0             High school  White or of European descent  Strongly disagree   \n",
       "1       A master's degree  White or of European descent     Somewhat agree   \n",
       "2   A professional degree  White or of European descent     Somewhat agree   \n",
       "3       A doctoral degree  White or of European descent              Agree   \n",
       "4                     NaN                           NaN                NaN   \n",
       "\n",
       "  QuestionsInteresting QuestionsConfusing InterestedAnswers    Salary  \\\n",
       "0       Strongly agree           Disagree    Strongly agree       NaN   \n",
       "1       Somewhat agree           Disagree    Strongly agree       NaN   \n",
       "2                Agree           Disagree             Agree  113750.0   \n",
       "3                Agree     Somewhat agree    Strongly agree       NaN   \n",
       "4                  NaN                NaN               NaN       NaN   \n",
       "\n",
       "   ExpectedSalary  \n",
       "0             NaN  \n",
       "1         37500.0  \n",
       "2             NaN  \n",
       "3             NaN  \n",
       "4             NaN  \n",
       "\n",
       "[5 rows x 154 columns]"
      ]
     },
     "execution_count": 2,
     "metadata": {},
     "output_type": "execute_result"
    }
   ],
   "source": [
    "df = pd.read_csv('./survey_results_public.csv')\n",
    "df.head()"
   ]
  },
  {
   "cell_type": "code",
   "execution_count": 5,
   "id": "f5ecb6b1",
   "metadata": {},
   "outputs": [
    {
     "name": "stdout",
     "output_type": "stream",
     "text": [
      "There are 19102 rows and 154 columns in the dataset.\n"
     ]
    }
   ],
   "source": [
    "# 1. Number of rows and columns in the dataset\n",
    "print(\"There are {} rows and {} columns in the dataset.\".format(df.shape[0], df.shape[1]))"
   ]
  },
  {
   "cell_type": "code",
   "execution_count": 9,
   "id": "9a60720b",
   "metadata": {},
   "outputs": [
    {
     "data": {
      "text/plain": [
       "{'Country',\n",
       " 'EmploymentStatus',\n",
       " 'FormalEducation',\n",
       " 'Professional',\n",
       " 'ProgramHobby',\n",
       " 'Respondent',\n",
       " 'University'}"
      ]
     },
     "execution_count": 9,
     "metadata": {},
     "output_type": "execute_result"
    }
   ],
   "source": [
    "# 2. Provide a set of column names that have no missing values.\n",
    "no_nulls = set(df.columns[df.isnull().sum()==0])\n",
    "no_nulls"
   ]
  },
  {
   "cell_type": "code",
   "execution_count": 12,
   "id": "d4b35a61",
   "metadata": {},
   "outputs": [
    {
     "data": {
      "text/plain": [
       "Index(['ExCoderNotForMe', 'ExCoderWillNotCode'], dtype='object')"
      ]
     },
     "execution_count": 12,
     "metadata": {},
     "output_type": "execute_result"
    }
   ],
   "source": [
    "# Find columns with the most null values\n",
    "na_max = df.isna().sum().max()\n",
    "df.columns[df.isna().sum()==na_max]"
   ]
  },
  {
   "cell_type": "code",
   "execution_count": 14,
   "id": "23b7c9f4",
   "metadata": {
    "collapsed": true
   },
   "outputs": [
    {
     "name": "stdout",
     "output_type": "stream",
     "text": [
      "<class 'pandas.core.frame.DataFrame'>\n",
      "RangeIndex: 19102 entries, 0 to 19101\n",
      "Data columns (total 154 columns):\n",
      " #    Column                            Non-Null Count  Dtype  \n",
      "---   ------                            --------------  -----  \n",
      " 0    Respondent                        19102 non-null  int64  \n",
      " 1    Professional                      19102 non-null  object \n",
      " 2    ProgramHobby                      19102 non-null  object \n",
      " 3    Country                           19102 non-null  object \n",
      " 4    University                        19102 non-null  object \n",
      " 5    EmploymentStatus                  19102 non-null  object \n",
      " 6    FormalEducation                   19102 non-null  object \n",
      " 7    MajorUndergrad                    15899 non-null  object \n",
      " 8    HomeRemote                        16471 non-null  object \n",
      " 9    CompanySize                       14653 non-null  object \n",
      " 10   CompanyType                       14609 non-null  object \n",
      " 11   YearsProgram                      19005 non-null  object \n",
      " 12   YearsCodedJob                     15391 non-null  object \n",
      " 13   YearsCodedJobPast                 349 non-null    object \n",
      " 14   DeveloperType                     13772 non-null  object \n",
      " 15   WebDeveloperType                  4286 non-null   object \n",
      " 16   MobileDeveloperType               556 non-null    object \n",
      " 17   NonDeveloperType                  1688 non-null   object \n",
      " 18   CareerSatisfaction                16102 non-null  float64\n",
      " 19   JobSatisfaction                   15253 non-null  float64\n",
      " 20   ExCoderReturn                     335 non-null    object \n",
      " 21   ExCoderNotForMe                   332 non-null    object \n",
      " 22   ExCoderBalance                    335 non-null    object \n",
      " 23   ExCoder10Years                    336 non-null    object \n",
      " 24   ExCoderBelonged                   335 non-null    object \n",
      " 25   ExCoderSkills                     336 non-null    object \n",
      " 26   ExCoderWillNotCode                332 non-null    object \n",
      " 27   ExCoderActive                     335 non-null    object \n",
      " 28   PronounceGIF                      18940 non-null  object \n",
      " 29   ProblemSolving                    12220 non-null  object \n",
      " 30   BuildingThings                    12201 non-null  object \n",
      " 31   LearningNewTech                   12216 non-null  object \n",
      " 32   BoringDetails                     12190 non-null  object \n",
      " 33   JobSecurity                       12198 non-null  object \n",
      " 34   DiversityImportant                12079 non-null  object \n",
      " 35   AnnoyingUI                        12140 non-null  object \n",
      " 36   FriendsDevelopers                 12143 non-null  object \n",
      " 37   RightWrongWay                     12112 non-null  object \n",
      " 38   UnderstandComputers               12135 non-null  object \n",
      " 39   SeriousWork                       12132 non-null  object \n",
      " 40   InvestTimeTools                   12059 non-null  object \n",
      " 41   WorkPayCare                       12087 non-null  object \n",
      " 42   KinshipDevelopers                 11980 non-null  object \n",
      " 43   ChallengeMyself                   12089 non-null  object \n",
      " 44   CompetePeers                      12034 non-null  object \n",
      " 45   ChangeWorld                       12077 non-null  object \n",
      " 46   JobSeekingStatus                  12852 non-null  object \n",
      " 47   HoursPerWeek                      7721 non-null   float64\n",
      " 48   LastNewJob                        12578 non-null  object \n",
      " 49   AssessJobIndustry                 8401 non-null   object \n",
      " 50   AssessJobRole                     8403 non-null   object \n",
      " 51   AssessJobExp                      8398 non-null   object \n",
      " 52   AssessJobDept                     8390 non-null   object \n",
      " 53   AssessJobTech                     8420 non-null   object \n",
      " 54   AssessJobProjects                 8412 non-null   object \n",
      " 55   AssessJobCompensation             8407 non-null   object \n",
      " 56   AssessJobOffice                   8336 non-null   object \n",
      " 57   AssessJobCommute                  8331 non-null   object \n",
      " 58   AssessJobRemote                   8351 non-null   object \n",
      " 59   AssessJobLeaders                  8330 non-null   object \n",
      " 60   AssessJobProfDevel                8341 non-null   object \n",
      " 61   AssessJobDiversity                8324 non-null   object \n",
      " 62   AssessJobProduct                  8334 non-null   object \n",
      " 63   AssessJobFinances                 8351 non-null   object \n",
      " 64   ImportantBenefits                 11570 non-null  object \n",
      " 65   ClickyKeys                        15358 non-null  object \n",
      " 66   JobProfile                        9190 non-null   object \n",
      " 67   ResumePrompted                    8704 non-null   object \n",
      " 68   LearnedHiring                     9183 non-null   object \n",
      " 69   ImportantHiringAlgorithms         10890 non-null  object \n",
      " 70   ImportantHiringTechExp            10894 non-null  object \n",
      " 71   ImportantHiringCommunication      10879 non-null  object \n",
      " 72   ImportantHiringOpenSource         10864 non-null  object \n",
      " 73   ImportantHiringPMExp              10869 non-null  object \n",
      " 74   ImportantHiringCompanies          10851 non-null  object \n",
      " 75   ImportantHiringTitles             10859 non-null  object \n",
      " 76   ImportantHiringEducation          10883 non-null  object \n",
      " 77   ImportantHiringRep                10878 non-null  object \n",
      " 78   ImportantHiringGettingThingsDone  10849 non-null  object \n",
      " 79   Currency                          8032 non-null   object \n",
      " 80   Overpaid                          5184 non-null   object \n",
      " 81   TabsSpaces                        14305 non-null  object \n",
      " 82   EducationImportant                9065 non-null   object \n",
      " 83   EducationTypes                    11465 non-null  object \n",
      " 84   SelfTaughtTypes                   10173 non-null  object \n",
      " 85   TimeAfterBootcamp                 882 non-null    object \n",
      " 86   CousinEducation                   6906 non-null   object \n",
      " 87   WorkStart                         13523 non-null  object \n",
      " 88   HaveWorkedLanguage                13526 non-null  object \n",
      " 89   WantWorkLanguage                  12523 non-null  object \n",
      " 90   HaveWorkedFramework               7294 non-null   object \n",
      " 91   WantWorkFramework                 8499 non-null   object \n",
      " 92   HaveWorkedDatabase                10792 non-null  object \n",
      " 93   WantWorkDatabase                  9159 non-null   object \n",
      " 94   HaveWorkedPlatform                10580 non-null  object \n",
      " 95   WantWorkPlatform                  10158 non-null  object \n",
      " 96   IDE                               13197 non-null  object \n",
      " 97   AuditoryEnvironment               13451 non-null  object \n",
      " 98   Methodology                       9587 non-null   object \n",
      " 99   VersionControl                    11571 non-null  object \n",
      " 100  CheckInCode                       11204 non-null  object \n",
      " 101  ShipIt                            11209 non-null  object \n",
      " 102  OtherPeoplesCode                  11202 non-null  object \n",
      " 103  ProjectManagement                 11122 non-null  object \n",
      " 104  EnjoyDebugging                    11258 non-null  object \n",
      " 105  InTheZone                         11101 non-null  object \n",
      " 106  DifficultCommunication            11210 non-null  object \n",
      " 107  CollaborateRemote                 11130 non-null  object \n",
      " 108  MetricAssess                      9625 non-null   object \n",
      " 109  EquipmentSatisfiedMonitors        11130 non-null  object \n",
      " 110  EquipmentSatisfiedCPU             11127 non-null  object \n",
      " 111  EquipmentSatisfiedRAM             11133 non-null  object \n",
      " 112  EquipmentSatisfiedStorage         11100 non-null  object \n",
      " 113  EquipmentSatisfiedRW              11110 non-null  object \n",
      " 114  InfluenceInternet                 11106 non-null  object \n",
      " 115  InfluenceWorkstation              8262 non-null   object \n",
      " 116  InfluenceHardware                 8262 non-null   object \n",
      " 117  InfluenceServers                  8239 non-null   object \n",
      " 118  InfluenceTechStack                8253 non-null   object \n",
      " 119  InfluenceDeptTech                 8243 non-null   object \n",
      " 120  InfluenceVizTools                 8244 non-null   object \n",
      " 121  InfluenceDatabase                 8255 non-null   object \n",
      " 122  InfluenceCloud                    8243 non-null   object \n",
      " 123  InfluenceConsultants              8229 non-null   object \n",
      " 124  InfluenceRecruitment              8244 non-null   object \n",
      " 125  InfluenceCommunication            8250 non-null   object \n",
      " 126  StackOverflowDescribes            13556 non-null  object \n",
      " 127  StackOverflowSatisfaction         13452 non-null  float64\n",
      " 128  StackOverflowDevices              12946 non-null  object \n",
      " 129  StackOverflowFoundAnswer          12691 non-null  object \n",
      " 130  StackOverflowCopiedCode           12577 non-null  object \n",
      " 131  StackOverflowJobListing           12425 non-null  object \n",
      " 132  StackOverflowCompanyPage          12411 non-null  object \n",
      " 133  StackOverflowJobSearch            12407 non-null  object \n",
      " 134  StackOverflowNewQuestion          12472 non-null  object \n",
      " 135  StackOverflowAnswer               12445 non-null  object \n",
      " 136  StackOverflowMetaChat             12414 non-null  object \n",
      " 137  StackOverflowAdsRelevant          11527 non-null  object \n",
      " 138  StackOverflowAdsDistracting       11841 non-null  object \n",
      " 139  StackOverflowModeration           11336 non-null  object \n",
      " 140  StackOverflowCommunity            12064 non-null  object \n",
      " 141  StackOverflowHelpful              12542 non-null  object \n",
      " 142  StackOverflowBetter               12462 non-null  object \n",
      " 143  StackOverflowWhatDo               12385 non-null  object \n",
      " 144  StackOverflowMakeMoney            11668 non-null  object \n",
      " 145  Gender                            12910 non-null  object \n",
      " 146  HighestEducationParents           12853 non-null  object \n",
      " 147  Race                              12218 non-null  object \n",
      " 148  SurveyLong                        12803 non-null  object \n",
      " 149  QuestionsInteresting              12736 non-null  object \n",
      " 150  QuestionsConfusing                12706 non-null  object \n",
      " 151  InterestedAnswers                 12760 non-null  object \n",
      " 152  Salary                            5009 non-null   float64\n",
      " 153  ExpectedSalary                    818 non-null    float64\n",
      "dtypes: float64(6), int64(1), object(147)\n",
      "memory usage: 22.4+ MB\n"
     ]
    }
   ],
   "source": [
    "# For check purpose\n",
    "df.info(verbose=True, show_counts=True)"
   ]
  },
  {
   "cell_type": "code",
   "execution_count": 16,
   "id": "f225732c",
   "metadata": {},
   "outputs": [
    {
     "data": {
      "text/plain": [
       "{'ExCoder10Years',\n",
       " 'ExCoderActive',\n",
       " 'ExCoderBalance',\n",
       " 'ExCoderBelonged',\n",
       " 'ExCoderNotForMe',\n",
       " 'ExCoderReturn',\n",
       " 'ExCoderSkills',\n",
       " 'ExCoderWillNotCode',\n",
       " 'ExpectedSalary',\n",
       " 'MobileDeveloperType',\n",
       " 'NonDeveloperType',\n",
       " 'TimeAfterBootcamp',\n",
       " 'WebDeveloperType',\n",
       " 'YearsCodedJobPast'}"
      ]
     },
     "execution_count": 16,
     "metadata": {},
     "output_type": "execute_result"
    }
   ],
   "source": [
    "# 3. Provide a set of column names that have more than 75% of their values missing.\n",
    "nulls_75plus = set(df.columns[df.isna().mean() >= .75])\n",
    "nulls_75plus"
   ]
  },
  {
   "cell_type": "code",
   "execution_count": 28,
   "id": "47d747f9",
   "metadata": {},
   "outputs": [
    {
     "data": {
      "text/plain": [
       "0"
      ]
     },
     "execution_count": 28,
     "metadata": {},
     "output_type": "execute_result"
    }
   ],
   "source": [
    "# 4. Professional status value counts\n",
    "## Check null values in `Professional` feature\n",
    "df.Professional.isna().sum()"
   ]
  },
  {
   "cell_type": "code",
   "execution_count": 25,
   "id": "856c7a80",
   "metadata": {},
   "outputs": [
    {
     "data": {
      "text/plain": [
       "Used to be a professional developer                     0.018689\n",
       "None of these                                           0.019265\n",
       "Professional non-developer who sometimes writes code    0.093289\n",
       "Student                                                 0.147681\n",
       "Professional developer                                  0.721076\n",
       "Name: Professional, dtype: float64"
      ]
     },
     "execution_count": 25,
     "metadata": {},
     "output_type": "execute_result"
    }
   ],
   "source": [
    "status_vals = df.Professional.value_counts(dropna=False, normalize=True, ascending=True)\n",
    "status_vals"
   ]
  },
  {
   "cell_type": "code",
   "execution_count": 26,
   "id": "b1bd9797",
   "metadata": {},
   "outputs": [
    {
     "data": {
      "image/png": "[encoded data removed]",
      "text/plain": [
       "<Figure size 432x288 with 1 Axes>"
      ]
     },
     "metadata": {
      "needs_background": "light"
     },
     "output_type": "display_data"
    }
   ],
   "source": [
    "# Visualization for Q4\n",
    "plt.barh(y=status_vals.index.values, width=status_vals.values);"
   ]
  },
  {
   "cell_type": "code",
   "execution_count": 29,
   "id": "9a67c753",
   "metadata": {},
   "outputs": [
    {
     "data": {
      "text/plain": [
       "0"
      ]
     },
     "execution_count": 29,
     "metadata": {},
     "output_type": "execute_result"
    }
   ],
   "source": [
    "# 5. `FormalEducation` value counts\n",
    "## Check null values in `FormalEducation` feature\n",
    "df.FormalEducation.isna().sum()"
   ]
  },
  {
   "cell_type": "code",
   "execution_count": 49,
   "id": "4d24f053",
   "metadata": {},
   "outputs": [],
   "source": [
    "def viz_freq(feature_name, top_k=None, norm=None, asc=False):\n",
    "    if top_k is None:\n",
    "        val_counts = df[feature_name].value_counts(normalize=norm, ascending=asc)\n",
    "        print(val_counts)\n",
    "        plt.barh(y=val_counts.index.values, width=val_counts.values);\n",
    "        \n",
    "    else:\n",
    "        val_counts = df[feature_name].value_counts(normalize=norm, ascending=asc)\n",
    "        top_k_vals = val_counts[-top_k:]\n",
    "        print(top_k_vals)\n",
    "        plt.barh(y=top_k_vals.index.values, width=top_k_vals.values);"
   ]
  },
  {
   "cell_type": "code",
   "execution_count": 50,
   "id": "f6e6a59b",
   "metadata": {},
   "outputs": [
    {
     "name": "stdout",
     "output_type": "stream",
     "text": [
      "I never completed any formal education                               0.007591\n",
      "Professional degree                                                  0.013349\n",
      "Primary/elementary school                                            0.021150\n",
      "I prefer not to answer                                               0.021411\n",
      "Doctoral degree                                                      0.028845\n",
      "Secondary school                                                     0.116585\n",
      "Some college/university study without earning a bachelor's degree    0.150194\n",
      "Master's degree                                                      0.216888\n",
      "Bachelor's degree                                                    0.423987\n",
      "Name: FormalEducation, dtype: float64\n"
     ]
    },
    {
     "data": {
      "image/png": "[encoded data removed]",
      "text/plain": [
       "<Figure size 432x288 with 1 Axes>"
      ]
     },
     "metadata": {
      "needs_background": "light"
     },
     "output_type": "display_data"
    }
   ],
   "source": [
    "viz_freq(\"FormalEducation\", norm=True, asc=True)"
   ]
  },
  {
   "cell_type": "code",
   "execution_count": 52,
   "id": "c322138f",
   "metadata": {},
   "outputs": [
    {
     "data": {
      "text/plain": [
       "0"
      ]
     },
     "execution_count": 52,
     "metadata": {},
     "output_type": "execute_result"
    }
   ],
   "source": [
    "# 6. `Country` value counts\n",
    "## Check null values in `FormalEducation` feature\n",
    "df.Country.isna().sum()"
   ]
  },
  {
   "cell_type": "code",
   "execution_count": 53,
   "id": "2ff43a65",
   "metadata": {},
   "outputs": [
    {
     "name": "stdout",
     "output_type": "stream",
     "text": [
      "Ivory Coast (Cote D'Ivoire)    0.000052\n",
      "Qatar                          0.000052\n",
      "Libya                          0.000052\n",
      "Sudan                          0.000052\n",
      "Vatican City State             0.000052\n",
      "                                 ...   \n",
      "Canada                         0.045754\n",
      "Germany                        0.069993\n",
      "United Kingdom                 0.074547\n",
      "India                          0.081510\n",
      "United States                  0.228458\n",
      "Name: Country, Length: 165, dtype: float64\n"
     ]
    },
    {
     "data": {
      "image/png": "[encoded data removed]",
      "text/plain": [
       "<Figure size 432x288 with 1 Axes>"
      ]
     },
     "metadata": {
      "needs_background": "light"
     },
     "output_type": "display_data"
    }
   ],
   "source": [
    "viz_freq(\"Country\", norm=True, asc=True)"
   ]
  },
  {
   "cell_type": "code",
   "execution_count": 82,
   "id": "3df9924a",
   "metadata": {},
   "outputs": [
    {
     "name": "stdout",
     "output_type": "stream",
     "text": [
      "Israel            0.017694\n",
      "Netherlands       0.019527\n",
      "Australia         0.020888\n",
      "France            0.027327\n",
      "Poland            0.036331\n",
      "Canada            0.045754\n",
      "Germany           0.069993\n",
      "United Kingdom    0.074547\n",
      "India             0.081510\n",
      "United States     0.228458\n",
      "Name: Country, dtype: float64\n"
     ]
    },
    {
     "data": {
      "image/png": "[encoded data removed]",
      "text/plain": [
       "<Figure size 432x288 with 1 Axes>"
      ]
     },
     "metadata": {
      "needs_background": "light"
     },
     "output_type": "display_data"
    }
   ],
   "source": [
    "viz_freq(\"Country\", top_k=10, norm=True, asc=True)"
   ]
  },
  {
   "cell_type": "markdown",
   "id": "a69b0139",
   "metadata": {},
   "source": [
    "___I make the function above in a python script under root folder.___"
   ]
  },
  {
   "cell_type": "code",
   "execution_count": 3,
   "id": "717d5166",
   "metadata": {},
   "outputs": [],
   "source": [
    "import data_overview as d"
   ]
  },
  {
   "cell_type": "code",
   "execution_count": 8,
   "id": "a31f48f5",
   "metadata": {},
   "outputs": [
    {
     "name": "stdout",
     "output_type": "stream",
     "text": [
      "Used to be a professional developer                     0.018689\n",
      "None of these                                           0.019265\n",
      "Professional non-developer who sometimes writes code    0.093289\n",
      "Student                                                 0.147681\n",
      "Professional developer                                  0.721076\n",
      "Name: Professional, dtype: float64\n"
     ]
    },
    {
     "data": {
      "image/png": "[encoded data removed]",
      "text/plain": [
       "<Figure size 432x288 with 1 Axes>"
      ]
     },
     "metadata": {
      "needs_background": "light"
     },
     "output_type": "display_data"
    }
   ],
   "source": [
    "d.viz_freq(df, \"Professional\", norm=True, asc=True)"
   ]
  },
  {
   "cell_type": "code",
   "execution_count": 9,
   "id": "515459cc",
   "metadata": {},
   "outputs": [
    {
     "name": "stdout",
     "output_type": "stream",
     "text": [
      "I never completed any formal education                               0.007591\n",
      "Professional degree                                                  0.013349\n",
      "Primary/elementary school                                            0.021150\n",
      "I prefer not to answer                                               0.021411\n",
      "Doctoral degree                                                      0.028845\n",
      "Secondary school                                                     0.116585\n",
      "Some college/university study without earning a bachelor's degree    0.150194\n",
      "Master's degree                                                      0.216888\n",
      "Bachelor's degree                                                    0.423987\n",
      "Name: FormalEducation, dtype: float64\n"
     ]
    },
    {
     "data": {
      "image/png": "[encoded data removed]",
      "text/plain": [
       "<Figure size 432x288 with 1 Axes>"
      ]
     },
     "metadata": {
      "needs_background": "light"
     },
     "output_type": "display_data"
    }
   ],
   "source": [
    "d.viz_freq(df, \"FormalEducation\", norm=True, asc=True)"
   ]
  },
  {
   "cell_type": "code",
   "execution_count": 4,
   "id": "51b3a1af",
   "metadata": {},
   "outputs": [
    {
     "name": "stdout",
     "output_type": "stream",
     "text": [
      "Israel            0.017694\n",
      "Netherlands       0.019527\n",
      "Australia         0.020888\n",
      "France            0.027327\n",
      "Poland            0.036331\n",
      "Canada            0.045754\n",
      "Germany           0.069993\n",
      "United Kingdom    0.074547\n",
      "India             0.081510\n",
      "United States     0.228458\n",
      "Name: Country, dtype: float64\n"
     ]
    },
    {
     "data": {
      "image/png": "[encoded data removed]",
      "text/plain": [
       "<Figure size 432x288 with 1 Axes>"
      ]
     },
     "metadata": {
      "needs_background": "light"
     },
     "output_type": "display_data"
    }
   ],
   "source": [
    "# Country\n",
    "d.viz_freq(df, \"Country\", top_k=10, norm=True, asc=True)"
   ]
  },
  {
   "cell_type": "code",
   "execution_count": null,
   "id": "5fc97691",
   "metadata": {},
   "outputs": [],
   "source": []
  }
 ],
 "metadata": {
  "interpreter": {
   "hash": "082e9a3bcad0a290d0001e938aa60b99250c6c2ef33a923c00b70f9826caf4b7"
  },
  "kernelspec": {
   "display_name": "Python 3",
   "language": "python",
   "name": "python3"
  },
  "language_info": {
   "codemirror_mode": {
    "name": "ipython",
    "version": 3
   },
   "file_extension": ".py",
   "mimetype": "text/x-python",
   "name": "python",
   "nbconvert_exporter": "python",
   "pygments_lexer": "ipython3",
   "version": "3.7.9"
  },
  "toc": {
   "base_numbering": 1,
   "nav_menu": {},
   "number_sections": false,
   "sideBar": true,
   "skip_h1_title": false,
   "title_cell": "Table of Contents",
   "title_sidebar": "Contents",
   "toc_cell": false,
   "toc_position": {},
   "toc_section_display": true,
   "toc_window_display": false
  }
 },
 "nbformat": 4,
 "nbformat_minor": 5
}
